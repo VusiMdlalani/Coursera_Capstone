{
 "cells": [
  {
   "cell_type": "markdown",
   "metadata": {},
   "source": [
    "# 1. INTRODUCTION\n",
    "## 1.1. BACKGROUND\n",
    "The primary function of the pharmaceutical and medicine manufacturing is to create value by discovering and producing effective medicines, vaccines and services that improve patients’ well-being, and can be sold in markets at a profit. As well as increasing shareholder value, this contributes significantly to the quality and protection of life and helps make the world a better place.\n",
    "\n",
    "In the past 60 years, innovation and technology have driven huge improvements in global health. According to the Human Development Report 2010, growth in life expectancy that took over 300 years to achieve in developed countries has been secured by developing countries in just half a century, thanks largely to innovations in medicine and other public health interventions.\n",
    "\n",
    "Pharmaceutical manufacturing is a niche and tough business. Nevertheless, like any other business, it has its own time-tested business models that have allowed numerous companies to be successful in this field. With each model, numerous economic decisions are made that may not always be in sync with engineering decisions. In addition, as times change, newer business models are introduced. \n",
    "\n",
    "The days of big pharmaceutical companies owning many manufacturing plants are slowly ending, and every company, no matter what size, is looking for ways to lessen costs to survive in an increasingly tough and unpredictable economic climate. Therefore, pressure is increasing on all disciplines in pharmaceutical development to optimize their operations. One of the best ways to make sure that your pharmaceuticals factory is a success is to make sure that it has economic advantage in terms of transportation costs, customers and location of the factory.\n",
    "\n",
    "New York City is the most diverse and populated city in the United States. In New York, you’ll find almost every race and language you can think of under the sun, hence the common moniker, “the melting pot of the world.” The city is made up of 5 boroughs: Manhattan, Brooklyn, Queens, the Bronx and Staten Island, all of which are grouped together into a single city.\n",
    "\n",
    "New York City is widely recognized as the global center for the financial services industry. It’s also the heartbeat of the American publishing industry (traditional anyway), media, entertainment (along with California), telecommunications, law and advertising industries. The city houses the main headquarters for many global corporations and business entities. The city is not popular of having pharmaceutical manufactures. It is widely known that pharmaceutical manufacturing can be housed indoors in contrast to other chemical plants like petrol manufacturing. Starting a pharmaceutical manufacturing factory in New York can be advantagious for investors as the competition in the city is minimal."
   ]
  },
  {
   "cell_type": "markdown",
   "metadata": {},
   "source": [
    "## 1.2. PROBLEM STATEMENT \n",
    "Pharmaceutical manufacturing companies proof to be very crucial in the survival and the wellbeing of life. In the corona virus pandemic we have come to realize the importance of having large and efficient reliable supply of pharmaceuticals/medication. Multiple medium pharmaceutical factories can be very important in helping to reduce scarcity of medication and pharmaceutical products. This is very crucial especially in densely populated cities such as New York city. These pharmaceutical factories will not only help with the supply of medication and pharmaceutical products, but will also increase job availability in the densely populated city. The objective of this study is to explore neighborhoods in New York City to find the best location to open a small to medium scale pharmaceutical/Medicine manufacturing company.\n",
    "\n",
    "The company should have a wide variety of employees in terms of cultural diversity to promote a variety of perspectives, increased creativity, global impact, improved performance and boost the brands reputation. Cultural diversity will allow ethical way of medical research by allowing diverse employees to express their different beliefs and views. The company will have a global impact by making sure that cultural diversity allows the delivery of different kinds of medication practiced across the world, this will be advantageous to the company by allowing these diverse employees to come up with new ways of manufacturing and researching medicinal products and have wide variety of medicine for the diverse population of New York city."
   ]
  },
  {
   "cell_type": "markdown",
   "metadata": {},
   "source": [
    "## 1.3. TARGET AUDIENCE\n",
    "This report will be of most value to the following class of people:\n",
    "1. Investors who are looking to open a startup or medium pharmaceutical/medicine production company.\n",
    "2. Doctors who are looking to open up a practice next to the area that has many pharmacies within a smaller radius.\n",
    "3. Investors who would like to open pharmacies in an area that does not have many pharmacies which reduces competition.\n",
    "4. Government officials or private companies looking to open a hospital in a area that will be convenient for patients to obtain wide variety of medication from different kinds of pharmacies.\n",
    "5. Jop seekers who are looking to work in pharmacies, this study will show them areas which have dense distribution of pharmacies for them to go and job hunt at. "
   ]
  },
  {
   "cell_type": "markdown",
   "metadata": {},
   "source": [
    "# 2. DATA"
   ]
  },
  {
   "cell_type": "markdown",
   "metadata": {},
   "source": [
    "## 2.1. New York Citie's Demographic, Race and Ethnicity Data \n",
    "The data that will be used is New York city's population race and ethnicity data. The demographic data of New York city will also be used to explore New York city. They will be found at the below links:\\\n",
    "Data source 1 : https://en.wikipedia.org/wiki/New_York_City \\\n",
    "Data source 2 : https://en.wikipedia.org/wiki/Demographics_of_New_York_City\n",
    "\n",
    "Web scraping techniques were used to get the New York city's race and ethnicity data of the population and the population's demographic data from Wikipedia. This data will be used to study the population density of neighborhoods and boroughs in New York city, the cultural diversity of the neighborhoods and boroughs will also be studied. This information will motivate the location of the pharmacy by looking at diversity and population density which is related to number of customers to pharmacies and therefore allow pharmacies to buy more often from the pharmaceutical factory.\n",
    "\n",
    "New York Citie's population data was scraped from Wikipedia and cleaned to obtain a data frame with borough, county, population, gdp per capita, land per square kilometre and persons per square kilometre.\n",
    "\n",
    "New York citie's population race and ethnicity demographic data was scraped from Wikipedia and cleaned to obtain a data frame that has jurisdiction which is the borough, percentage distribution of white, black or african american, asian, mixed, hispanic latino and other races.\n",
    "\n",
    "The following are the attributes available in the demographic data frame:\n",
    "\n",
    "[\"borough\",\"county\", \"population\", \"gdp_per_capita\", \"persons_sqkm\",\"land_sqkm\"]\n",
    "\n",
    "\n",
    "The following are the attributes available in the ethinic distribution data frame:\n",
    "\n",
    "[\"borough\",\"%_white\", \"%_black_or_african_amercian\", \"%_Asian\", \"%_other\", \"%_mixed_race\", \"%_hispanic_latino_of_other_race\"]\n",
    "\n",
    "\n",
    "## 2.2. New York Citie's FourSquare API Data \n",
    "The second set of data that will be used is the New York city's data containing list of boroughs, neighbourhoods along with their latitude and longitude. The data will be obtained from FourSquare API. Four Square API will also be used to obtain all the pharmacies in New York city and their location data.\n",
    "\n",
    "The second set of data from FourSquare API will be used to study pharmacies locations in New York city to determine the areas with high number of pharmacies. This information will allow the determination of the best pharmaceutical factory location for the small to medium scale factory to ensure the factory has many pharmacies nearby to reduce operating costs such as transportation and have many pharmacy to supply to at a lower cost of factory transport operation.\n",
    "\n",
    "Neighborhoods of New York city were obtained using FourSquare API. The New York City data was cleaned to get a  list of Boroughs, Neighbourhoods along with their latitude and longitude.\n",
    "\n",
    "The venue details of the pharmacies such as count , rating , tip counts for a given pharmacy id were pulled to determine customer support of the pharmacies to get an idea of which pharmacies have higher customer support.\n",
    "\n",
    "A data frame containing a list of pharmacies in each neighborhood was pulled from foursquare and merged with the boroughs data frame on boroughs to plot them on a map by borough in order to determine the best possible location to locate a pharmaceutical factory.\n",
    "\n",
    "The following shows the attributes available in the New York City FourSquare data frame of boroughs:\n",
    "\n",
    "['Borough', 'Neighborhood', 'Latitude', 'Longitude']\n",
    "\n",
    "\n",
    "The following shows the attributes available in the New York City FourSquare data frame of pharmacies:\n",
    "\n",
    "[\"Borough\",\"Neighborhood\",\"ID\",\"Name\"]"
   ]
  },
  {
   "cell_type": "code",
   "execution_count": null,
   "metadata": {},
   "outputs": [],
   "source": []
  }
 ],
 "metadata": {
  "kernelspec": {
   "display_name": "Python",
   "language": "python",
   "name": "conda-env-python-py"
  },
  "language_info": {
   "codemirror_mode": {
    "name": "ipython",
    "version": 3
   },
   "file_extension": ".py",
   "mimetype": "text/x-python",
   "name": "python",
   "nbconvert_exporter": "python",
   "pygments_lexer": "ipython3",
   "version": "3.6.10"
  }
 },
 "nbformat": 4,
 "nbformat_minor": 4
}
