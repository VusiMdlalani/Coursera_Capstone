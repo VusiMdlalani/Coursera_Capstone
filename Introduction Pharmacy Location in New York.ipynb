{
 "cells": [
  {
   "cell_type": "markdown",
   "metadata": {},
   "source": [
    "# 1. INTRODUCTION\n",
    "## 1.1. BACKGROUND\n",
    "The primary function of the pharmaceutical and medicine manufacturing is to create value by discovering and producing effective medicines, vaccines and services that improve patients’ well-being, and can be sold in markets at a profit. As well as increasing shareholder value, this contributes significantly to the quality and protection of life and helps make the world a better place.\n",
    "\n",
    "In the past 60 years, innovation and technology have driven huge improvements in global health. According to the Human Development Report 2010, growth in life expectancy that took over 300 years to achieve in developed countries has been secured by developing countries in just half a century, thanks largely to innovations in medicine and other public health interventions.\n",
    "\n",
    "Pharmaceutical manufacturing is a niche and tough business. Nevertheless, like any other business, it has its own time-tested business models that have allowed numerous companies to be successful in this field. With each model, numerous economic decisions are made that may not always be in sync with engineering decisions. In addition, as times change, newer business models are introduced. \n",
    "\n",
    "The days of big pharmaceutical companies owning many manufacturing plants are slowly ending, and every company, no matter what size, is looking for ways to lessen costs to survive in an increasingly tough and unpredictable economic climate. Therefore, pressure is increasing on all disciplines in pharmaceutical development to optimize their operations. One of the best ways to make sure that your pharmaceuticals factory is a success is to make sure that it has economic advantage in terms of transportation costs, customers and location of the factory.\n",
    "\n",
    "New York City is the most diverse and populated city in the United States. In New York, you’ll find almost every race and language you can think of under the sun, hence the common moniker, “the melting pot of the world.” The city is made up of 5 boroughs: Manhattan, Brooklyn, Queens, the Bronx and Staten Island, all of which are grouped together into a single city.\n",
    "\n",
    "New York City is widely recognized as the global center for the financial services industry. It’s also the heartbeat of the American publishing industry (traditional anyway), media, entertainment (along with California), telecommunications, law and advertising industries. The city houses the main headquarters for many global corporations and business entities. The city is not popular of having pharmaceutical manufactures. It is widely known that pharmaceutical manufacturing can be housed indoors in contrast to other chemical plants like petrol manufacturing. Starting a pharmaceutical manufacturing factory in New York can be advantagious for investors as the competition in the city is minimal."
   ]
  },
  {
   "cell_type": "markdown",
   "metadata": {},
   "source": [
    "## 1.2. PROBLEM STATEMENT \n",
    "Pharmaceutical manufacturing companies proof to be very crucial in the survival and the wellbeing of life. In the corona virus pandemic we have come to realize the importance of having large and efficient reliable supply of pharmaceuticals/medication. Multiple medium pharmaceutical factories can be very important in helping to reduce scarcity of medication and pharmaceutical products. This is very crucial especially in densely populated cities such as New York city. These pharmaceutical factories will not only help with the supply of medication and pharmaceutical products, but will also increase job availability in the densely populated city. The objective of this study is to explore neighborhoods in New York City to find the best location to open a small to medium scale pharmaceutical/Medicine manufacturing company.\n",
    "\n",
    "The company should have a wide variety of employees in terms of cultural diversity to promote a variety of perspectives, increased creativity, global impact, improved performance and boost the brands reputation. Cultural diversity will allow ethical way of medical research by allowing diverse employees to express their different beliefs and views. The company will have a global impact by making sure that cultural diversity allows the delivery of different kinds of medication practiced across the world, this will be advantageous to the company by allowing these diverse employees to come up with new ways of manufacturing and researching medicinal products and have wide variety of medicine for the diverse population of New York city."
   ]
  },
  {
   "cell_type": "markdown",
   "metadata": {},
   "source": [
    "## 1.3. TARGET AUDIENCE\n",
    "This report will be of most value to the following class of people:\n",
    "1. Investors who are looking to open a startup or medium pharmaceutical/medicine production company.\n",
    "2. Doctors who are looking to open up a practice next to the area that has many pharmacies within a smaller radius.\n",
    "3. Investors who would like to open pharmacies in an area that does not have many pharmacies which reduces competition.\n",
    "4. Government officials or private companies looking to open a hospital in a area that will be convenient for patients to obtain wide variety of medication from different kinds of pharmacies.\n",
    "5. Jop seekers who are looking to work in pharmacies, this study will show them areas which have dense distribution of pharmacies for them to go and job hunt at. "
   ]
  },
  {
   "cell_type": "code",
   "execution_count": null,
   "metadata": {},
   "outputs": [],
   "source": []
  }
 ],
 "metadata": {
  "kernelspec": {
   "display_name": "Python",
   "language": "python",
   "name": "conda-env-python-py"
  },
  "language_info": {
   "codemirror_mode": {
    "name": "ipython",
    "version": 3
   },
   "file_extension": ".py",
   "mimetype": "text/x-python",
   "name": "python",
   "nbconvert_exporter": "python",
   "pygments_lexer": "ipython3",
   "version": "3.6.10"
  }
 },
 "nbformat": 4,
 "nbformat_minor": 4
}
