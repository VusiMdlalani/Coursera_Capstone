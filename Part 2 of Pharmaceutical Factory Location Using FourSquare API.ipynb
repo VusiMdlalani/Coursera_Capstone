{
 "cells": [
  {
   "cell_type": "markdown",
   "metadata": {},
   "source": [
    "### The Business Problem\n",
    "The objective of this study is to study neighborhoods in New York City to find the best neighborhood to open a pharmaceutical/Medicine manufacturing company. The company should have a wide variety of employees in terms of cultural diversity to promote a variety of perspectives, increased creativity, global impact, reduced fear, improved performance and boost the brand’s reputation."
   ]
  },
  {
   "cell_type": "code",
   "execution_count": 1,
   "metadata": {},
   "outputs": [
    {
     "name": "stdout",
     "output_type": "stream",
     "text": [
      "Collecting bs4\n",
      "  Downloading https://files.pythonhosted.org/packages/10/ed/7e8b97591f6f456174139ec089c769f89a94a1a4025fe967691de971f314/bs4-0.0.1.tar.gz\n",
      "Collecting beautifulsoup4 (from bs4)\n",
      "\u001b[?25l  Downloading https://files.pythonhosted.org/packages/e8/b5/7bb03a696f2c9b7af792a8f51b82974e51c268f15e925fc834876a4efa0b/beautifulsoup4-4.9.0-py3-none-any.whl (109kB)\n",
      "\u001b[K     |████████████████████████████████| 112kB 22.7MB/s eta 0:00:01\n",
      "\u001b[?25hCollecting soupsieve>1.2 (from beautifulsoup4->bs4)\n",
      "  Downloading https://files.pythonhosted.org/packages/05/cf/ea245e52f55823f19992447b008bcbb7f78efc5960d77f6c34b5b45b36dd/soupsieve-2.0-py2.py3-none-any.whl\n",
      "Building wheels for collected packages: bs4\n",
      "  Building wheel for bs4 (setup.py) ... \u001b[?25ldone\n",
      "\u001b[?25h  Stored in directory: /home/jupyterlab/.cache/pip/wheels/a0/b0/b2/4f80b9456b87abedbc0bf2d52235414c3467d8889be38dd472\n",
      "Successfully built bs4\n",
      "Installing collected packages: soupsieve, beautifulsoup4, bs4\n",
      "Successfully installed beautifulsoup4-4.9.0 bs4-0.0.1 soupsieve-2.0\n",
      "Note: you may need to restart the kernel to use updated packages.\n"
     ]
    }
   ],
   "source": [
    "pip install bs4"
   ]
  },
  {
   "cell_type": "code",
   "execution_count": 2,
   "metadata": {},
   "outputs": [
    {
     "name": "stdout",
     "output_type": "stream",
     "text": [
      "Collecting geopy\n",
      "\u001b[?25l  Downloading https://files.pythonhosted.org/packages/53/fc/3d1b47e8e82ea12c25203929efb1b964918a77067a874b2c7631e2ec35ec/geopy-1.21.0-py2.py3-none-any.whl (104kB)\n",
      "\u001b[K     |████████████████████████████████| 112kB 6.2MB/s eta 0:00:01\n",
      "\u001b[?25hCollecting geographiclib<2,>=1.49 (from geopy)\n",
      "  Downloading https://files.pythonhosted.org/packages/8b/62/26ec95a98ba64299163199e95ad1b0e34ad3f4e176e221c40245f211e425/geographiclib-1.50-py3-none-any.whl\n",
      "Installing collected packages: geographiclib, geopy\n",
      "Successfully installed geographiclib-1.50 geopy-1.21.0\n",
      "Note: you may need to restart the kernel to use updated packages.\n"
     ]
    }
   ],
   "source": [
    "pip install geopy"
   ]
  },
  {
   "cell_type": "code",
   "execution_count": 3,
   "metadata": {},
   "outputs": [
    {
     "name": "stdout",
     "output_type": "stream",
     "text": [
      "Libraries imported.\n"
     ]
    }
   ],
   "source": [
    "import pandas as pd\n",
    "import numpy as np\n",
    "\n",
    "pd.set_option('display.max_columns', None)\n",
    "pd.set_option('display.max_rows', None)\n",
    "\n",
    "import requests\n",
    "from bs4 import BeautifulSoup\n",
    "from geopy.geocoders import Nominatim # convert an address into latitude and longitude values\n",
    "#!conda install -c conda-forge folium\n",
    "\n",
    "import os\n",
    "import folium # map rendering library\n",
    "# Matplotlib and associated plotting modules\n",
    "\n",
    "import matplotlib.pyplot as plt\n",
    "import matplotlib.cm as cm\n",
    "import matplotlib.colors as colors\n",
    "import matplotlib as mp\n",
    "import re\n",
    "import csv\n",
    "%matplotlib inline\n",
    "\n",
    "\n",
    "print('Libraries imported.')"
   ]
  },
  {
   "cell_type": "markdown",
   "metadata": {},
   "source": [
    "##### Obtaining Neighborhoods using FourSquare API & New York City data that contains list of Boroughs, Neighbourhoods along with their latitude and longitude."
   ]
  },
  {
   "cell_type": "code",
   "execution_count": 4,
   "metadata": {},
   "outputs": [],
   "source": [
    "def geo_location(address):\n",
    "    # get geo location of address\n",
    "    geolocator = Nominatim(user_agent=\"ny_explorer\")\n",
    "    locatidn = geolocator.geocode(address)\n",
    "    latitude = location.latitude\n",
    "    longitude = location.longitude\n",
    "    return latitude,longitude"
   ]
  },
  {
   "cell_type": "markdown",
   "metadata": {},
   "source": [
    "##### A function to interact with FourSquare API and get top 500 venues within a radius of 2000 metres for a given latitude and longitude. This will ensure that all pharmacies are extracted."
   ]
  },
  {
   "cell_type": "code",
   "execution_count": 104,
   "metadata": {},
   "outputs": [],
   "source": [
    "def get_venues(lat,lng):\n",
    "    \n",
    "    #set variables\n",
    "    radius=2000\n",
    "    LIMIT=500\n",
    "    CLIENT_ID = 'FM32E0UU4KR1WU4VZIG1F5G1J2XFMKEGNF52UGPTSQ1J1CF1'# Foursquare ID\n",
    "    CLIENT_SECRET ='R5SUZ4FBHNDVUMHP15ZKFIKI5VCQBLGPYSFGZY2LYQXMILX2' # Foursquare Secret\n",
    "    VERSION = '20180605' # Foursquare API version\n",
    "    #url to fetch data from foursquare api\n",
    "    url = 'https://api.foursquare.com/v2/venues/explore?&client_id={}&client_secret={}&v={}&ll={},{}&radius={}&limit={}'.format(\n",
    "            CLIENT_ID, \n",
    "            CLIENT_SECRET, \n",
    "            VERSION, \n",
    "            lat, \n",
    "            lng, \n",
    "            radius, \n",
    "            LIMIT)\n",
    "    \n",
    "    # get all the data\n",
    "    results = requests.get(url).json()\n",
    "    venue_data=results[\"response\"]['groups'][0]['items']\n",
    "    venue_details=[]\n",
    "    for row in venue_data:\n",
    "        try:\n",
    "            venue_id=row['venue']['id']\n",
    "            venue_name=row['venue']['name']\n",
    "            venue_category=row['venue']['categories'][0]['name']\n",
    "            venue_details.append([venue_id,venue_name,venue_category])\n",
    "        except KeyError:\n",
    "            pass\n",
    "        \n",
    "    column_names=['ID','Name','Category']\n",
    "    df = pd.DataFrame(venue_details,columns=column_names)\n",
    "    return df"
   ]
  },
  {
   "cell_type": "markdown",
   "metadata": {},
   "source": [
    " ##### Defining a function to get venue details such as count , rating , tip counts for a given pharmacy id. to be used for ranking."
   ]
  },
  {
   "cell_type": "code",
   "execution_count": 103,
   "metadata": {},
   "outputs": [],
   "source": [
    "def get_venue_details(venue_id):\n",
    "        \n",
    "    CLIENT_ID = 'FM32E0UU4KR1WU4VZIG1F5G1J2XFMKEGNF52UGPTSQ1J1CF1'# Foursquare ID\n",
    "    CLIENT_SECRET ='R5SUZ4FBHNDVUMHP15ZKFIKI5VCQBLGPYSFGZY2LYQXMILX2' # Foursquare Secret\n",
    "    VERSION = '20180605' # Foursquare API version\n",
    "    \n",
    "    #url to fetch data from foursquare api\n",
    "    url = 'https://api.foursquare.com/v2/venues/{}?&client_id={}&client_secret={}&v={}'.format(\n",
    "            venue_id,\n",
    "            CLIENT_ID, \n",
    "            CLIENT_SECRET, \n",
    "            VERSION)\n",
    "    \n",
    "    # get all the data\n",
    "    results = requests.get(url).json()\n",
    "    venue_data=results['response']['venue']\n",
    "    venue_details=[]\n",
    "    try:\n",
    "        venue_id=venue_data['id']\n",
    "        venue_name=venue_data['name']\n",
    "        venue_likes=venue_data['likes']['count']\n",
    "        venue_rating=venue_data['rating']\n",
    "        venue_tips=venue_data['tips']['count']\n",
    "        venue_details.append([venue_id,venue_name,venue_likes,venue_rating,venue_tips])\n",
    "    except KeyError:\n",
    "        pass\n",
    "        \n",
    "    column_names=['ID','Name','Likes','Rating','Tips']\n",
    "    df = pd.DataFrame(venue_details,columns=column_names)\n",
    "    return df"
   ]
  },
  {
   "cell_type": "markdown",
   "metadata": {},
   "source": [
    "##### Defining a funtion to get the New York city data such as Boroughs, Neighborhoods along with their latitude and longitude."
   ]
  },
  {
   "cell_type": "code",
   "execution_count": 16,
   "metadata": {},
   "outputs": [],
   "source": [
    "def get_new_york_data():\n",
    "    url='https://cocl.us/new_york_dataset'\n",
    "    resp=requests.get(url).json()\n",
    "    # all data is present in features label\n",
    "    features=resp['features']\n",
    "    \n",
    "    # define the dataframe columns\n",
    "    column_names = ['Borough', 'Neighborhood', 'Latitude', 'Longitude'] \n",
    "    \n",
    "    new_york_data = pd.DataFrame(columns=column_names)\n",
    "    \n",
    "    for data in features:\n",
    "        borough = data['properties']['borough'] \n",
    "        neighborhood_name = data['properties']['name']\n",
    "        \n",
    "        neighborhood_latlon = data['geometry']['coordinates']\n",
    "        neighborhood_lat = neighborhood_latlon[1]\n",
    "        neighborhood_lon = neighborhood_latlon[0]\n",
    "    \n",
    "        new_york_data = new_york_data.append({'Borough': borough,\n",
    "                                          'Neighborhood': neighborhood_name,\n",
    "                                          'Latitude': neighborhood_lat,\n",
    "                                          'Longitude': neighborhood_lon}, ignore_index=True)\n",
    "    \n",
    "    return new_york_data"
   ]
  },
  {
   "cell_type": "markdown",
   "metadata": {},
   "source": [
    "Data Frame containing the data of New York"
   ]
  },
  {
   "cell_type": "code",
   "execution_count": 17,
   "metadata": {},
   "outputs": [],
   "source": [
    "# Getting new york data\n",
    "new_york_data=get_new_york_data()"
   ]
  },
  {
   "cell_type": "code",
   "execution_count": 18,
   "metadata": {},
   "outputs": [
    {
     "data": {
      "text/html": [
       "<div>\n",
       "<style scoped>\n",
       "    .dataframe tbody tr th:only-of-type {\n",
       "        vertical-align: middle;\n",
       "    }\n",
       "\n",
       "    .dataframe tbody tr th {\n",
       "        vertical-align: top;\n",
       "    }\n",
       "\n",
       "    .dataframe thead th {\n",
       "        text-align: right;\n",
       "    }\n",
       "</style>\n",
       "<table border=\"1\" class=\"dataframe\">\n",
       "  <thead>\n",
       "    <tr style=\"text-align: right;\">\n",
       "      <th></th>\n",
       "      <th>Borough</th>\n",
       "      <th>Neighborhood</th>\n",
       "      <th>Latitude</th>\n",
       "      <th>Longitude</th>\n",
       "    </tr>\n",
       "  </thead>\n",
       "  <tbody>\n",
       "    <tr>\n",
       "      <th>301</th>\n",
       "      <td>Manhattan</td>\n",
       "      <td>Hudson Yards</td>\n",
       "      <td>40.756658</td>\n",
       "      <td>-74.000111</td>\n",
       "    </tr>\n",
       "    <tr>\n",
       "      <th>302</th>\n",
       "      <td>Queens</td>\n",
       "      <td>Hammels</td>\n",
       "      <td>40.587338</td>\n",
       "      <td>-73.805530</td>\n",
       "    </tr>\n",
       "    <tr>\n",
       "      <th>303</th>\n",
       "      <td>Queens</td>\n",
       "      <td>Bayswater</td>\n",
       "      <td>40.611322</td>\n",
       "      <td>-73.765968</td>\n",
       "    </tr>\n",
       "    <tr>\n",
       "      <th>304</th>\n",
       "      <td>Queens</td>\n",
       "      <td>Queensbridge</td>\n",
       "      <td>40.756091</td>\n",
       "      <td>-73.945631</td>\n",
       "    </tr>\n",
       "    <tr>\n",
       "      <th>305</th>\n",
       "      <td>Staten Island</td>\n",
       "      <td>Fox Hills</td>\n",
       "      <td>40.617311</td>\n",
       "      <td>-74.081740</td>\n",
       "    </tr>\n",
       "  </tbody>\n",
       "</table>\n",
       "</div>"
      ],
      "text/plain": [
       "           Borough  Neighborhood   Latitude  Longitude\n",
       "301      Manhattan  Hudson Yards  40.756658 -74.000111\n",
       "302         Queens       Hammels  40.587338 -73.805530\n",
       "303         Queens     Bayswater  40.611322 -73.765968\n",
       "304         Queens  Queensbridge  40.756091 -73.945631\n",
       "305  Staten Island     Fox Hills  40.617311 -74.081740"
      ]
     },
     "execution_count": 18,
     "metadata": {},
     "output_type": "execute_result"
    }
   ],
   "source": [
    "new_york_data.tail()"
   ]
  },
  {
   "cell_type": "code",
   "execution_count": 19,
   "metadata": {},
   "outputs": [
    {
     "data": {
      "text/plain": [
       "(306, 4)"
      ]
     },
     "execution_count": 19,
     "metadata": {},
     "output_type": "execute_result"
    }
   ],
   "source": [
    "new_york_data.shape"
   ]
  },
  {
   "cell_type": "markdown",
   "metadata": {},
   "source": [
    "There 306 neighborhoods in New York City. "
   ]
  },
  {
   "cell_type": "markdown",
   "metadata": {},
   "source": [
    "I am now groping the Neighborhoods in New York City By Borough"
   ]
  },
  {
   "cell_type": "code",
   "execution_count": 20,
   "metadata": {},
   "outputs": [],
   "source": [
    "dat=new_york_data.groupby('Borough')['Neighborhood'].count()"
   ]
  },
  {
   "cell_type": "code",
   "execution_count": 21,
   "metadata": {},
   "outputs": [
    {
     "data": {
      "image/png": "[encoded data removed]",
      "text/plain": [
       "<Figure size 640x480 with 1 Axes>"
      ]
     },
     "metadata": {},
     "output_type": "display_data"
    }
   ],
   "source": [
    "import matplotlib.pyplot as plt\n",
    "import numpy as np\n",
    "\n",
    "plt.rcdefaults()\n",
    "fig, ax = plt.subplots()\n",
    "\n",
    "# Example data\n",
    "y_pos = np.arange(len(dat))\n",
    "boroughs = ('Brooklyn', 'Queens', 'Manhattan', 'Bronx', 'Staten Island')\n",
    "\n",
    "ax.barh(y_pos, dat)\n",
    "ax.set_yticks(y_pos)\n",
    "ax.set_yticklabels(boroughs)\n",
    "ax.invert_yaxis()  # labels read top-to-bottom\n",
    "ax.set_xlabel(\"Number of Neighborhoods\")\n",
    "ax.set_title(\"Number of Neighborhoods in the New York City's Boroughs\")\n",
    "\n",
    "plt.show()"
   ]
  },
  {
   "cell_type": "markdown",
   "metadata": {},
   "source": [
    "##### Based on the dataset, there are a total of 306 different Neighborhoods in New York to select Pharmacies from."
   ]
  },
  {
   "cell_type": "code",
   "execution_count": 22,
   "metadata": {},
   "outputs": [
    {
     "data": {
      "text/html": [
       "<div>\n",
       "<style scoped>\n",
       "    .dataframe tbody tr th:only-of-type {\n",
       "        vertical-align: middle;\n",
       "    }\n",
       "\n",
       "    .dataframe tbody tr th {\n",
       "        vertical-align: top;\n",
       "    }\n",
       "\n",
       "    .dataframe thead th {\n",
       "        text-align: right;\n",
       "    }\n",
       "</style>\n",
       "<table border=\"1\" class=\"dataframe\">\n",
       "  <thead>\n",
       "    <tr style=\"text-align: right;\">\n",
       "      <th></th>\n",
       "      <th>Borough</th>\n",
       "      <th>Neighborhood</th>\n",
       "      <th>Latitude</th>\n",
       "      <th>Longitude</th>\n",
       "    </tr>\n",
       "  </thead>\n",
       "  <tbody>\n",
       "    <tr>\n",
       "      <th>304</th>\n",
       "      <td>Queens</td>\n",
       "      <td>Queensbridge</td>\n",
       "      <td>40.756091</td>\n",
       "      <td>-73.945631</td>\n",
       "    </tr>\n",
       "    <tr>\n",
       "      <th>305</th>\n",
       "      <td>Staten Island</td>\n",
       "      <td>Fox Hills</td>\n",
       "      <td>40.617311</td>\n",
       "      <td>-74.081740</td>\n",
       "    </tr>\n",
       "  </tbody>\n",
       "</table>\n",
       "</div>"
      ],
      "text/plain": [
       "           Borough  Neighborhood   Latitude  Longitude\n",
       "304         Queens  Queensbridge  40.756091 -73.945631\n",
       "305  Staten Island     Fox Hills  40.617311 -74.081740"
      ]
     },
     "execution_count": 22,
     "metadata": {},
     "output_type": "execute_result"
    }
   ],
   "source": [
    "new_york_data.tail(2)"
   ]
  },
  {
   "cell_type": "markdown",
   "metadata": {},
   "source": [
    "The Following code extracts all Pharmacies in the New City's Neighborhoods"
   ]
  },
  {
   "cell_type": "code",
   "execution_count": 23,
   "metadata": {},
   "outputs": [],
   "source": [
    "# Preparing neighborhood list that contains Pharmacies\n",
    "column_names=['Borough', 'Neighborhood', 'ID','Name']\n",
    "pharmacy_ny=pd.DataFrame(columns=column_names)\n",
    "count=1\n",
    "for row in new_york_data.values.tolist():\n",
    "    Borough, Neighborhood, Latitude, Longitude=row\n",
    "    venues = get_venues(Latitude,Longitude)\n",
    "    pharmacies=venues[venues['Category']=='Pharmacy']   \n",
    "    #print('(',count,'/',len(new_york_data),')','Pharmacies in '+Neighborhood+', '+Borough+':'+str(len(pharmacies)))\n",
    "    for Pharmacy_detail in pharmacies.values.tolist():\n",
    "        id, name , category=Pharmacy_detail\n",
    "        pharmacy_ny = pharmacy_ny.append({'Borough': Borough,\n",
    "                                                'Neighborhood': Neighborhood, \n",
    "                                                'ID': id,\n",
    "                                                'Name' : name\n",
    "                                               }, ignore_index=True)\n",
    "    count+=1"
   ]
  },
  {
   "cell_type": "markdown",
   "metadata": {},
   "source": [
    "The following data frame contains all Pharmacies, their borough, Neighborhood, ID and Pharmacy name"
   ]
  },
  {
   "cell_type": "code",
   "execution_count": 24,
   "metadata": {
    "scrolled": true
   },
   "outputs": [
    {
     "data": {
      "text/html": [
       "<div>\n",
       "<style scoped>\n",
       "    .dataframe tbody tr th:only-of-type {\n",
       "        vertical-align: middle;\n",
       "    }\n",
       "\n",
       "    .dataframe tbody tr th {\n",
       "        vertical-align: top;\n",
       "    }\n",
       "\n",
       "    .dataframe thead th {\n",
       "        text-align: right;\n",
       "    }\n",
       "</style>\n",
       "<table border=\"1\" class=\"dataframe\">\n",
       "  <thead>\n",
       "    <tr style=\"text-align: right;\">\n",
       "      <th></th>\n",
       "      <th>Borough</th>\n",
       "      <th>Neighborhood</th>\n",
       "      <th>ID</th>\n",
       "      <th>Name</th>\n",
       "    </tr>\n",
       "  </thead>\n",
       "  <tbody>\n",
       "    <tr>\n",
       "      <th>500</th>\n",
       "      <td>Queens</td>\n",
       "      <td>Bayswater</td>\n",
       "      <td>50058548e4b07c19de39effd</td>\n",
       "      <td>Vista Pharmacy &amp; Surgical</td>\n",
       "    </tr>\n",
       "    <tr>\n",
       "      <th>501</th>\n",
       "      <td>Staten Island</td>\n",
       "      <td>Fox Hills</td>\n",
       "      <td>4b2ea393f964a5200ae424e3</td>\n",
       "      <td>CVS pharmacy</td>\n",
       "    </tr>\n",
       "    <tr>\n",
       "      <th>502</th>\n",
       "      <td>Staten Island</td>\n",
       "      <td>Fox Hills</td>\n",
       "      <td>4ce97b54595cb1f723e8ce14</td>\n",
       "      <td>Rite Aid</td>\n",
       "    </tr>\n",
       "    <tr>\n",
       "      <th>503</th>\n",
       "      <td>Staten Island</td>\n",
       "      <td>Fox Hills</td>\n",
       "      <td>4df38b0522718759f82017a1</td>\n",
       "      <td>Millers pharmacy</td>\n",
       "    </tr>\n",
       "    <tr>\n",
       "      <th>504</th>\n",
       "      <td>Staten Island</td>\n",
       "      <td>Fox Hills</td>\n",
       "      <td>4c4722f71ddec9289e639c32</td>\n",
       "      <td>Classic Pharmacy, Inc.</td>\n",
       "    </tr>\n",
       "  </tbody>\n",
       "</table>\n",
       "</div>"
      ],
      "text/plain": [
       "           Borough Neighborhood                        ID  \\\n",
       "500         Queens    Bayswater  50058548e4b07c19de39effd   \n",
       "501  Staten Island    Fox Hills  4b2ea393f964a5200ae424e3   \n",
       "502  Staten Island    Fox Hills  4ce97b54595cb1f723e8ce14   \n",
       "503  Staten Island    Fox Hills  4df38b0522718759f82017a1   \n",
       "504  Staten Island    Fox Hills  4c4722f71ddec9289e639c32   \n",
       "\n",
       "                          Name  \n",
       "500  Vista Pharmacy & Surgical  \n",
       "501               CVS pharmacy  \n",
       "502                   Rite Aid  \n",
       "503           Millers pharmacy  \n",
       "504     Classic Pharmacy, Inc.  "
      ]
     },
     "execution_count": 24,
     "metadata": {},
     "output_type": "execute_result"
    }
   ],
   "source": [
    "pharmacy_ny.tail()"
   ]
  },
  {
   "cell_type": "code",
   "execution_count": 25,
   "metadata": {},
   "outputs": [
    {
     "data": {
      "text/plain": [
       "(505, 4)"
      ]
     },
     "execution_count": 25,
     "metadata": {},
     "output_type": "execute_result"
    }
   ],
   "source": [
    "pharmacy_ny.shape  "
   ]
  },
  {
   "cell_type": "markdown",
   "metadata": {},
   "source": [
    "The data frame says that there are 498 Pharmacies in New York City, but on careful analysis of unique ID's it was found that there are duplicates ID's pulled from four square API, these duplicates are removed by the following line of code."
   ]
  },
  {
   "cell_type": "code",
   "execution_count": 26,
   "metadata": {},
   "outputs": [],
   "source": [
    "pharmacy_ny_dd=pharmacy_ny.drop_duplicates(subset=['ID'])"
   ]
  },
  {
   "cell_type": "code",
   "execution_count": 27,
   "metadata": {},
   "outputs": [
    {
     "data": {
      "text/plain": [
       "(183, 4)"
      ]
     },
     "execution_count": 27,
     "metadata": {},
     "output_type": "execute_result"
    }
   ],
   "source": [
    "pharmacy_ny_dd.shape"
   ]
  },
  {
   "cell_type": "markdown",
   "metadata": {},
   "source": [
    "After emoving duplicates from all pharmacies data frame it can be seen that only 185 pharmacies have unoque ID's."
   ]
  },
  {
   "cell_type": "code",
   "execution_count": 28,
   "metadata": {},
   "outputs": [
    {
     "data": {
      "image/png": "[encoded data removed]",
      "text/plain": [
       "<Figure size 900x500 with 1 Axes>"
      ]
     },
     "metadata": {},
     "output_type": "display_data"
    }
   ],
   "source": [
    "from matplotlib import pyplot as plt\n",
    "plt.style.use('ggplot')\n",
    "\n",
    "plt.figure(figsize=(9,5), dpi = 100)\n",
    "# title\n",
    "plt.title('Number of Pharmacies in New York City by Borough')\n",
    "#On x-axis\n",
    "plt.xlabel('Borough', fontsize = 15)\n",
    "#On y-axis\n",
    "plt.ylabel('Number of Pharmacies', fontsize=15)\n",
    "#giving a bar plot\n",
    "pharmacy_ny_dd.groupby('Borough')['ID'].count().plot(kind='bar')\n",
    "#legend\n",
    "plt.legend()\n",
    "#displays the plot\n",
    "plt.show()"
   ]
  },
  {
   "cell_type": "markdown",
   "metadata": {},
   "source": [
    "##### Staten Island has the highest number of pharmacies while Queens is the second highest."
   ]
  },
  {
   "cell_type": "code",
   "execution_count": 29,
   "metadata": {},
   "outputs": [
    {
     "data": {
      "text/plain": [
       "Neighborhood\n",
       "Wakefield          6\n",
       "New Springville    5\n",
       "Starrett City      5\n",
       "Great Kills        4\n",
       "Mill Island        4\n",
       "St. Albans         4\n",
       "Todt Hill          4\n",
       "Bellerose          3\n",
       "Canarsie           3\n",
       "Co-op City         3\n",
       "Country Club       3\n",
       "East Flatbush      3\n",
       "Howard Beach       3\n",
       "Hunts Point        3\n",
       "Queens Village     3\n",
       "Rockaway Beach     3\n",
       "Tottenville        3\n",
       "Name: ID, dtype: int64"
      ]
     },
     "execution_count": 29,
     "metadata": {},
     "output_type": "execute_result"
    }
   ],
   "source": [
    "pharmacy_ny_dd.groupby('Neighborhood')['ID'].count().nlargest(17)"
   ]
  },
  {
   "cell_type": "markdown",
   "metadata": {},
   "source": [
    "The following code plots a bar graph of Pharmacies in each neighborhood of new york"
   ]
  },
  {
   "cell_type": "code",
   "execution_count": 30,
   "metadata": {},
   "outputs": [
    {
     "data": {
      "image/png": "[encoded data removed]",
      "text/plain": [
       "<Figure size 900x500 with 1 Axes>"
      ]
     },
     "metadata": {},
     "output_type": "display_data"
    }
   ],
   "source": [
    "from matplotlib import pyplot as plt\n",
    "plt.style.use('ggplot')\n",
    "\n",
    "plt.figure(figsize=(9,5), dpi = 100)\n",
    "# title\n",
    "plt.title('Number of Pharmacies in New York City by Neighbourhood')\n",
    "#On x-axis\n",
    "plt.xlabel('Neighborhood', fontsize = 15)\n",
    "#On y-axis\n",
    "plt.ylabel('Number of Pharmacies', fontsize=15)\n",
    "#giving a bar plot\n",
    "pharmacy_ny_dd.groupby('Neighborhood')['ID'].count().nlargest(5).plot(kind='bar')\n",
    "#legend\n",
    "plt.legend()\n",
    "#displays the plot\n",
    "plt.show()"
   ]
  },
  {
   "cell_type": "markdown",
   "metadata": {},
   "source": [
    "Wakefields in Bronx has the most Pharmacies with a total count of 6."
   ]
  },
  {
   "cell_type": "markdown",
   "metadata": {},
   "source": [
    "The follwoing lines of code will plot the top five neighborhoods and their pharmacies on a map."
   ]
  },
  {
   "cell_type": "code",
   "execution_count": 31,
   "metadata": {},
   "outputs": [],
   "source": [
    "io1=pharmacy_ny[pharmacy_ny['Neighborhood'] == 'Wakefield']\n",
    "io2=pharmacy_ny[pharmacy_ny['Neighborhood']== 'New Springville']\n",
    "io3=pharmacy_ny[pharmacy_ny['Neighborhood']== 'Starrett City']\n",
    "io4=pharmacy_ny[pharmacy_ny['Neighborhood']== 'Todt Hill']\n",
    "io5=pharmacy_ny[pharmacy_ny['Neighborhood']== 'Great Kills']"
   ]
  },
  {
   "cell_type": "code",
   "execution_count": 32,
   "metadata": {},
   "outputs": [],
   "source": [
    "io=pd.concat([io1, io2,io3,io4,io5])"
   ]
  },
  {
   "cell_type": "code",
   "execution_count": 33,
   "metadata": {},
   "outputs": [],
   "source": [
    "top_ny_neighborhood=pd.merge(io,new_york_data, on='Neighborhood')"
   ]
  },
  {
   "cell_type": "code",
   "execution_count": 34,
   "metadata": {},
   "outputs": [],
   "source": [
    "# create map and display it\n",
    "ny_map = folium.Map(location=(40.76158, -74.03478), zoom_start=11)"
   ]
  },
  {
   "cell_type": "code",
   "execution_count": 35,
   "metadata": {},
   "outputs": [],
   "source": [
    "# instantiate a feature group for the incidents in the dataframe\n",
    "Pharmacies = folium.map.FeatureGroup()\n",
    "\n",
    "# loop through the 36 Pharmacies and add each to the incidents feature group\n",
    "for lat, lng, in top_ny_neighborhood[['Latitude','Longitude']].values:\n",
    "    Pharmacies.add_child(\n",
    "        folium.CircleMarker(\n",
    "            [lat, lng],\n",
    "            radius=10, # define how big you want the circle markers to be\n",
    "            color='yellow',\n",
    "            fill=True,\n",
    "            fill_color='blue',\n",
    "            fill_opacity=0.6\n",
    "        )\n",
    "    )"
   ]
  },
  {
   "cell_type": "code",
   "execution_count": 36,
   "metadata": {},
   "outputs": [],
   "source": [
    "top_ny_neighborhood['Label']=top_ny_neighborhood['Neighborhood']+', '+top_ny_neighborhood['Borough_x']+'('+top_ny_neighborhood['Name'].map(str)+')'"
   ]
  },
  {
   "cell_type": "code",
   "execution_count": 37,
   "metadata": {},
   "outputs": [],
   "source": [
    "FactoryData =pd.DataFrame({\n",
    "    'Borough_x' : ['Queens'],\n",
    "    'Neighborhood' : ['College Point'],\n",
    "    'ID' : ['NaN'],\n",
    "    'Name' : ['College Point'],\n",
    "    'Borough_y' : ['Queens'],\n",
    "    'Latitude' : [40.7809],\n",
    "    'Longitude' : [-73.8578],\n",
    "    'Label' : ['Ideal Fatory Location']\n",
    "})"
   ]
  },
  {
   "cell_type": "markdown",
   "metadata": {},
   "source": [
    "The following map of New York City shows the location of the top 5 neighborhoods which have higher number of pharmacies."
   ]
  },
  {
   "cell_type": "code",
   "execution_count": 99,
   "metadata": {},
   "outputs": [
    {
     "data": {
      "text/html": [
       "<div style=\"width:100%;\"><div style=\"position:relative;width:100%;height:0;padding-bottom:60%;\"><iframe src=\"about:blank\" style=\"position:absolute;width:100%;height:100%;left:0;top:0;border:none !important;\" data-html=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 onload=\"this.contentDocument.open();this.contentDocument.write(atob(this.getAttribute('data-html')));this.contentDocument.close();\" allowfullscreen webkitallowfullscreen mozallowfullscreen></iframe></div></div>"
      ],
      "text/plain": [
       "<folium.folium.Map at 0x7f39bcf27630>"
      ]
     },
     "execution_count": 99,
     "metadata": {},
     "output_type": "execute_result"
    }
   ],
   "source": [
    "# add pop-up text to each marker on the map\n",
    "for lat, lng, label in top_ny_neighborhood[['Latitude','Longitude','Label']].values:\n",
    "    folium.Marker([lat, lng], popup=label).add_to(ny_map)        \n",
    "# add incidents to map\n",
    "ny_map.add_child(Pharmacies)"
   ]
  },
  {
   "cell_type": "markdown",
   "metadata": {},
   "source": [
    "The following data frame shows that the 5 neighborhoods contain 26 pharmacied all together. Which is e very small number campared to the total of 185 pharmacies."
   ]
  },
  {
   "cell_type": "code",
   "execution_count": 39,
   "metadata": {},
   "outputs": [
    {
     "data": {
      "text/html": [
       "<div>\n",
       "<style scoped>\n",
       "    .dataframe tbody tr th:only-of-type {\n",
       "        vertical-align: middle;\n",
       "    }\n",
       "\n",
       "    .dataframe tbody tr th {\n",
       "        vertical-align: top;\n",
       "    }\n",
       "\n",
       "    .dataframe thead th {\n",
       "        text-align: right;\n",
       "    }\n",
       "</style>\n",
       "<table border=\"1\" class=\"dataframe\">\n",
       "  <thead>\n",
       "    <tr style=\"text-align: right;\">\n",
       "      <th></th>\n",
       "      <th>Borough_x</th>\n",
       "      <th>Neighborhood</th>\n",
       "      <th>ID</th>\n",
       "      <th>Name</th>\n",
       "      <th>Borough_y</th>\n",
       "      <th>Latitude</th>\n",
       "      <th>Longitude</th>\n",
       "      <th>Label</th>\n",
       "    </tr>\n",
       "  </thead>\n",
       "  <tbody>\n",
       "    <tr>\n",
       "      <th>0</th>\n",
       "      <td>Bronx</td>\n",
       "      <td>Wakefield</td>\n",
       "      <td>4beda0fc6e8c20a14aa97061</td>\n",
       "      <td>Rite Aid</td>\n",
       "      <td>Bronx</td>\n",
       "      <td>40.894705</td>\n",
       "      <td>-73.847201</td>\n",
       "      <td>Wakefield, Bronx(Rite Aid)</td>\n",
       "    </tr>\n",
       "    <tr>\n",
       "      <th>1</th>\n",
       "      <td>Bronx</td>\n",
       "      <td>Wakefield</td>\n",
       "      <td>4bb4deb4a70595218bd41bce</td>\n",
       "      <td>CVS pharmacy</td>\n",
       "      <td>Bronx</td>\n",
       "      <td>40.894705</td>\n",
       "      <td>-73.847201</td>\n",
       "      <td>Wakefield, Bronx(CVS pharmacy)</td>\n",
       "    </tr>\n",
       "    <tr>\n",
       "      <th>2</th>\n",
       "      <td>Bronx</td>\n",
       "      <td>Wakefield</td>\n",
       "      <td>4d6af9426107f04dedeb297a</td>\n",
       "      <td>Rite Aid</td>\n",
       "      <td>Bronx</td>\n",
       "      <td>40.894705</td>\n",
       "      <td>-73.847201</td>\n",
       "      <td>Wakefield, Bronx(Rite Aid)</td>\n",
       "    </tr>\n",
       "    <tr>\n",
       "      <th>3</th>\n",
       "      <td>Bronx</td>\n",
       "      <td>Wakefield</td>\n",
       "      <td>4bd6e0c529eb9c74c1b395e1</td>\n",
       "      <td>Walgreens</td>\n",
       "      <td>Bronx</td>\n",
       "      <td>40.894705</td>\n",
       "      <td>-73.847201</td>\n",
       "      <td>Wakefield, Bronx(Walgreens)</td>\n",
       "    </tr>\n",
       "    <tr>\n",
       "      <th>4</th>\n",
       "      <td>Bronx</td>\n",
       "      <td>Wakefield</td>\n",
       "      <td>4e3b2b9a1495bf24a5bcf1cb</td>\n",
       "      <td>Walgreens</td>\n",
       "      <td>Bronx</td>\n",
       "      <td>40.894705</td>\n",
       "      <td>-73.847201</td>\n",
       "      <td>Wakefield, Bronx(Walgreens)</td>\n",
       "    </tr>\n",
       "    <tr>\n",
       "      <th>5</th>\n",
       "      <td>Bronx</td>\n",
       "      <td>Wakefield</td>\n",
       "      <td>4ff489e3e4b08a4c7173f994</td>\n",
       "      <td>CVS pharmacy</td>\n",
       "      <td>Bronx</td>\n",
       "      <td>40.894705</td>\n",
       "      <td>-73.847201</td>\n",
       "      <td>Wakefield, Bronx(CVS pharmacy)</td>\n",
       "    </tr>\n",
       "    <tr>\n",
       "      <th>6</th>\n",
       "      <td>Staten Island</td>\n",
       "      <td>New Springville</td>\n",
       "      <td>4be5c380d4f7c9b620e32520</td>\n",
       "      <td>Rite Aid</td>\n",
       "      <td>Staten Island</td>\n",
       "      <td>40.594252</td>\n",
       "      <td>-74.164960</td>\n",
       "      <td>New Springville, Staten Island(Rite Aid)</td>\n",
       "    </tr>\n",
       "    <tr>\n",
       "      <th>7</th>\n",
       "      <td>Staten Island</td>\n",
       "      <td>New Springville</td>\n",
       "      <td>4be454f9477d9c74ef8de62d</td>\n",
       "      <td>CVS pharmacy</td>\n",
       "      <td>Staten Island</td>\n",
       "      <td>40.594252</td>\n",
       "      <td>-74.164960</td>\n",
       "      <td>New Springville, Staten Island(CVS pharmacy)</td>\n",
       "    </tr>\n",
       "    <tr>\n",
       "      <th>8</th>\n",
       "      <td>Staten Island</td>\n",
       "      <td>New Springville</td>\n",
       "      <td>4d7940b5109eb1f791be5c06</td>\n",
       "      <td>CVS pharmacy</td>\n",
       "      <td>Staten Island</td>\n",
       "      <td>40.594252</td>\n",
       "      <td>-74.164960</td>\n",
       "      <td>New Springville, Staten Island(CVS pharmacy)</td>\n",
       "    </tr>\n",
       "    <tr>\n",
       "      <th>9</th>\n",
       "      <td>Staten Island</td>\n",
       "      <td>New Springville</td>\n",
       "      <td>4b800621f964a520984b30e3</td>\n",
       "      <td>CVS pharmacy</td>\n",
       "      <td>Staten Island</td>\n",
       "      <td>40.594252</td>\n",
       "      <td>-74.164960</td>\n",
       "      <td>New Springville, Staten Island(CVS pharmacy)</td>\n",
       "    </tr>\n",
       "    <tr>\n",
       "      <th>10</th>\n",
       "      <td>Staten Island</td>\n",
       "      <td>New Springville</td>\n",
       "      <td>4bf225093fa220a1881d1920</td>\n",
       "      <td>Walgreens</td>\n",
       "      <td>Staten Island</td>\n",
       "      <td>40.594252</td>\n",
       "      <td>-74.164960</td>\n",
       "      <td>New Springville, Staten Island(Walgreens)</td>\n",
       "    </tr>\n",
       "    <tr>\n",
       "      <th>11</th>\n",
       "      <td>Brooklyn</td>\n",
       "      <td>Starrett City</td>\n",
       "      <td>4c50b5c90ef3a593ae43c67a</td>\n",
       "      <td>CVS pharmacy</td>\n",
       "      <td>Brooklyn</td>\n",
       "      <td>40.647589</td>\n",
       "      <td>-73.879370</td>\n",
       "      <td>Starrett City, Brooklyn(CVS pharmacy)</td>\n",
       "    </tr>\n",
       "    <tr>\n",
       "      <th>12</th>\n",
       "      <td>Brooklyn</td>\n",
       "      <td>Starrett City</td>\n",
       "      <td>4bdf473affdec928bf5eeba1</td>\n",
       "      <td>CVS pharmacy</td>\n",
       "      <td>Brooklyn</td>\n",
       "      <td>40.647589</td>\n",
       "      <td>-73.879370</td>\n",
       "      <td>Starrett City, Brooklyn(CVS pharmacy)</td>\n",
       "    </tr>\n",
       "    <tr>\n",
       "      <th>13</th>\n",
       "      <td>Brooklyn</td>\n",
       "      <td>Starrett City</td>\n",
       "      <td>4c6015d023e303bb82dc7407</td>\n",
       "      <td>Walgreens</td>\n",
       "      <td>Brooklyn</td>\n",
       "      <td>40.647589</td>\n",
       "      <td>-73.879370</td>\n",
       "      <td>Starrett City, Brooklyn(Walgreens)</td>\n",
       "    </tr>\n",
       "    <tr>\n",
       "      <th>14</th>\n",
       "      <td>Brooklyn</td>\n",
       "      <td>Starrett City</td>\n",
       "      <td>4c66c357b80abe9a7bd7cde5</td>\n",
       "      <td>Rite Aid</td>\n",
       "      <td>Brooklyn</td>\n",
       "      <td>40.647589</td>\n",
       "      <td>-73.879370</td>\n",
       "      <td>Starrett City, Brooklyn(Rite Aid)</td>\n",
       "    </tr>\n",
       "    <tr>\n",
       "      <th>15</th>\n",
       "      <td>Brooklyn</td>\n",
       "      <td>Starrett City</td>\n",
       "      <td>4e25b4b7b61ceeea677e11f9</td>\n",
       "      <td>Rite Aid</td>\n",
       "      <td>Brooklyn</td>\n",
       "      <td>40.647589</td>\n",
       "      <td>-73.879370</td>\n",
       "      <td>Starrett City, Brooklyn(Rite Aid)</td>\n",
       "    </tr>\n",
       "    <tr>\n",
       "      <th>16</th>\n",
       "      <td>Brooklyn</td>\n",
       "      <td>Starrett City</td>\n",
       "      <td>4c866410d8086dcbdfe29952</td>\n",
       "      <td>CVS pharmacy</td>\n",
       "      <td>Brooklyn</td>\n",
       "      <td>40.647589</td>\n",
       "      <td>-73.879370</td>\n",
       "      <td>Starrett City, Brooklyn(CVS pharmacy)</td>\n",
       "    </tr>\n",
       "    <tr>\n",
       "      <th>17</th>\n",
       "      <td>Staten Island</td>\n",
       "      <td>Todt Hill</td>\n",
       "      <td>4b772201f964a520a1802ee3</td>\n",
       "      <td>Walgreens</td>\n",
       "      <td>Staten Island</td>\n",
       "      <td>40.597069</td>\n",
       "      <td>-74.111329</td>\n",
       "      <td>Todt Hill, Staten Island(Walgreens)</td>\n",
       "    </tr>\n",
       "    <tr>\n",
       "      <th>18</th>\n",
       "      <td>Staten Island</td>\n",
       "      <td>Todt Hill</td>\n",
       "      <td>4c0926e2ffb8c9b6405e6961</td>\n",
       "      <td>CVS pharmacy</td>\n",
       "      <td>Staten Island</td>\n",
       "      <td>40.597069</td>\n",
       "      <td>-74.111329</td>\n",
       "      <td>Todt Hill, Staten Island(CVS pharmacy)</td>\n",
       "    </tr>\n",
       "    <tr>\n",
       "      <th>19</th>\n",
       "      <td>Staten Island</td>\n",
       "      <td>Todt Hill</td>\n",
       "      <td>4bf994938d30d13a61790218</td>\n",
       "      <td>Walgreens</td>\n",
       "      <td>Staten Island</td>\n",
       "      <td>40.597069</td>\n",
       "      <td>-74.111329</td>\n",
       "      <td>Todt Hill, Staten Island(Walgreens)</td>\n",
       "    </tr>\n",
       "    <tr>\n",
       "      <th>20</th>\n",
       "      <td>Staten Island</td>\n",
       "      <td>Todt Hill</td>\n",
       "      <td>4bfd57d383bbd13aa3fa62c5</td>\n",
       "      <td>Duane Reade</td>\n",
       "      <td>Staten Island</td>\n",
       "      <td>40.597069</td>\n",
       "      <td>-74.111329</td>\n",
       "      <td>Todt Hill, Staten Island(Duane Reade)</td>\n",
       "    </tr>\n",
       "    <tr>\n",
       "      <th>21</th>\n",
       "      <td>Staten Island</td>\n",
       "      <td>Great Kills</td>\n",
       "      <td>4bcf99b441b9ef3b5ad2f8e5</td>\n",
       "      <td>CVS pharmacy</td>\n",
       "      <td>Staten Island</td>\n",
       "      <td>40.549480</td>\n",
       "      <td>-74.149324</td>\n",
       "      <td>Great Kills, Staten Island(CVS pharmacy)</td>\n",
       "    </tr>\n",
       "    <tr>\n",
       "      <th>22</th>\n",
       "      <td>Staten Island</td>\n",
       "      <td>Great Kills</td>\n",
       "      <td>4bbbd1fce436ef3b88e65564</td>\n",
       "      <td>Walgreens</td>\n",
       "      <td>Staten Island</td>\n",
       "      <td>40.549480</td>\n",
       "      <td>-74.149324</td>\n",
       "      <td>Great Kills, Staten Island(Walgreens)</td>\n",
       "    </tr>\n",
       "    <tr>\n",
       "      <th>23</th>\n",
       "      <td>Staten Island</td>\n",
       "      <td>Great Kills</td>\n",
       "      <td>5a5bf407947c057518c07ed6</td>\n",
       "      <td>CVS pharmacy</td>\n",
       "      <td>Staten Island</td>\n",
       "      <td>40.549480</td>\n",
       "      <td>-74.149324</td>\n",
       "      <td>Great Kills, Staten Island(CVS pharmacy)</td>\n",
       "    </tr>\n",
       "    <tr>\n",
       "      <th>24</th>\n",
       "      <td>Staten Island</td>\n",
       "      <td>Great Kills</td>\n",
       "      <td>4cee8c6ad7268cfa8c6fca4e</td>\n",
       "      <td>CVS pharmacy</td>\n",
       "      <td>Staten Island</td>\n",
       "      <td>40.549480</td>\n",
       "      <td>-74.149324</td>\n",
       "      <td>Great Kills, Staten Island(CVS pharmacy)</td>\n",
       "    </tr>\n",
       "  </tbody>\n",
       "</table>\n",
       "</div>"
      ],
      "text/plain": [
       "        Borough_x     Neighborhood                        ID          Name  \\\n",
       "0           Bronx        Wakefield  4beda0fc6e8c20a14aa97061      Rite Aid   \n",
       "1           Bronx        Wakefield  4bb4deb4a70595218bd41bce  CVS pharmacy   \n",
       "2           Bronx        Wakefield  4d6af9426107f04dedeb297a      Rite Aid   \n",
       "3           Bronx        Wakefield  4bd6e0c529eb9c74c1b395e1     Walgreens   \n",
       "4           Bronx        Wakefield  4e3b2b9a1495bf24a5bcf1cb     Walgreens   \n",
       "5           Bronx        Wakefield  4ff489e3e4b08a4c7173f994  CVS pharmacy   \n",
       "6   Staten Island  New Springville  4be5c380d4f7c9b620e32520      Rite Aid   \n",
       "7   Staten Island  New Springville  4be454f9477d9c74ef8de62d  CVS pharmacy   \n",
       "8   Staten Island  New Springville  4d7940b5109eb1f791be5c06  CVS pharmacy   \n",
       "9   Staten Island  New Springville  4b800621f964a520984b30e3  CVS pharmacy   \n",
       "10  Staten Island  New Springville  4bf225093fa220a1881d1920     Walgreens   \n",
       "11       Brooklyn    Starrett City  4c50b5c90ef3a593ae43c67a  CVS pharmacy   \n",
       "12       Brooklyn    Starrett City  4bdf473affdec928bf5eeba1  CVS pharmacy   \n",
       "13       Brooklyn    Starrett City  4c6015d023e303bb82dc7407     Walgreens   \n",
       "14       Brooklyn    Starrett City  4c66c357b80abe9a7bd7cde5      Rite Aid   \n",
       "15       Brooklyn    Starrett City  4e25b4b7b61ceeea677e11f9      Rite Aid   \n",
       "16       Brooklyn    Starrett City  4c866410d8086dcbdfe29952  CVS pharmacy   \n",
       "17  Staten Island        Todt Hill  4b772201f964a520a1802ee3     Walgreens   \n",
       "18  Staten Island        Todt Hill  4c0926e2ffb8c9b6405e6961  CVS pharmacy   \n",
       "19  Staten Island        Todt Hill  4bf994938d30d13a61790218     Walgreens   \n",
       "20  Staten Island        Todt Hill  4bfd57d383bbd13aa3fa62c5   Duane Reade   \n",
       "21  Staten Island      Great Kills  4bcf99b441b9ef3b5ad2f8e5  CVS pharmacy   \n",
       "22  Staten Island      Great Kills  4bbbd1fce436ef3b88e65564     Walgreens   \n",
       "23  Staten Island      Great Kills  5a5bf407947c057518c07ed6  CVS pharmacy   \n",
       "24  Staten Island      Great Kills  4cee8c6ad7268cfa8c6fca4e  CVS pharmacy   \n",
       "\n",
       "        Borough_y   Latitude  Longitude  \\\n",
       "0           Bronx  40.894705 -73.847201   \n",
       "1           Bronx  40.894705 -73.847201   \n",
       "2           Bronx  40.894705 -73.847201   \n",
       "3           Bronx  40.894705 -73.847201   \n",
       "4           Bronx  40.894705 -73.847201   \n",
       "5           Bronx  40.894705 -73.847201   \n",
       "6   Staten Island  40.594252 -74.164960   \n",
       "7   Staten Island  40.594252 -74.164960   \n",
       "8   Staten Island  40.594252 -74.164960   \n",
       "9   Staten Island  40.594252 -74.164960   \n",
       "10  Staten Island  40.594252 -74.164960   \n",
       "11       Brooklyn  40.647589 -73.879370   \n",
       "12       Brooklyn  40.647589 -73.879370   \n",
       "13       Brooklyn  40.647589 -73.879370   \n",
       "14       Brooklyn  40.647589 -73.879370   \n",
       "15       Brooklyn  40.647589 -73.879370   \n",
       "16       Brooklyn  40.647589 -73.879370   \n",
       "17  Staten Island  40.597069 -74.111329   \n",
       "18  Staten Island  40.597069 -74.111329   \n",
       "19  Staten Island  40.597069 -74.111329   \n",
       "20  Staten Island  40.597069 -74.111329   \n",
       "21  Staten Island  40.549480 -74.149324   \n",
       "22  Staten Island  40.549480 -74.149324   \n",
       "23  Staten Island  40.549480 -74.149324   \n",
       "24  Staten Island  40.549480 -74.149324   \n",
       "\n",
       "                                           Label  \n",
       "0                     Wakefield, Bronx(Rite Aid)  \n",
       "1                 Wakefield, Bronx(CVS pharmacy)  \n",
       "2                     Wakefield, Bronx(Rite Aid)  \n",
       "3                    Wakefield, Bronx(Walgreens)  \n",
       "4                    Wakefield, Bronx(Walgreens)  \n",
       "5                 Wakefield, Bronx(CVS pharmacy)  \n",
       "6       New Springville, Staten Island(Rite Aid)  \n",
       "7   New Springville, Staten Island(CVS pharmacy)  \n",
       "8   New Springville, Staten Island(CVS pharmacy)  \n",
       "9   New Springville, Staten Island(CVS pharmacy)  \n",
       "10     New Springville, Staten Island(Walgreens)  \n",
       "11         Starrett City, Brooklyn(CVS pharmacy)  \n",
       "12         Starrett City, Brooklyn(CVS pharmacy)  \n",
       "13            Starrett City, Brooklyn(Walgreens)  \n",
       "14             Starrett City, Brooklyn(Rite Aid)  \n",
       "15             Starrett City, Brooklyn(Rite Aid)  \n",
       "16         Starrett City, Brooklyn(CVS pharmacy)  \n",
       "17           Todt Hill, Staten Island(Walgreens)  \n",
       "18        Todt Hill, Staten Island(CVS pharmacy)  \n",
       "19           Todt Hill, Staten Island(Walgreens)  \n",
       "20         Todt Hill, Staten Island(Duane Reade)  \n",
       "21      Great Kills, Staten Island(CVS pharmacy)  \n",
       "22         Great Kills, Staten Island(Walgreens)  \n",
       "23      Great Kills, Staten Island(CVS pharmacy)  \n",
       "24      Great Kills, Staten Island(CVS pharmacy)  "
      ]
     },
     "execution_count": 39,
     "metadata": {},
     "output_type": "execute_result"
    }
   ],
   "source": [
    "top_ny_neighborhood"
   ]
  },
  {
   "cell_type": "code",
   "execution_count": 40,
   "metadata": {},
   "outputs": [
    {
     "data": {
      "text/html": [
       "<div>\n",
       "<style scoped>\n",
       "    .dataframe tbody tr th:only-of-type {\n",
       "        vertical-align: middle;\n",
       "    }\n",
       "\n",
       "    .dataframe tbody tr th {\n",
       "        vertical-align: top;\n",
       "    }\n",
       "\n",
       "    .dataframe thead th {\n",
       "        text-align: right;\n",
       "    }\n",
       "</style>\n",
       "<table border=\"1\" class=\"dataframe\">\n",
       "  <thead>\n",
       "    <tr style=\"text-align: right;\">\n",
       "      <th></th>\n",
       "      <th>Borough</th>\n",
       "      <th>Neighborhood</th>\n",
       "      <th>ID</th>\n",
       "      <th>Name</th>\n",
       "    </tr>\n",
       "  </thead>\n",
       "  <tbody>\n",
       "    <tr>\n",
       "      <th>0</th>\n",
       "      <td>Bronx</td>\n",
       "      <td>Wakefield</td>\n",
       "      <td>4beda0fc6e8c20a14aa97061</td>\n",
       "      <td>Rite Aid</td>\n",
       "    </tr>\n",
       "    <tr>\n",
       "      <th>1</th>\n",
       "      <td>Bronx</td>\n",
       "      <td>Wakefield</td>\n",
       "      <td>4bb4deb4a70595218bd41bce</td>\n",
       "      <td>CVS pharmacy</td>\n",
       "    </tr>\n",
       "    <tr>\n",
       "      <th>2</th>\n",
       "      <td>Bronx</td>\n",
       "      <td>Wakefield</td>\n",
       "      <td>4d6af9426107f04dedeb297a</td>\n",
       "      <td>Rite Aid</td>\n",
       "    </tr>\n",
       "    <tr>\n",
       "      <th>3</th>\n",
       "      <td>Bronx</td>\n",
       "      <td>Wakefield</td>\n",
       "      <td>4bd6e0c529eb9c74c1b395e1</td>\n",
       "      <td>Walgreens</td>\n",
       "    </tr>\n",
       "    <tr>\n",
       "      <th>4</th>\n",
       "      <td>Bronx</td>\n",
       "      <td>Wakefield</td>\n",
       "      <td>4e3b2b9a1495bf24a5bcf1cb</td>\n",
       "      <td>Walgreens</td>\n",
       "    </tr>\n",
       "  </tbody>\n",
       "</table>\n",
       "</div>"
      ],
      "text/plain": [
       "  Borough Neighborhood                        ID          Name\n",
       "0   Bronx    Wakefield  4beda0fc6e8c20a14aa97061      Rite Aid\n",
       "1   Bronx    Wakefield  4bb4deb4a70595218bd41bce  CVS pharmacy\n",
       "2   Bronx    Wakefield  4d6af9426107f04dedeb297a      Rite Aid\n",
       "3   Bronx    Wakefield  4bd6e0c529eb9c74c1b395e1     Walgreens\n",
       "4   Bronx    Wakefield  4e3b2b9a1495bf24a5bcf1cb     Walgreens"
      ]
     },
     "execution_count": 40,
     "metadata": {},
     "output_type": "execute_result"
    }
   ],
   "source": [
    "pharmacy_ny.head()"
   ]
  },
  {
   "cell_type": "markdown",
   "metadata": {},
   "source": [
    "The following code extracts data about the pharmacies which can be used for determining customer support for the pharmacies. This is data such as likes, rating and tips. This data can give an idea of the pharmacies that are active and more likely to buy stock frequently."
   ]
  },
  {
   "cell_type": "code",
   "execution_count": 49,
   "metadata": {},
   "outputs": [],
   "source": [
    "# prepare neighborhood list that contains Pharmacies\n",
    "column_names=['Borough', 'Neighborhood', 'ID','Name','Likes','Rating','Tips']\n",
    "pharmacy_stats_ny=pd.DataFrame(columns=column_names)\n",
    "pharmacy_stats_ny1=pd.DataFrame(columns=column_names)\n",
    "count=1\n",
    "\n",
    "\n",
    "for row in pharmacy_ny.values.tolist():\n",
    "    Borough,Neighborhood,ID,Name=row\n",
    "\n",
    "    # prepare neighborhood list that contains pharmacies\n",
    "column_names=['Borough', 'Neighborhood', 'ID','Name','Likes','Rating','Tips']\n",
    "pharmacy_stats_ny=pd.DataFrame(columns=column_names)\n",
    "count=1\n",
    "\n",
    "\n",
    "for row in pharmacy_ny.values.tolist():\n",
    "    Borough,Neighborhood,ID,Name=row\n",
    "    try:\n",
    "        venue_details=get_venue_details(ID)\n",
    "        #print(venue_details)\n",
    "        id,name,likes,rating,tips=venue_details.values.tolist()[0]\n",
    "    except (IndexError, KeyError) as e:\n",
    "        #print('No data available for id=',ID)\n",
    "        # we will assign 0 value for these pharmacies as they may have been \n",
    "        id,name,likes,rating,tips=[0]*5\n",
    "    #print('(',count,'/',len(pharmacy_ny),')','processed')\n",
    "    pharmacy_stats_ny = pharmacy_ny.append({'Borough': Borough,\n",
    "                                                'Neighborhood': Neighborhood, \n",
    "                                                'ID': id,\n",
    "                                                'Name' : name,\n",
    "                                                'Likes' : likes,\n",
    "                                                'Rating' : rating,\n",
    "                                                'Tips' : tips,\n",
    "                                               }, ignore_index=True)\n",
    "    count+=1"
   ]
  },
  {
   "cell_type": "markdown",
   "metadata": {},
   "source": [
    "Foursquare didnt return any data about pharmacies, therefore this data will be discarded but can be used for future additions to the study if obtained."
   ]
  },
  {
   "cell_type": "code",
   "execution_count": 51,
   "metadata": {},
   "outputs": [
    {
     "data": {
      "text/plain": [
       "(506, 7)"
      ]
     },
     "execution_count": 51,
     "metadata": {},
     "output_type": "execute_result"
    }
   ],
   "source": [
    "pharmacy_stats_ny.shape"
   ]
  },
  {
   "cell_type": "code",
   "execution_count": 52,
   "metadata": {},
   "outputs": [
    {
     "data": {
      "text/plain": [
       "(505, 4)"
      ]
     },
     "execution_count": 52,
     "metadata": {},
     "output_type": "execute_result"
    }
   ],
   "source": [
    "pharmacy_ny.shape"
   ]
  },
  {
   "cell_type": "code",
   "execution_count": 53,
   "metadata": {},
   "outputs": [],
   "source": [
    "pharmacy_stats_ny.to_csv('pharmacy_stats_ny.csv', index=False)"
   ]
  },
  {
   "cell_type": "code",
   "execution_count": 54,
   "metadata": {},
   "outputs": [],
   "source": [
    "pharmacy_stats_ny_csv=pd.read_csv('pharmacy_stats_ny.csv')"
   ]
  },
  {
   "cell_type": "code",
   "execution_count": 55,
   "metadata": {},
   "outputs": [
    {
     "data": {
      "text/plain": [
       "(506, 7)"
      ]
     },
     "execution_count": 55,
     "metadata": {},
     "output_type": "execute_result"
    }
   ],
   "source": [
    "pharmacy_stats_ny_csv.shape"
   ]
  },
  {
   "cell_type": "code",
   "execution_count": 56,
   "metadata": {},
   "outputs": [
    {
     "data": {
      "text/html": [
       "<div>\n",
       "<style scoped>\n",
       "    .dataframe tbody tr th:only-of-type {\n",
       "        vertical-align: middle;\n",
       "    }\n",
       "\n",
       "    .dataframe tbody tr th {\n",
       "        vertical-align: top;\n",
       "    }\n",
       "\n",
       "    .dataframe thead th {\n",
       "        text-align: right;\n",
       "    }\n",
       "</style>\n",
       "<table border=\"1\" class=\"dataframe\">\n",
       "  <thead>\n",
       "    <tr style=\"text-align: right;\">\n",
       "      <th></th>\n",
       "      <th>Borough</th>\n",
       "      <th>Neighborhood</th>\n",
       "      <th>ID</th>\n",
       "      <th>Name</th>\n",
       "      <th>Likes</th>\n",
       "      <th>Rating</th>\n",
       "      <th>Tips</th>\n",
       "    </tr>\n",
       "  </thead>\n",
       "  <tbody>\n",
       "    <tr>\n",
       "      <th>0</th>\n",
       "      <td>Bronx</td>\n",
       "      <td>Wakefield</td>\n",
       "      <td>4beda0fc6e8c20a14aa97061</td>\n",
       "      <td>Rite Aid</td>\n",
       "      <td>NaN</td>\n",
       "      <td>NaN</td>\n",
       "      <td>NaN</td>\n",
       "    </tr>\n",
       "    <tr>\n",
       "      <th>1</th>\n",
       "      <td>Bronx</td>\n",
       "      <td>Wakefield</td>\n",
       "      <td>4bb4deb4a70595218bd41bce</td>\n",
       "      <td>CVS pharmacy</td>\n",
       "      <td>NaN</td>\n",
       "      <td>NaN</td>\n",
       "      <td>NaN</td>\n",
       "    </tr>\n",
       "    <tr>\n",
       "      <th>2</th>\n",
       "      <td>Bronx</td>\n",
       "      <td>Wakefield</td>\n",
       "      <td>4d6af9426107f04dedeb297a</td>\n",
       "      <td>Rite Aid</td>\n",
       "      <td>NaN</td>\n",
       "      <td>NaN</td>\n",
       "      <td>NaN</td>\n",
       "    </tr>\n",
       "    <tr>\n",
       "      <th>3</th>\n",
       "      <td>Bronx</td>\n",
       "      <td>Wakefield</td>\n",
       "      <td>4bd6e0c529eb9c74c1b395e1</td>\n",
       "      <td>Walgreens</td>\n",
       "      <td>NaN</td>\n",
       "      <td>NaN</td>\n",
       "      <td>NaN</td>\n",
       "    </tr>\n",
       "    <tr>\n",
       "      <th>4</th>\n",
       "      <td>Bronx</td>\n",
       "      <td>Wakefield</td>\n",
       "      <td>4e3b2b9a1495bf24a5bcf1cb</td>\n",
       "      <td>Walgreens</td>\n",
       "      <td>NaN</td>\n",
       "      <td>NaN</td>\n",
       "      <td>NaN</td>\n",
       "    </tr>\n",
       "  </tbody>\n",
       "</table>\n",
       "</div>"
      ],
      "text/plain": [
       "  Borough Neighborhood                        ID          Name  Likes  Rating  \\\n",
       "0   Bronx    Wakefield  4beda0fc6e8c20a14aa97061      Rite Aid    NaN     NaN   \n",
       "1   Bronx    Wakefield  4bb4deb4a70595218bd41bce  CVS pharmacy    NaN     NaN   \n",
       "2   Bronx    Wakefield  4d6af9426107f04dedeb297a      Rite Aid    NaN     NaN   \n",
       "3   Bronx    Wakefield  4bd6e0c529eb9c74c1b395e1     Walgreens    NaN     NaN   \n",
       "4   Bronx    Wakefield  4e3b2b9a1495bf24a5bcf1cb     Walgreens    NaN     NaN   \n",
       "\n",
       "   Tips  \n",
       "0   NaN  \n",
       "1   NaN  \n",
       "2   NaN  \n",
       "3   NaN  \n",
       "4   NaN  "
      ]
     },
     "execution_count": 56,
     "metadata": {},
     "output_type": "execute_result"
    }
   ],
   "source": [
    "pharmacy_stats_ny_csv.head()"
   ]
  },
  {
   "cell_type": "code",
   "execution_count": 57,
   "metadata": {},
   "outputs": [
    {
     "name": "stdout",
     "output_type": "stream",
     "text": [
      "<class 'pandas.core.frame.DataFrame'>\n",
      "RangeIndex: 506 entries, 0 to 505\n",
      "Data columns (total 7 columns):\n",
      " #   Column        Non-Null Count  Dtype  \n",
      "---  ------        --------------  -----  \n",
      " 0   Borough       506 non-null    object \n",
      " 1   Neighborhood  506 non-null    object \n",
      " 2   ID            506 non-null    object \n",
      " 3   Name          506 non-null    object \n",
      " 4   Likes         1 non-null      float64\n",
      " 5   Rating        1 non-null      float64\n",
      " 6   Tips          1 non-null      float64\n",
      "dtypes: float64(3), object(4)\n",
      "memory usage: 27.8+ KB\n"
     ]
    }
   ],
   "source": [
    "pharmacy_stats_ny.info()"
   ]
  },
  {
   "cell_type": "code",
   "execution_count": 58,
   "metadata": {},
   "outputs": [],
   "source": [
    "pharmacy_stats_ny['Likes']=pharmacy_stats_ny['Likes'].astype('float64')"
   ]
  },
  {
   "cell_type": "code",
   "execution_count": 59,
   "metadata": {},
   "outputs": [],
   "source": [
    "pharmacy_stats_ny['Tips']=pharmacy_stats_ny['Tips'].astype('float64')"
   ]
  },
  {
   "cell_type": "code",
   "execution_count": 60,
   "metadata": {},
   "outputs": [
    {
     "name": "stdout",
     "output_type": "stream",
     "text": [
      "<class 'pandas.core.frame.DataFrame'>\n",
      "RangeIndex: 506 entries, 0 to 505\n",
      "Data columns (total 7 columns):\n",
      " #   Column        Non-Null Count  Dtype  \n",
      "---  ------        --------------  -----  \n",
      " 0   Borough       506 non-null    object \n",
      " 1   Neighborhood  506 non-null    object \n",
      " 2   ID            506 non-null    object \n",
      " 3   Name          506 non-null    object \n",
      " 4   Likes         1 non-null      float64\n",
      " 5   Rating        1 non-null      float64\n",
      " 6   Tips          1 non-null      float64\n",
      "dtypes: float64(3), object(4)\n",
      "memory usage: 27.8+ KB\n"
     ]
    }
   ],
   "source": [
    "pharmacy_stats_ny.info()"
   ]
  },
  {
   "cell_type": "code",
   "execution_count": 61,
   "metadata": {},
   "outputs": [
    {
     "data": {
      "text/plain": [
       "Borough         Staten Island\n",
       "Neighborhood        Fox Hills\n",
       "ID                          0\n",
       "Name                        0\n",
       "Likes                       0\n",
       "Rating                      0\n",
       "Tips                        0\n",
       "Name: 505, dtype: object"
      ]
     },
     "execution_count": 61,
     "metadata": {},
     "output_type": "execute_result"
    }
   ],
   "source": [
    "# Pharmacies with maximum Likes\n",
    "pharmacy_stats_ny.iloc[pharmacy_stats_ny['Likes'].idxmax()]"
   ]
  },
  {
   "cell_type": "code",
   "execution_count": 62,
   "metadata": {},
   "outputs": [
    {
     "data": {
      "text/plain": [
       "Borough         Staten Island\n",
       "Neighborhood        Fox Hills\n",
       "ID                          0\n",
       "Name                        0\n",
       "Likes                       0\n",
       "Rating                      0\n",
       "Tips                        0\n",
       "Name: 505, dtype: object"
      ]
     },
     "execution_count": 62,
     "metadata": {},
     "output_type": "execute_result"
    }
   ],
   "source": [
    "# Pharmacies with maximum Tips\n",
    "pharmacy_stats_ny.iloc[pharmacy_stats_ny['Tips'].idxmax()]"
   ]
  },
  {
   "cell_type": "code",
   "execution_count": 63,
   "metadata": {},
   "outputs": [],
   "source": [
    "#function to format url\n",
    "def format_url(lat, lng, radius=500, limit=100):\n",
    "    return 'https://api.foursquare.com/v2/venues/explore?client_id={}&client_secret={}&ll={},{}&v={}&radius={}&limit={}'.format(CLIENT_ID, CLIENT_SECRET, \n",
    "        lat, lng, VERSION, radius, limit)"
   ]
  },
  {
   "cell_type": "code",
   "execution_count": 64,
   "metadata": {},
   "outputs": [
    {
     "data": {
      "text/html": [
       "<div>\n",
       "<style scoped>\n",
       "    .dataframe tbody tr th:only-of-type {\n",
       "        vertical-align: middle;\n",
       "    }\n",
       "\n",
       "    .dataframe tbody tr th {\n",
       "        vertical-align: top;\n",
       "    }\n",
       "\n",
       "    .dataframe thead th {\n",
       "        text-align: right;\n",
       "    }\n",
       "</style>\n",
       "<table border=\"1\" class=\"dataframe\">\n",
       "  <thead>\n",
       "    <tr style=\"text-align: right;\">\n",
       "      <th></th>\n",
       "      <th>Borough</th>\n",
       "      <th>Neighborhood</th>\n",
       "      <th>ID</th>\n",
       "      <th>Name</th>\n",
       "    </tr>\n",
       "  </thead>\n",
       "  <tbody>\n",
       "    <tr>\n",
       "      <th>500</th>\n",
       "      <td>Queens</td>\n",
       "      <td>Bayswater</td>\n",
       "      <td>50058548e4b07c19de39effd</td>\n",
       "      <td>Vista Pharmacy &amp; Surgical</td>\n",
       "    </tr>\n",
       "    <tr>\n",
       "      <th>501</th>\n",
       "      <td>Staten Island</td>\n",
       "      <td>Fox Hills</td>\n",
       "      <td>4b2ea393f964a5200ae424e3</td>\n",
       "      <td>CVS pharmacy</td>\n",
       "    </tr>\n",
       "    <tr>\n",
       "      <th>502</th>\n",
       "      <td>Staten Island</td>\n",
       "      <td>Fox Hills</td>\n",
       "      <td>4ce97b54595cb1f723e8ce14</td>\n",
       "      <td>Rite Aid</td>\n",
       "    </tr>\n",
       "    <tr>\n",
       "      <th>503</th>\n",
       "      <td>Staten Island</td>\n",
       "      <td>Fox Hills</td>\n",
       "      <td>4df38b0522718759f82017a1</td>\n",
       "      <td>Millers pharmacy</td>\n",
       "    </tr>\n",
       "    <tr>\n",
       "      <th>504</th>\n",
       "      <td>Staten Island</td>\n",
       "      <td>Fox Hills</td>\n",
       "      <td>4c4722f71ddec9289e639c32</td>\n",
       "      <td>Classic Pharmacy, Inc.</td>\n",
       "    </tr>\n",
       "  </tbody>\n",
       "</table>\n",
       "</div>"
      ],
      "text/plain": [
       "           Borough Neighborhood                        ID  \\\n",
       "500         Queens    Bayswater  50058548e4b07c19de39effd   \n",
       "501  Staten Island    Fox Hills  4b2ea393f964a5200ae424e3   \n",
       "502  Staten Island    Fox Hills  4ce97b54595cb1f723e8ce14   \n",
       "503  Staten Island    Fox Hills  4df38b0522718759f82017a1   \n",
       "504  Staten Island    Fox Hills  4c4722f71ddec9289e639c32   \n",
       "\n",
       "                          Name  \n",
       "500  Vista Pharmacy & Surgical  \n",
       "501               CVS pharmacy  \n",
       "502                   Rite Aid  \n",
       "503           Millers pharmacy  \n",
       "504     Classic Pharmacy, Inc.  "
      ]
     },
     "execution_count": 64,
     "metadata": {},
     "output_type": "execute_result"
    }
   ],
   "source": [
    "pharmacy_ny.tail()"
   ]
  },
  {
   "cell_type": "code",
   "execution_count": 65,
   "metadata": {},
   "outputs": [],
   "source": [
    "all_pharmacies=pd.merge(pharmacy_ny,new_york_data, on='Neighborhood')"
   ]
  },
  {
   "cell_type": "code",
   "execution_count": 66,
   "metadata": {},
   "outputs": [
    {
     "data": {
      "text/html": [
       "<div>\n",
       "<style scoped>\n",
       "    .dataframe tbody tr th:only-of-type {\n",
       "        vertical-align: middle;\n",
       "    }\n",
       "\n",
       "    .dataframe tbody tr th {\n",
       "        vertical-align: top;\n",
       "    }\n",
       "\n",
       "    .dataframe thead th {\n",
       "        text-align: right;\n",
       "    }\n",
       "</style>\n",
       "<table border=\"1\" class=\"dataframe\">\n",
       "  <thead>\n",
       "    <tr style=\"text-align: right;\">\n",
       "      <th></th>\n",
       "      <th>Borough_x</th>\n",
       "      <th>Neighborhood</th>\n",
       "      <th>ID</th>\n",
       "      <th>Name</th>\n",
       "      <th>Borough_y</th>\n",
       "      <th>Latitude</th>\n",
       "      <th>Longitude</th>\n",
       "    </tr>\n",
       "  </thead>\n",
       "  <tbody>\n",
       "    <tr>\n",
       "      <th>508</th>\n",
       "      <td>Queens</td>\n",
       "      <td>Bayswater</td>\n",
       "      <td>50058548e4b07c19de39effd</td>\n",
       "      <td>Vista Pharmacy &amp; Surgical</td>\n",
       "      <td>Queens</td>\n",
       "      <td>40.611322</td>\n",
       "      <td>-73.765968</td>\n",
       "    </tr>\n",
       "    <tr>\n",
       "      <th>509</th>\n",
       "      <td>Staten Island</td>\n",
       "      <td>Fox Hills</td>\n",
       "      <td>4b2ea393f964a5200ae424e3</td>\n",
       "      <td>CVS pharmacy</td>\n",
       "      <td>Staten Island</td>\n",
       "      <td>40.617311</td>\n",
       "      <td>-74.081740</td>\n",
       "    </tr>\n",
       "    <tr>\n",
       "      <th>510</th>\n",
       "      <td>Staten Island</td>\n",
       "      <td>Fox Hills</td>\n",
       "      <td>4ce97b54595cb1f723e8ce14</td>\n",
       "      <td>Rite Aid</td>\n",
       "      <td>Staten Island</td>\n",
       "      <td>40.617311</td>\n",
       "      <td>-74.081740</td>\n",
       "    </tr>\n",
       "    <tr>\n",
       "      <th>511</th>\n",
       "      <td>Staten Island</td>\n",
       "      <td>Fox Hills</td>\n",
       "      <td>4df38b0522718759f82017a1</td>\n",
       "      <td>Millers pharmacy</td>\n",
       "      <td>Staten Island</td>\n",
       "      <td>40.617311</td>\n",
       "      <td>-74.081740</td>\n",
       "    </tr>\n",
       "    <tr>\n",
       "      <th>512</th>\n",
       "      <td>Staten Island</td>\n",
       "      <td>Fox Hills</td>\n",
       "      <td>4c4722f71ddec9289e639c32</td>\n",
       "      <td>Classic Pharmacy, Inc.</td>\n",
       "      <td>Staten Island</td>\n",
       "      <td>40.617311</td>\n",
       "      <td>-74.081740</td>\n",
       "    </tr>\n",
       "  </tbody>\n",
       "</table>\n",
       "</div>"
      ],
      "text/plain": [
       "         Borough_x Neighborhood                        ID  \\\n",
       "508         Queens    Bayswater  50058548e4b07c19de39effd   \n",
       "509  Staten Island    Fox Hills  4b2ea393f964a5200ae424e3   \n",
       "510  Staten Island    Fox Hills  4ce97b54595cb1f723e8ce14   \n",
       "511  Staten Island    Fox Hills  4df38b0522718759f82017a1   \n",
       "512  Staten Island    Fox Hills  4c4722f71ddec9289e639c32   \n",
       "\n",
       "                          Name      Borough_y   Latitude  Longitude  \n",
       "508  Vista Pharmacy & Surgical         Queens  40.611322 -73.765968  \n",
       "509               CVS pharmacy  Staten Island  40.617311 -74.081740  \n",
       "510                   Rite Aid  Staten Island  40.617311 -74.081740  \n",
       "511           Millers pharmacy  Staten Island  40.617311 -74.081740  \n",
       "512     Classic Pharmacy, Inc.  Staten Island  40.617311 -74.081740  "
      ]
     },
     "execution_count": 66,
     "metadata": {},
     "output_type": "execute_result"
    }
   ],
   "source": [
    "all_pharmacies.tail()"
   ]
  },
  {
   "cell_type": "markdown",
   "metadata": {},
   "source": [
    "Assesing the all_pharmacies data frame above which is the data frame containing pharmacies, it can be seen that the coordinated are of the boroughs and not the pharmacy, therefore the following lines of code will pull coordinates of the pharmacies from foursquare and the data will be cleaned to obtain a data frame."
   ]
  },
  {
   "cell_type": "code",
   "execution_count": 101,
   "metadata": {},
   "outputs": [],
   "source": [
    "   #Vusi\n",
    "    CLIENT_ID = 'FM32E0UU4KR1WU4VZIG1F5G1J2XFMKEGNF52UGPTSQ1J1CF1'# Foursquare ID, note there is a daily call quota limit \n",
    "    CLIENT_SECRET ='R5SUZ4FBHNDVUMHP15ZKFIKI5VCQBLGPYSFGZY2LYQXMILX2' # Foursquare Secret, note there is a daily call quota it it\n",
    "    VERSION = '20180605' # Foursquare API version\n",
    "   \n",
    "\n"
   ]
  },
  {
   "cell_type": "code",
   "execution_count": 68,
   "metadata": {},
   "outputs": [],
   "source": [
    "#function to format url\n",
    "def format_url(lat, lng, radius=500, limit=100):\n",
    "    return 'https://api.foursquare.com/v2/venues/explore?client_id={}&client_secret={}&ll={},{}&v={}&radius={}&limit={}'.format(CLIENT_ID, CLIENT_SECRET, \n",
    "        lat, lng, VERSION, radius, limit)"
   ]
  },
  {
   "cell_type": "code",
   "execution_count": 69,
   "metadata": {},
   "outputs": [
    {
     "data": {
      "text/plain": [
       "'https://api.foursquare.com/v2/venues/explore?client_id=DPBYY4JUY3DU20ALPSUV4ONY2K1GOJJKJ1NIHBB32XEMOVYY&client_secret=1MV443TYEP4HUO0WDUW5NQ5W10L2Y4G05NWG11WIR3NUGC5B&ll=40.89470517661,-73.84720052054902&v=20180604&radius=500&limit=100'"
      ]
     },
     "execution_count": 69,
     "metadata": {},
     "output_type": "execute_result"
    }
   ],
   "source": [
    "url = format_url(all_pharmacies['Latitude'][0], all_pharmacies['Longitude'][0])\n",
    "\n",
    "url"
   ]
  },
  {
   "cell_type": "code",
   "execution_count": 70,
   "metadata": {},
   "outputs": [],
   "source": [
    "#function to get batch of venues as a dataframe\n",
    "def get_venues(url):\n",
    "    results = requests.get(url).json()\n",
    "    venues = results['response']['groups'][0]['items']\n",
    "    return json_normalize(venues)"
   ]
  },
  {
   "cell_type": "code",
   "execution_count": 71,
   "metadata": {},
   "outputs": [],
   "source": [
    "from pandas.io.json import json_normalize # tranform JSON file into a pandas dataframe"
   ]
  },
  {
   "cell_type": "code",
   "execution_count": 72,
   "metadata": {},
   "outputs": [
    {
     "name": "stderr",
     "output_type": "stream",
     "text": [
      "/home/jupyterlab/conda/envs/python/lib/python3.6/site-packages/ipykernel_launcher.py:5: FutureWarning: pandas.io.json.json_normalize is deprecated, use pandas.json_normalize instead\n",
      "  \"\"\"\n"
     ]
    },
    {
     "data": {
      "text/html": [
       "<div>\n",
       "<style scoped>\n",
       "    .dataframe tbody tr th:only-of-type {\n",
       "        vertical-align: middle;\n",
       "    }\n",
       "\n",
       "    .dataframe tbody tr th {\n",
       "        vertical-align: top;\n",
       "    }\n",
       "\n",
       "    .dataframe thead th {\n",
       "        text-align: right;\n",
       "    }\n",
       "</style>\n",
       "<table border=\"1\" class=\"dataframe\">\n",
       "  <thead>\n",
       "    <tr style=\"text-align: right;\">\n",
       "      <th></th>\n",
       "      <th>referralId</th>\n",
       "      <th>reasons.count</th>\n",
       "      <th>reasons.items</th>\n",
       "      <th>venue.id</th>\n",
       "      <th>venue.name</th>\n",
       "      <th>venue.location.address</th>\n",
       "      <th>venue.location.crossStreet</th>\n",
       "      <th>venue.location.lat</th>\n",
       "      <th>venue.location.lng</th>\n",
       "      <th>venue.location.labeledLatLngs</th>\n",
       "      <th>venue.location.distance</th>\n",
       "      <th>venue.location.postalCode</th>\n",
       "      <th>venue.location.cc</th>\n",
       "      <th>venue.location.city</th>\n",
       "      <th>venue.location.state</th>\n",
       "      <th>venue.location.country</th>\n",
       "      <th>venue.location.formattedAddress</th>\n",
       "      <th>venue.categories</th>\n",
       "      <th>venue.photos.count</th>\n",
       "      <th>venue.photos.groups</th>\n",
       "      <th>venue.delivery.id</th>\n",
       "      <th>venue.delivery.url</th>\n",
       "      <th>venue.delivery.provider.name</th>\n",
       "      <th>venue.delivery.provider.icon.prefix</th>\n",
       "      <th>venue.delivery.provider.icon.sizes</th>\n",
       "      <th>venue.delivery.provider.icon.name</th>\n",
       "    </tr>\n",
       "  </thead>\n",
       "  <tbody>\n",
       "    <tr>\n",
       "      <th>0</th>\n",
       "      <td>e-0-4c537892fd2ea593cb077a28-0</td>\n",
       "      <td>0</td>\n",
       "      <td>[{'summary': 'This spot is popular', 'type': '...</td>\n",
       "      <td>4c537892fd2ea593cb077a28</td>\n",
       "      <td>Lollipops Gelato</td>\n",
       "      <td>4120 Baychester Ave</td>\n",
       "      <td>Edenwald &amp; Bussing Ave</td>\n",
       "      <td>40.894123</td>\n",
       "      <td>-73.845892</td>\n",
       "      <td>[{'label': 'display', 'lat': 40.89412315020527...</td>\n",
       "      <td>127</td>\n",
       "      <td>10466</td>\n",
       "      <td>US</td>\n",
       "      <td>Bronx</td>\n",
       "      <td>NY</td>\n",
       "      <td>United States</td>\n",
       "      <td>[4120 Baychester Ave (Edenwald &amp; Bussing Ave),...</td>\n",
       "      <td>[{'id': '4bf58dd8d48988d1d0941735', 'name': 'D...</td>\n",
       "      <td>0</td>\n",
       "      <td>[]</td>\n",
       "      <td>NaN</td>\n",
       "      <td>NaN</td>\n",
       "      <td>NaN</td>\n",
       "      <td>NaN</td>\n",
       "      <td>NaN</td>\n",
       "      <td>NaN</td>\n",
       "    </tr>\n",
       "    <tr>\n",
       "      <th>1</th>\n",
       "      <td>e-0-4c783cef3badb1f7e4244b54-1</td>\n",
       "      <td>0</td>\n",
       "      <td>[{'summary': 'This spot is popular', 'type': '...</td>\n",
       "      <td>4c783cef3badb1f7e4244b54</td>\n",
       "      <td>Carvel Ice Cream</td>\n",
       "      <td>1006 E 233rd St</td>\n",
       "      <td>NaN</td>\n",
       "      <td>40.890487</td>\n",
       "      <td>-73.848568</td>\n",
       "      <td>[{'label': 'display', 'lat': 40.89048668575960...</td>\n",
       "      <td>483</td>\n",
       "      <td>10466</td>\n",
       "      <td>US</td>\n",
       "      <td>Bronx</td>\n",
       "      <td>NY</td>\n",
       "      <td>United States</td>\n",
       "      <td>[1006 E 233rd St, Bronx, NY 10466, United States]</td>\n",
       "      <td>[{'id': '4bf58dd8d48988d1c9941735', 'name': 'I...</td>\n",
       "      <td>0</td>\n",
       "      <td>[]</td>\n",
       "      <td>NaN</td>\n",
       "      <td>NaN</td>\n",
       "      <td>NaN</td>\n",
       "      <td>NaN</td>\n",
       "      <td>NaN</td>\n",
       "      <td>NaN</td>\n",
       "    </tr>\n",
       "    <tr>\n",
       "      <th>2</th>\n",
       "      <td>e-0-5d5f5044d0ae1c0008f043c3-2</td>\n",
       "      <td>0</td>\n",
       "      <td>[{'summary': 'This spot is popular', 'type': '...</td>\n",
       "      <td>5d5f5044d0ae1c0008f043c3</td>\n",
       "      <td>Walgreens</td>\n",
       "      <td>4232 Baychester Ave</td>\n",
       "      <td>Pitman</td>\n",
       "      <td>40.896528</td>\n",
       "      <td>-73.844700</td>\n",
       "      <td>[{'label': 'display', 'lat': 40.896528, 'lng':...</td>\n",
       "      <td>292</td>\n",
       "      <td>10466</td>\n",
       "      <td>US</td>\n",
       "      <td>Bronx</td>\n",
       "      <td>NY</td>\n",
       "      <td>United States</td>\n",
       "      <td>[4232 Baychester Ave (Pitman), Bronx, NY 10466...</td>\n",
       "      <td>[{'id': '4bf58dd8d48988d10f951735', 'name': 'P...</td>\n",
       "      <td>0</td>\n",
       "      <td>[]</td>\n",
       "      <td>NaN</td>\n",
       "      <td>NaN</td>\n",
       "      <td>NaN</td>\n",
       "      <td>NaN</td>\n",
       "      <td>NaN</td>\n",
       "      <td>NaN</td>\n",
       "    </tr>\n",
       "    <tr>\n",
       "      <th>3</th>\n",
       "      <td>e-0-4d6af9426107f04dedeb297a-3</td>\n",
       "      <td>0</td>\n",
       "      <td>[{'summary': 'This spot is popular', 'type': '...</td>\n",
       "      <td>4d6af9426107f04dedeb297a</td>\n",
       "      <td>Rite Aid</td>\n",
       "      <td>4232 Baychester Ave</td>\n",
       "      <td>NaN</td>\n",
       "      <td>40.896649</td>\n",
       "      <td>-73.844846</td>\n",
       "      <td>[{'label': 'display', 'lat': 40.896649, 'lng':...</td>\n",
       "      <td>293</td>\n",
       "      <td>10466</td>\n",
       "      <td>US</td>\n",
       "      <td>Bronx</td>\n",
       "      <td>NY</td>\n",
       "      <td>United States</td>\n",
       "      <td>[4232 Baychester Ave, Bronx, NY 10466, United ...</td>\n",
       "      <td>[{'id': '4bf58dd8d48988d10f951735', 'name': 'P...</td>\n",
       "      <td>0</td>\n",
       "      <td>[]</td>\n",
       "      <td>NaN</td>\n",
       "      <td>NaN</td>\n",
       "      <td>NaN</td>\n",
       "      <td>NaN</td>\n",
       "      <td>NaN</td>\n",
       "      <td>NaN</td>\n",
       "    </tr>\n",
       "    <tr>\n",
       "      <th>4</th>\n",
       "      <td>e-0-4c25c212f1272d7f836385c5-4</td>\n",
       "      <td>0</td>\n",
       "      <td>[{'summary': 'This spot is popular', 'type': '...</td>\n",
       "      <td>4c25c212f1272d7f836385c5</td>\n",
       "      <td>Dunkin'</td>\n",
       "      <td>980 E 233rd St</td>\n",
       "      <td>Paulding Ave</td>\n",
       "      <td>40.890459</td>\n",
       "      <td>-73.849089</td>\n",
       "      <td>[{'label': 'display', 'lat': 40.8904587811365,...</td>\n",
       "      <td>498</td>\n",
       "      <td>10466</td>\n",
       "      <td>US</td>\n",
       "      <td>Bronx</td>\n",
       "      <td>NY</td>\n",
       "      <td>United States</td>\n",
       "      <td>[980 E 233rd St (Paulding Ave), Bronx, NY 1046...</td>\n",
       "      <td>[{'id': '4bf58dd8d48988d148941735', 'name': 'D...</td>\n",
       "      <td>0</td>\n",
       "      <td>[]</td>\n",
       "      <td>1984066</td>\n",
       "      <td>https://www.seamless.com/menu/dunkin-980-e-233...</td>\n",
       "      <td>seamless</td>\n",
       "      <td>https://fastly.4sqi.net/img/general/cap/</td>\n",
       "      <td>[40, 50]</td>\n",
       "      <td>/delivery_provider_seamless_20180129.png</td>\n",
       "    </tr>\n",
       "  </tbody>\n",
       "</table>\n",
       "</div>"
      ],
      "text/plain": [
       "                       referralId  reasons.count  \\\n",
       "0  e-0-4c537892fd2ea593cb077a28-0              0   \n",
       "1  e-0-4c783cef3badb1f7e4244b54-1              0   \n",
       "2  e-0-5d5f5044d0ae1c0008f043c3-2              0   \n",
       "3  e-0-4d6af9426107f04dedeb297a-3              0   \n",
       "4  e-0-4c25c212f1272d7f836385c5-4              0   \n",
       "\n",
       "                                       reasons.items  \\\n",
       "0  [{'summary': 'This spot is popular', 'type': '...   \n",
       "1  [{'summary': 'This spot is popular', 'type': '...   \n",
       "2  [{'summary': 'This spot is popular', 'type': '...   \n",
       "3  [{'summary': 'This spot is popular', 'type': '...   \n",
       "4  [{'summary': 'This spot is popular', 'type': '...   \n",
       "\n",
       "                   venue.id        venue.name venue.location.address  \\\n",
       "0  4c537892fd2ea593cb077a28  Lollipops Gelato    4120 Baychester Ave   \n",
       "1  4c783cef3badb1f7e4244b54  Carvel Ice Cream        1006 E 233rd St   \n",
       "2  5d5f5044d0ae1c0008f043c3         Walgreens    4232 Baychester Ave   \n",
       "3  4d6af9426107f04dedeb297a          Rite Aid    4232 Baychester Ave   \n",
       "4  4c25c212f1272d7f836385c5           Dunkin'         980 E 233rd St   \n",
       "\n",
       "  venue.location.crossStreet  venue.location.lat  venue.location.lng  \\\n",
       "0     Edenwald & Bussing Ave           40.894123          -73.845892   \n",
       "1                        NaN           40.890487          -73.848568   \n",
       "2                     Pitman           40.896528          -73.844700   \n",
       "3                        NaN           40.896649          -73.844846   \n",
       "4               Paulding Ave           40.890459          -73.849089   \n",
       "\n",
       "                       venue.location.labeledLatLngs  venue.location.distance  \\\n",
       "0  [{'label': 'display', 'lat': 40.89412315020527...                      127   \n",
       "1  [{'label': 'display', 'lat': 40.89048668575960...                      483   \n",
       "2  [{'label': 'display', 'lat': 40.896528, 'lng':...                      292   \n",
       "3  [{'label': 'display', 'lat': 40.896649, 'lng':...                      293   \n",
       "4  [{'label': 'display', 'lat': 40.8904587811365,...                      498   \n",
       "\n",
       "  venue.location.postalCode venue.location.cc venue.location.city  \\\n",
       "0                     10466                US               Bronx   \n",
       "1                     10466                US               Bronx   \n",
       "2                     10466                US               Bronx   \n",
       "3                     10466                US               Bronx   \n",
       "4                     10466                US               Bronx   \n",
       "\n",
       "  venue.location.state venue.location.country  \\\n",
       "0                   NY          United States   \n",
       "1                   NY          United States   \n",
       "2                   NY          United States   \n",
       "3                   NY          United States   \n",
       "4                   NY          United States   \n",
       "\n",
       "                     venue.location.formattedAddress  \\\n",
       "0  [4120 Baychester Ave (Edenwald & Bussing Ave),...   \n",
       "1  [1006 E 233rd St, Bronx, NY 10466, United States]   \n",
       "2  [4232 Baychester Ave (Pitman), Bronx, NY 10466...   \n",
       "3  [4232 Baychester Ave, Bronx, NY 10466, United ...   \n",
       "4  [980 E 233rd St (Paulding Ave), Bronx, NY 1046...   \n",
       "\n",
       "                                    venue.categories  venue.photos.count  \\\n",
       "0  [{'id': '4bf58dd8d48988d1d0941735', 'name': 'D...                   0   \n",
       "1  [{'id': '4bf58dd8d48988d1c9941735', 'name': 'I...                   0   \n",
       "2  [{'id': '4bf58dd8d48988d10f951735', 'name': 'P...                   0   \n",
       "3  [{'id': '4bf58dd8d48988d10f951735', 'name': 'P...                   0   \n",
       "4  [{'id': '4bf58dd8d48988d148941735', 'name': 'D...                   0   \n",
       "\n",
       "  venue.photos.groups venue.delivery.id  \\\n",
       "0                  []               NaN   \n",
       "1                  []               NaN   \n",
       "2                  []               NaN   \n",
       "3                  []               NaN   \n",
       "4                  []           1984066   \n",
       "\n",
       "                                  venue.delivery.url  \\\n",
       "0                                                NaN   \n",
       "1                                                NaN   \n",
       "2                                                NaN   \n",
       "3                                                NaN   \n",
       "4  https://www.seamless.com/menu/dunkin-980-e-233...   \n",
       "\n",
       "  venue.delivery.provider.name       venue.delivery.provider.icon.prefix  \\\n",
       "0                          NaN                                       NaN   \n",
       "1                          NaN                                       NaN   \n",
       "2                          NaN                                       NaN   \n",
       "3                          NaN                                       NaN   \n",
       "4                     seamless  https://fastly.4sqi.net/img/general/cap/   \n",
       "\n",
       "  venue.delivery.provider.icon.sizes         venue.delivery.provider.icon.name  \n",
       "0                                NaN                                       NaN  \n",
       "1                                NaN                                       NaN  \n",
       "2                                NaN                                       NaN  \n",
       "3                                NaN                                       NaN  \n",
       "4                           [40, 50]  /delivery_provider_seamless_20180129.png  "
      ]
     },
     "execution_count": 72,
     "metadata": {},
     "output_type": "execute_result"
    }
   ],
   "source": [
    "venues_df = get_venues(url)\n",
    "\n",
    "venues_df.head()"
   ]
  },
  {
   "cell_type": "code",
   "execution_count": 73,
   "metadata": {},
   "outputs": [
    {
     "data": {
      "text/html": [
       "<div>\n",
       "<style scoped>\n",
       "    .dataframe tbody tr th:only-of-type {\n",
       "        vertical-align: middle;\n",
       "    }\n",
       "\n",
       "    .dataframe tbody tr th {\n",
       "        vertical-align: top;\n",
       "    }\n",
       "\n",
       "    .dataframe thead th {\n",
       "        text-align: right;\n",
       "    }\n",
       "</style>\n",
       "<table border=\"1\" class=\"dataframe\">\n",
       "  <thead>\n",
       "    <tr style=\"text-align: right;\">\n",
       "      <th></th>\n",
       "      <th>Category</th>\n",
       "      <th>Lat</th>\n",
       "      <th>Lng</th>\n",
       "      <th>Name</th>\n",
       "    </tr>\n",
       "  </thead>\n",
       "  <tbody>\n",
       "    <tr>\n",
       "      <th>0</th>\n",
       "      <td>[{'id': '4bf58dd8d48988d1d0941735', 'name': 'D...</td>\n",
       "      <td>40.894123</td>\n",
       "      <td>-73.845892</td>\n",
       "      <td>Lollipops Gelato</td>\n",
       "    </tr>\n",
       "    <tr>\n",
       "      <th>1</th>\n",
       "      <td>[{'id': '4bf58dd8d48988d1c9941735', 'name': 'I...</td>\n",
       "      <td>40.890487</td>\n",
       "      <td>-73.848568</td>\n",
       "      <td>Carvel Ice Cream</td>\n",
       "    </tr>\n",
       "    <tr>\n",
       "      <th>2</th>\n",
       "      <td>[{'id': '4bf58dd8d48988d10f951735', 'name': 'P...</td>\n",
       "      <td>40.896528</td>\n",
       "      <td>-73.844700</td>\n",
       "      <td>Walgreens</td>\n",
       "    </tr>\n",
       "    <tr>\n",
       "      <th>3</th>\n",
       "      <td>[{'id': '4bf58dd8d48988d10f951735', 'name': 'P...</td>\n",
       "      <td>40.896649</td>\n",
       "      <td>-73.844846</td>\n",
       "      <td>Rite Aid</td>\n",
       "    </tr>\n",
       "    <tr>\n",
       "      <th>4</th>\n",
       "      <td>[{'id': '4bf58dd8d48988d148941735', 'name': 'D...</td>\n",
       "      <td>40.890459</td>\n",
       "      <td>-73.849089</td>\n",
       "      <td>Dunkin'</td>\n",
       "    </tr>\n",
       "  </tbody>\n",
       "</table>\n",
       "</div>"
      ],
      "text/plain": [
       "                                            Category        Lat        Lng  \\\n",
       "0  [{'id': '4bf58dd8d48988d1d0941735', 'name': 'D...  40.894123 -73.845892   \n",
       "1  [{'id': '4bf58dd8d48988d1c9941735', 'name': 'I...  40.890487 -73.848568   \n",
       "2  [{'id': '4bf58dd8d48988d10f951735', 'name': 'P...  40.896528 -73.844700   \n",
       "3  [{'id': '4bf58dd8d48988d10f951735', 'name': 'P...  40.896649 -73.844846   \n",
       "4  [{'id': '4bf58dd8d48988d148941735', 'name': 'D...  40.890459 -73.849089   \n",
       "\n",
       "               Name  \n",
       "0  Lollipops Gelato  \n",
       "1  Carvel Ice Cream  \n",
       "2         Walgreens  \n",
       "3          Rite Aid  \n",
       "4           Dunkin'  "
      ]
     },
     "execution_count": 73,
     "metadata": {},
     "output_type": "execute_result"
    }
   ],
   "source": [
    "#function to clean the venues dataframe\n",
    "def clean_df(df):\n",
    "    relevant_columns = ['venue.categories', 'venue.location.lat', 'venue.location.lng', 'venue.name']\n",
    "    clean_df = df.loc[:,relevant_columns]\n",
    "\n",
    "    #rename columns\n",
    "    clean_df.columns = ['Category', 'Lat', 'Lng', 'Name']\n",
    "    return clean_df \n",
    "\n",
    "venues_df = clean_df(venues_df)\n",
    "venues_df.head()"
   ]
  },
  {
   "cell_type": "code",
   "execution_count": 74,
   "metadata": {},
   "outputs": [
    {
     "data": {
      "text/plain": [
       "[{'id': '4bf58dd8d48988d10f951735',\n",
       "  'name': 'Pharmacy',\n",
       "  'pluralName': 'Pharmacies',\n",
       "  'shortName': 'Pharmacy',\n",
       "  'icon': {'prefix': 'https://ss3.4sqi.net/img/categories_v2/shops/pharmacy_',\n",
       "   'suffix': '.png'},\n",
       "  'primary': True}]"
      ]
     },
     "execution_count": 74,
     "metadata": {},
     "output_type": "execute_result"
    }
   ],
   "source": [
    "venues_df.loc[3, 'Category']"
   ]
  },
  {
   "cell_type": "code",
   "execution_count": 75,
   "metadata": {},
   "outputs": [
    {
     "data": {
      "text/html": [
       "<div>\n",
       "<style scoped>\n",
       "    .dataframe tbody tr th:only-of-type {\n",
       "        vertical-align: middle;\n",
       "    }\n",
       "\n",
       "    .dataframe tbody tr th {\n",
       "        vertical-align: top;\n",
       "    }\n",
       "\n",
       "    .dataframe thead th {\n",
       "        text-align: right;\n",
       "    }\n",
       "</style>\n",
       "<table border=\"1\" class=\"dataframe\">\n",
       "  <thead>\n",
       "    <tr style=\"text-align: right;\">\n",
       "      <th></th>\n",
       "      <th>Category</th>\n",
       "      <th>Lat</th>\n",
       "      <th>Lng</th>\n",
       "      <th>Name</th>\n",
       "    </tr>\n",
       "  </thead>\n",
       "  <tbody>\n",
       "    <tr>\n",
       "      <th>0</th>\n",
       "      <td>Dessert Shop</td>\n",
       "      <td>40.894123</td>\n",
       "      <td>-73.845892</td>\n",
       "      <td>Lollipops Gelato</td>\n",
       "    </tr>\n",
       "    <tr>\n",
       "      <th>1</th>\n",
       "      <td>Ice Cream Shop</td>\n",
       "      <td>40.890487</td>\n",
       "      <td>-73.848568</td>\n",
       "      <td>Carvel Ice Cream</td>\n",
       "    </tr>\n",
       "    <tr>\n",
       "      <th>2</th>\n",
       "      <td>Pharmacy</td>\n",
       "      <td>40.896528</td>\n",
       "      <td>-73.844700</td>\n",
       "      <td>Walgreens</td>\n",
       "    </tr>\n",
       "    <tr>\n",
       "      <th>3</th>\n",
       "      <td>Pharmacy</td>\n",
       "      <td>40.896649</td>\n",
       "      <td>-73.844846</td>\n",
       "      <td>Rite Aid</td>\n",
       "    </tr>\n",
       "    <tr>\n",
       "      <th>4</th>\n",
       "      <td>Donut Shop</td>\n",
       "      <td>40.890459</td>\n",
       "      <td>-73.849089</td>\n",
       "      <td>Dunkin'</td>\n",
       "    </tr>\n",
       "    <tr>\n",
       "      <th>5</th>\n",
       "      <td>Gas Station</td>\n",
       "      <td>40.894187</td>\n",
       "      <td>-73.845862</td>\n",
       "      <td>Shell</td>\n",
       "    </tr>\n",
       "    <tr>\n",
       "      <th>6</th>\n",
       "      <td>Sandwich Place</td>\n",
       "      <td>40.890468</td>\n",
       "      <td>-73.849152</td>\n",
       "      <td>Subway</td>\n",
       "    </tr>\n",
       "    <tr>\n",
       "      <th>7</th>\n",
       "      <td>Pizza Place</td>\n",
       "      <td>40.898399</td>\n",
       "      <td>-73.848810</td>\n",
       "      <td>Louis Pizza</td>\n",
       "    </tr>\n",
       "    <tr>\n",
       "      <th>8</th>\n",
       "      <td>Laundromat</td>\n",
       "      <td>40.891281</td>\n",
       "      <td>-73.849904</td>\n",
       "      <td>Koss Quick Wash</td>\n",
       "    </tr>\n",
       "  </tbody>\n",
       "</table>\n",
       "</div>"
      ],
      "text/plain": [
       "         Category        Lat        Lng              Name\n",
       "0    Dessert Shop  40.894123 -73.845892  Lollipops Gelato\n",
       "1  Ice Cream Shop  40.890487 -73.848568  Carvel Ice Cream\n",
       "2        Pharmacy  40.896528 -73.844700         Walgreens\n",
       "3        Pharmacy  40.896649 -73.844846          Rite Aid\n",
       "4      Donut Shop  40.890459 -73.849089           Dunkin'\n",
       "5     Gas Station  40.894187 -73.845862             Shell\n",
       "6  Sandwich Place  40.890468 -73.849152            Subway\n",
       "7     Pizza Place  40.898399 -73.848810       Louis Pizza\n",
       "8      Laundromat  40.891281 -73.849904   Koss Quick Wash"
      ]
     },
     "execution_count": 75,
     "metadata": {},
     "output_type": "execute_result"
    }
   ],
   "source": [
    "#function that extract the category name\n",
    "def get_category_name(row):\n",
    "    category_json = row['Category']\n",
    "    try:\n",
    "        return category_json[0]['name']\n",
    "    except:        \n",
    "        return None\n",
    "\n",
    "venues_df['Category'] = venues_df.apply(get_category_name, axis=1)\n",
    "\n",
    "venues_df"
   ]
  },
  {
   "cell_type": "code",
   "execution_count": 76,
   "metadata": {},
   "outputs": [],
   "source": [
    "#function to construct the dataframe with all the pharmacy's coordinates\n",
    "def get_all_venues(ID, lat, lng):\n",
    "    venues_list=[]\n",
    "    for ID, lat, lng in zip(ID, lat, lng):\n",
    "        url= format_url(lat, lng)\n",
    "        results = requests.get(url).json()['response']['groups'][0]['items']\n",
    "        \n",
    "        venues_list.append([(\n",
    "            ID, \n",
    "            lat, \n",
    "            lng, \n",
    "            v['venue']['name'], \n",
    "            v['venue']['location']['lat'], \n",
    "            v['venue']['location']['lng'], \n",
    "            v['venue']['categories'][0]['name'])\n",
    "            for v in results])\n",
    "    all_venues = pd.DataFrame([item for venue_list in venues_list for item in venue_list])\n",
    "    all_venues.columns = ['Pharmacy ID', \n",
    "                  'Borough Latitude', \n",
    "                  'Borough Longitude', \n",
    "                  'Pharmacy', \n",
    "                  'Pharmacy Latitude', \n",
    "                  'Pharmacy Longitude',\n",
    "                  'Pharmacy Category'\n",
    "                  ]\n",
    "    \n",
    "    return all_venues"
   ]
  },
  {
   "cell_type": "code",
   "execution_count": 77,
   "metadata": {},
   "outputs": [
    {
     "data": {
      "text/html": [
       "<div>\n",
       "<style scoped>\n",
       "    .dataframe tbody tr th:only-of-type {\n",
       "        vertical-align: middle;\n",
       "    }\n",
       "\n",
       "    .dataframe tbody tr th {\n",
       "        vertical-align: top;\n",
       "    }\n",
       "\n",
       "    .dataframe thead th {\n",
       "        text-align: right;\n",
       "    }\n",
       "</style>\n",
       "<table border=\"1\" class=\"dataframe\">\n",
       "  <thead>\n",
       "    <tr style=\"text-align: right;\">\n",
       "      <th></th>\n",
       "      <th>Borough_x</th>\n",
       "      <th>Neighborhood</th>\n",
       "      <th>ID</th>\n",
       "      <th>Name</th>\n",
       "      <th>Borough_y</th>\n",
       "      <th>Latitude</th>\n",
       "      <th>Longitude</th>\n",
       "    </tr>\n",
       "  </thead>\n",
       "  <tbody>\n",
       "    <tr>\n",
       "      <th>508</th>\n",
       "      <td>Queens</td>\n",
       "      <td>Bayswater</td>\n",
       "      <td>50058548e4b07c19de39effd</td>\n",
       "      <td>Vista Pharmacy &amp; Surgical</td>\n",
       "      <td>Queens</td>\n",
       "      <td>40.611322</td>\n",
       "      <td>-73.765968</td>\n",
       "    </tr>\n",
       "    <tr>\n",
       "      <th>509</th>\n",
       "      <td>Staten Island</td>\n",
       "      <td>Fox Hills</td>\n",
       "      <td>4b2ea393f964a5200ae424e3</td>\n",
       "      <td>CVS pharmacy</td>\n",
       "      <td>Staten Island</td>\n",
       "      <td>40.617311</td>\n",
       "      <td>-74.081740</td>\n",
       "    </tr>\n",
       "    <tr>\n",
       "      <th>510</th>\n",
       "      <td>Staten Island</td>\n",
       "      <td>Fox Hills</td>\n",
       "      <td>4ce97b54595cb1f723e8ce14</td>\n",
       "      <td>Rite Aid</td>\n",
       "      <td>Staten Island</td>\n",
       "      <td>40.617311</td>\n",
       "      <td>-74.081740</td>\n",
       "    </tr>\n",
       "    <tr>\n",
       "      <th>511</th>\n",
       "      <td>Staten Island</td>\n",
       "      <td>Fox Hills</td>\n",
       "      <td>4df38b0522718759f82017a1</td>\n",
       "      <td>Millers pharmacy</td>\n",
       "      <td>Staten Island</td>\n",
       "      <td>40.617311</td>\n",
       "      <td>-74.081740</td>\n",
       "    </tr>\n",
       "    <tr>\n",
       "      <th>512</th>\n",
       "      <td>Staten Island</td>\n",
       "      <td>Fox Hills</td>\n",
       "      <td>4c4722f71ddec9289e639c32</td>\n",
       "      <td>Classic Pharmacy, Inc.</td>\n",
       "      <td>Staten Island</td>\n",
       "      <td>40.617311</td>\n",
       "      <td>-74.081740</td>\n",
       "    </tr>\n",
       "  </tbody>\n",
       "</table>\n",
       "</div>"
      ],
      "text/plain": [
       "         Borough_x Neighborhood                        ID  \\\n",
       "508         Queens    Bayswater  50058548e4b07c19de39effd   \n",
       "509  Staten Island    Fox Hills  4b2ea393f964a5200ae424e3   \n",
       "510  Staten Island    Fox Hills  4ce97b54595cb1f723e8ce14   \n",
       "511  Staten Island    Fox Hills  4df38b0522718759f82017a1   \n",
       "512  Staten Island    Fox Hills  4c4722f71ddec9289e639c32   \n",
       "\n",
       "                          Name      Borough_y   Latitude  Longitude  \n",
       "508  Vista Pharmacy & Surgical         Queens  40.611322 -73.765968  \n",
       "509               CVS pharmacy  Staten Island  40.617311 -74.081740  \n",
       "510                   Rite Aid  Staten Island  40.617311 -74.081740  \n",
       "511           Millers pharmacy  Staten Island  40.617311 -74.081740  \n",
       "512     Classic Pharmacy, Inc.  Staten Island  40.617311 -74.081740  "
      ]
     },
     "execution_count": 77,
     "metadata": {},
     "output_type": "execute_result"
    }
   ],
   "source": [
    "all_pharmacies.tail()"
   ]
  },
  {
   "cell_type": "code",
   "execution_count": 106,
   "metadata": {},
   "outputs": [
    {
     "name": "stdout",
     "output_type": "stream",
     "text": [
      "The total number of venues returned is  9370\n"
     ]
    },
    {
     "data": {
      "text/html": [
       "<div>\n",
       "<style scoped>\n",
       "    .dataframe tbody tr th:only-of-type {\n",
       "        vertical-align: middle;\n",
       "    }\n",
       "\n",
       "    .dataframe tbody tr th {\n",
       "        vertical-align: top;\n",
       "    }\n",
       "\n",
       "    .dataframe thead th {\n",
       "        text-align: right;\n",
       "    }\n",
       "</style>\n",
       "<table border=\"1\" class=\"dataframe\">\n",
       "  <thead>\n",
       "    <tr style=\"text-align: right;\">\n",
       "      <th></th>\n",
       "      <th>Pharmacy ID</th>\n",
       "      <th>Borough Latitude</th>\n",
       "      <th>Borough Longitude</th>\n",
       "      <th>Pharmacy</th>\n",
       "      <th>Pharmacy Latitude</th>\n",
       "      <th>Pharmacy Longitude</th>\n",
       "      <th>Pharmacy Category</th>\n",
       "    </tr>\n",
       "  </thead>\n",
       "  <tbody>\n",
       "    <tr>\n",
       "      <th>0</th>\n",
       "      <td>4beda0fc6e8c20a14aa97061</td>\n",
       "      <td>40.894705</td>\n",
       "      <td>-73.847201</td>\n",
       "      <td>Lollipops Gelato</td>\n",
       "      <td>40.894123</td>\n",
       "      <td>-73.845892</td>\n",
       "      <td>Dessert Shop</td>\n",
       "    </tr>\n",
       "    <tr>\n",
       "      <th>1</th>\n",
       "      <td>4beda0fc6e8c20a14aa97061</td>\n",
       "      <td>40.894705</td>\n",
       "      <td>-73.847201</td>\n",
       "      <td>Carvel Ice Cream</td>\n",
       "      <td>40.890487</td>\n",
       "      <td>-73.848568</td>\n",
       "      <td>Ice Cream Shop</td>\n",
       "    </tr>\n",
       "    <tr>\n",
       "      <th>2</th>\n",
       "      <td>4beda0fc6e8c20a14aa97061</td>\n",
       "      <td>40.894705</td>\n",
       "      <td>-73.847201</td>\n",
       "      <td>Walgreens</td>\n",
       "      <td>40.896528</td>\n",
       "      <td>-73.844700</td>\n",
       "      <td>Pharmacy</td>\n",
       "    </tr>\n",
       "    <tr>\n",
       "      <th>3</th>\n",
       "      <td>4beda0fc6e8c20a14aa97061</td>\n",
       "      <td>40.894705</td>\n",
       "      <td>-73.847201</td>\n",
       "      <td>Rite Aid</td>\n",
       "      <td>40.896649</td>\n",
       "      <td>-73.844846</td>\n",
       "      <td>Pharmacy</td>\n",
       "    </tr>\n",
       "    <tr>\n",
       "      <th>4</th>\n",
       "      <td>4beda0fc6e8c20a14aa97061</td>\n",
       "      <td>40.894705</td>\n",
       "      <td>-73.847201</td>\n",
       "      <td>Dunkin'</td>\n",
       "      <td>40.890459</td>\n",
       "      <td>-73.849089</td>\n",
       "      <td>Donut Shop</td>\n",
       "    </tr>\n",
       "    <tr>\n",
       "      <th>5</th>\n",
       "      <td>4beda0fc6e8c20a14aa97061</td>\n",
       "      <td>40.894705</td>\n",
       "      <td>-73.847201</td>\n",
       "      <td>Shell</td>\n",
       "      <td>40.894187</td>\n",
       "      <td>-73.845862</td>\n",
       "      <td>Gas Station</td>\n",
       "    </tr>\n",
       "    <tr>\n",
       "      <th>6</th>\n",
       "      <td>4beda0fc6e8c20a14aa97061</td>\n",
       "      <td>40.894705</td>\n",
       "      <td>-73.847201</td>\n",
       "      <td>Subway</td>\n",
       "      <td>40.890468</td>\n",
       "      <td>-73.849152</td>\n",
       "      <td>Sandwich Place</td>\n",
       "    </tr>\n",
       "    <tr>\n",
       "      <th>7</th>\n",
       "      <td>4beda0fc6e8c20a14aa97061</td>\n",
       "      <td>40.894705</td>\n",
       "      <td>-73.847201</td>\n",
       "      <td>Koss Quick Wash</td>\n",
       "      <td>40.891281</td>\n",
       "      <td>-73.849904</td>\n",
       "      <td>Laundromat</td>\n",
       "    </tr>\n",
       "    <tr>\n",
       "      <th>8</th>\n",
       "      <td>4bb4deb4a70595218bd41bce</td>\n",
       "      <td>40.894705</td>\n",
       "      <td>-73.847201</td>\n",
       "      <td>Lollipops Gelato</td>\n",
       "      <td>40.894123</td>\n",
       "      <td>-73.845892</td>\n",
       "      <td>Dessert Shop</td>\n",
       "    </tr>\n",
       "    <tr>\n",
       "      <th>9</th>\n",
       "      <td>4bb4deb4a70595218bd41bce</td>\n",
       "      <td>40.894705</td>\n",
       "      <td>-73.847201</td>\n",
       "      <td>Carvel Ice Cream</td>\n",
       "      <td>40.890487</td>\n",
       "      <td>-73.848568</td>\n",
       "      <td>Ice Cream Shop</td>\n",
       "    </tr>\n",
       "  </tbody>\n",
       "</table>\n",
       "</div>"
      ],
      "text/plain": [
       "                Pharmacy ID  Borough Latitude  Borough Longitude  \\\n",
       "0  4beda0fc6e8c20a14aa97061         40.894705         -73.847201   \n",
       "1  4beda0fc6e8c20a14aa97061         40.894705         -73.847201   \n",
       "2  4beda0fc6e8c20a14aa97061         40.894705         -73.847201   \n",
       "3  4beda0fc6e8c20a14aa97061         40.894705         -73.847201   \n",
       "4  4beda0fc6e8c20a14aa97061         40.894705         -73.847201   \n",
       "5  4beda0fc6e8c20a14aa97061         40.894705         -73.847201   \n",
       "6  4beda0fc6e8c20a14aa97061         40.894705         -73.847201   \n",
       "7  4beda0fc6e8c20a14aa97061         40.894705         -73.847201   \n",
       "8  4bb4deb4a70595218bd41bce         40.894705         -73.847201   \n",
       "9  4bb4deb4a70595218bd41bce         40.894705         -73.847201   \n",
       "\n",
       "           Pharmacy  Pharmacy Latitude  Pharmacy Longitude Pharmacy Category  \n",
       "0  Lollipops Gelato          40.894123          -73.845892      Dessert Shop  \n",
       "1  Carvel Ice Cream          40.890487          -73.848568    Ice Cream Shop  \n",
       "2         Walgreens          40.896528          -73.844700          Pharmacy  \n",
       "3          Rite Aid          40.896649          -73.844846          Pharmacy  \n",
       "4           Dunkin'          40.890459          -73.849089        Donut Shop  \n",
       "5             Shell          40.894187          -73.845862       Gas Station  \n",
       "6            Subway          40.890468          -73.849152    Sandwich Place  \n",
       "7   Koss Quick Wash          40.891281          -73.849904        Laundromat  \n",
       "8  Lollipops Gelato          40.894123          -73.845892      Dessert Shop  \n",
       "9  Carvel Ice Cream          40.890487          -73.848568    Ice Cream Shop  "
      ]
     },
     "execution_count": 106,
     "metadata": {},
     "output_type": "execute_result"
    }
   ],
   "source": [
    "all_venues = get_all_venues(all_pharmacies['ID'],all_pharmacies['Latitude'], all_pharmacies['Longitude'])\n",
    "\n",
    "print('The total number of venues returned is ', all_venues.shape[0])\n",
    "\n",
    "all_venues.head(10)"
   ]
  },
  {
   "cell_type": "markdown",
   "metadata": {},
   "source": [
    "It can be seen that the all_venues data frame returned all venues in new york city. These venues will be cleaned by only filtering for pharmacies."
   ]
  },
  {
   "cell_type": "code",
   "execution_count": 107,
   "metadata": {},
   "outputs": [],
   "source": [
    "all_venues.to_csv('all_venues.csv', index=False)"
   ]
  },
  {
   "cell_type": "code",
   "execution_count": 78,
   "metadata": {},
   "outputs": [],
   "source": [
    "all_venues=pd.read_csv('all_venues.csv')"
   ]
  },
  {
   "cell_type": "code",
   "execution_count": 79,
   "metadata": {},
   "outputs": [],
   "source": [
    "All_PharmaciesNY=all_venues[all_venues['Pharmacy Category'] == 'Pharmacy']"
   ]
  },
  {
   "cell_type": "code",
   "execution_count": 80,
   "metadata": {},
   "outputs": [
    {
     "data": {
      "text/html": [
       "<div>\n",
       "<style scoped>\n",
       "    .dataframe tbody tr th:only-of-type {\n",
       "        vertical-align: middle;\n",
       "    }\n",
       "\n",
       "    .dataframe tbody tr th {\n",
       "        vertical-align: top;\n",
       "    }\n",
       "\n",
       "    .dataframe thead th {\n",
       "        text-align: right;\n",
       "    }\n",
       "</style>\n",
       "<table border=\"1\" class=\"dataframe\">\n",
       "  <thead>\n",
       "    <tr style=\"text-align: right;\">\n",
       "      <th></th>\n",
       "      <th>Pharmacy ID</th>\n",
       "      <th>Borough Latitude</th>\n",
       "      <th>Borough Longitude</th>\n",
       "      <th>Pharmacy</th>\n",
       "      <th>Pharmacy Latitude</th>\n",
       "      <th>Pharmacy Longitude</th>\n",
       "      <th>Pharmacy Category</th>\n",
       "    </tr>\n",
       "  </thead>\n",
       "  <tbody>\n",
       "    <tr>\n",
       "      <th>2</th>\n",
       "      <td>4beda0fc6e8c20a14aa97061</td>\n",
       "      <td>40.894705</td>\n",
       "      <td>-73.847201</td>\n",
       "      <td>Walgreens</td>\n",
       "      <td>40.896528</td>\n",
       "      <td>-73.844700</td>\n",
       "      <td>Pharmacy</td>\n",
       "    </tr>\n",
       "    <tr>\n",
       "      <th>3</th>\n",
       "      <td>4beda0fc6e8c20a14aa97061</td>\n",
       "      <td>40.894705</td>\n",
       "      <td>-73.847201</td>\n",
       "      <td>Rite Aid</td>\n",
       "      <td>40.896649</td>\n",
       "      <td>-73.844846</td>\n",
       "      <td>Pharmacy</td>\n",
       "    </tr>\n",
       "    <tr>\n",
       "      <th>10</th>\n",
       "      <td>4bb4deb4a70595218bd41bce</td>\n",
       "      <td>40.894705</td>\n",
       "      <td>-73.847201</td>\n",
       "      <td>Walgreens</td>\n",
       "      <td>40.896528</td>\n",
       "      <td>-73.844700</td>\n",
       "      <td>Pharmacy</td>\n",
       "    </tr>\n",
       "    <tr>\n",
       "      <th>11</th>\n",
       "      <td>4bb4deb4a70595218bd41bce</td>\n",
       "      <td>40.894705</td>\n",
       "      <td>-73.847201</td>\n",
       "      <td>Rite Aid</td>\n",
       "      <td>40.896649</td>\n",
       "      <td>-73.844846</td>\n",
       "      <td>Pharmacy</td>\n",
       "    </tr>\n",
       "    <tr>\n",
       "      <th>18</th>\n",
       "      <td>4d6af9426107f04dedeb297a</td>\n",
       "      <td>40.894705</td>\n",
       "      <td>-73.847201</td>\n",
       "      <td>Walgreens</td>\n",
       "      <td>40.896528</td>\n",
       "      <td>-73.844700</td>\n",
       "      <td>Pharmacy</td>\n",
       "    </tr>\n",
       "  </tbody>\n",
       "</table>\n",
       "</div>"
      ],
      "text/plain": [
       "                 Pharmacy ID  Borough Latitude  Borough Longitude   Pharmacy  \\\n",
       "2   4beda0fc6e8c20a14aa97061         40.894705         -73.847201  Walgreens   \n",
       "3   4beda0fc6e8c20a14aa97061         40.894705         -73.847201   Rite Aid   \n",
       "10  4bb4deb4a70595218bd41bce         40.894705         -73.847201  Walgreens   \n",
       "11  4bb4deb4a70595218bd41bce         40.894705         -73.847201   Rite Aid   \n",
       "18  4d6af9426107f04dedeb297a         40.894705         -73.847201  Walgreens   \n",
       "\n",
       "    Pharmacy Latitude  Pharmacy Longitude Pharmacy Category  \n",
       "2           40.896528          -73.844700          Pharmacy  \n",
       "3           40.896649          -73.844846          Pharmacy  \n",
       "10          40.896528          -73.844700          Pharmacy  \n",
       "11          40.896649          -73.844846          Pharmacy  \n",
       "18          40.896528          -73.844700          Pharmacy  "
      ]
     },
     "execution_count": 80,
     "metadata": {},
     "output_type": "execute_result"
    }
   ],
   "source": [
    "All_PharmaciesNY.head()"
   ]
  },
  {
   "cell_type": "code",
   "execution_count": 81,
   "metadata": {},
   "outputs": [],
   "source": [
    "ALL_PHARMACIES=All_PharmaciesNY.drop_duplicates(subset=['Pharmacy ID'])"
   ]
  },
  {
   "cell_type": "code",
   "execution_count": 82,
   "metadata": {},
   "outputs": [
    {
     "data": {
      "text/plain": [
       "(134, 7)"
      ]
     },
     "execution_count": 82,
     "metadata": {},
     "output_type": "execute_result"
    }
   ],
   "source": [
    "ALL_PHARMACIES.shape"
   ]
  },
  {
   "cell_type": "markdown",
   "metadata": {},
   "source": [
    "Looking at the results of pulling pharmacies coordinatesit can be seen that their corrdinated are unique and the duplicates are romoved further which reduces the number from 185 to 134. It should be noted that this data might not be that accurate due to foursquare data inconsistencies."
   ]
  },
  {
   "cell_type": "markdown",
   "metadata": {},
   "source": [
    "# Clustering "
   ]
  },
  {
   "cell_type": "markdown",
   "metadata": {},
   "source": [
    "The following lines of codes performs a K-means clustering on the above 134 pharmacies to determine the centroid that can be used as the pharmaceutical factory."
   ]
  },
  {
   "cell_type": "code",
   "execution_count": 85,
   "metadata": {},
   "outputs": [],
   "source": [
    "import numpy as np\n",
    "import matplotlib.pyplot as plt\n",
    "from matplotlib import style\n",
    "style.use(\"ggplot\")\n",
    "from sklearn.cluster import KMeans"
   ]
  },
  {
   "cell_type": "markdown",
   "metadata": {},
   "source": [
    "Defining the data to be clustered. The coordinates of the pharmacies are changed to X which is an array for the ease of writing the code and best interpretation on cartesian plane."
   ]
  },
  {
   "cell_type": "code",
   "execution_count": 86,
   "metadata": {},
   "outputs": [],
   "source": [
    "Xs1=ALL_PHARMACIES.iloc[:,4:6]\n",
    "Xs=Xs1[['Pharmacy Longitude','Pharmacy Latitude']]\n",
    "X=np.array(Xs)"
   ]
  },
  {
   "cell_type": "code",
   "execution_count": 87,
   "metadata": {},
   "outputs": [
    {
     "data": {
      "text/html": [
       "<div>\n",
       "<style scoped>\n",
       "    .dataframe tbody tr th:only-of-type {\n",
       "        vertical-align: middle;\n",
       "    }\n",
       "\n",
       "    .dataframe tbody tr th {\n",
       "        vertical-align: top;\n",
       "    }\n",
       "\n",
       "    .dataframe thead th {\n",
       "        text-align: right;\n",
       "    }\n",
       "</style>\n",
       "<table border=\"1\" class=\"dataframe\">\n",
       "  <thead>\n",
       "    <tr style=\"text-align: right;\">\n",
       "      <th></th>\n",
       "      <th>Pharmacy Longitude</th>\n",
       "      <th>Pharmacy Latitude</th>\n",
       "    </tr>\n",
       "  </thead>\n",
       "  <tbody>\n",
       "    <tr>\n",
       "      <th>2</th>\n",
       "      <td>-73.8447</td>\n",
       "      <td>40.896528</td>\n",
       "    </tr>\n",
       "    <tr>\n",
       "      <th>10</th>\n",
       "      <td>-73.8447</td>\n",
       "      <td>40.896528</td>\n",
       "    </tr>\n",
       "    <tr>\n",
       "      <th>18</th>\n",
       "      <td>-73.8447</td>\n",
       "      <td>40.896528</td>\n",
       "    </tr>\n",
       "    <tr>\n",
       "      <th>26</th>\n",
       "      <td>-73.8447</td>\n",
       "      <td>40.896528</td>\n",
       "    </tr>\n",
       "    <tr>\n",
       "      <th>34</th>\n",
       "      <td>-73.8447</td>\n",
       "      <td>40.896528</td>\n",
       "    </tr>\n",
       "  </tbody>\n",
       "</table>\n",
       "</div>"
      ],
      "text/plain": [
       "    Pharmacy Longitude  Pharmacy Latitude\n",
       "2             -73.8447          40.896528\n",
       "10            -73.8447          40.896528\n",
       "18            -73.8447          40.896528\n",
       "26            -73.8447          40.896528\n",
       "34            -73.8447          40.896528"
      ]
     },
     "execution_count": 87,
     "metadata": {},
     "output_type": "execute_result"
    }
   ],
   "source": [
    "Xs.head()"
   ]
  },
  {
   "cell_type": "markdown",
   "metadata": {},
   "source": [
    "A scatter plot of the data is drawn to visualize the distribution of the pharmacies"
   ]
  },
  {
   "cell_type": "code",
   "execution_count": 88,
   "metadata": {},
   "outputs": [
    {
     "data": {
      "image/png": "[encoded data removed]",
      "text/plain": [
       "<Figure size 640x480 with 1 Axes>"
      ]
     },
     "metadata": {},
     "output_type": "display_data"
    }
   ],
   "source": [
    "import numpy as np\n",
    "import matplotlib.pyplot as plt\n",
    "\n",
    "x = Xs.iloc[:,0]\n",
    "y = Xs.iloc[:,1]\n",
    "area = np.pi*3\n",
    "\n",
    "# Plot\n",
    "plt.scatter(x, y, s=area, c='b', alpha=0.5)\n",
    "plt.title('Scatter plot of the pharmacies in New York City')\n",
    "plt.xlabel('Longitude')\n",
    "plt.ylabel('Latitude')\n",
    "plt.show()"
   ]
  },
  {
   "cell_type": "code",
   "execution_count": 89,
   "metadata": {},
   "outputs": [],
   "source": [
    "kmeans = KMeans(n_clusters=3)\n",
    "kmeans.fit(X)\n",
    "\n",
    "centroids = kmeans.cluster_centers_\n",
    "labels = kmeans.labels_\n",
    "\n",
    "#print(centroids)\n",
    "#print(labels)"
   ]
  },
  {
   "cell_type": "code",
   "execution_count": 90,
   "metadata": {},
   "outputs": [
    {
     "data": {
      "image/png": "[encoded data removed]",
      "text/plain": [
       "<Figure size 640x480 with 1 Axes>"
      ]
     },
     "metadata": {},
     "output_type": "display_data"
    }
   ],
   "source": [
    "colors = [\"g.\",\"r.\",\"c.\",\"y.\"]\n",
    "\n",
    "for i in range(len(X)):\n",
    "    #print(\"coordinate:\",X[i], \"label:\", labels[i])\n",
    "    plt.plot(X[i][0], X[i][1], colors[labels[i]], markersize = 10)\n",
    "\n",
    "\n",
    "plt.scatter(centroids[:, 0],centroids[:, 1], marker = \"x\", s=150, linewidths = 5, zorder = 10)\n",
    "plt.title('Clustered pharmacies of New York City')\n",
    "plt.xlabel('Longitude')\n",
    "plt.ylabel('Latitude')\n",
    "plt.show()"
   ]
  },
  {
   "cell_type": "code",
   "execution_count": 91,
   "metadata": {},
   "outputs": [
    {
     "data": {
      "text/plain": [
       "array([[-73.86543917,  40.65372257],\n",
       "       [-74.1162373 ,  40.59343698],\n",
       "       [-73.83983081,  40.82388884]])"
      ]
     },
     "execution_count": 91,
     "metadata": {},
     "output_type": "execute_result"
    }
   ],
   "source": [
    "centroids"
   ]
  },
  {
   "cell_type": "markdown",
   "metadata": {},
   "source": [
    "### The locations found from the results of clustering above are as follows:\\\n",
    "Factory location 1 (Blue) = Seaview Ave, Brooklyn\\\n",
    "Factory location 2 (Red) = Wetchester Ave, Bronx\\\n",
    "Factory location 3 (Green) = Yellow trail, Staten Island"
   ]
  },
  {
   "cell_type": "markdown",
   "metadata": {},
   "source": [
    "The following lines of code are used to draw a map with a pop up of these three locations."
   ]
  },
  {
   "cell_type": "code",
   "execution_count": 106,
   "metadata": {},
   "outputs": [],
   "source": [
    "FactoryData =pd.DataFrame({\n",
    "    'Pharmacy ID' : ['Yellow Trail: Staten Island','Wetchester Ave: Bronx','Seaview Ave: Brooklyn'],\n",
    "    'Borough Latitude' : [40.59343698,40.82388884,40.65372257],\n",
    "    'Borough Longitude' : [-74.1162373,-73.83983081,-73.86543917],\n",
    "    'Pharmacy' : ['Factory',' Factory','Factory'],\n",
    "    'Pharmacy Latitude' : [40.59343698,40.82388884,40.65372257],\n",
    "    'Pharmacy Longitude' : [-74.1162373,-73.83983081,-73.86543917],\n",
    "    'Pharmacy Category' : ['Fatory Location','Factory Location','Factory Location']\n",
    "})"
   ]
  },
  {
   "cell_type": "code",
   "execution_count": 107,
   "metadata": {},
   "outputs": [
    {
     "data": {
      "text/html": [
       "<div>\n",
       "<style scoped>\n",
       "    .dataframe tbody tr th:only-of-type {\n",
       "        vertical-align: middle;\n",
       "    }\n",
       "\n",
       "    .dataframe tbody tr th {\n",
       "        vertical-align: top;\n",
       "    }\n",
       "\n",
       "    .dataframe thead th {\n",
       "        text-align: right;\n",
       "    }\n",
       "</style>\n",
       "<table border=\"1\" class=\"dataframe\">\n",
       "  <thead>\n",
       "    <tr style=\"text-align: right;\">\n",
       "      <th></th>\n",
       "      <th>PharmacyID</th>\n",
       "      <th>Borough Latitude</th>\n",
       "      <th>Borough Longitude</th>\n",
       "      <th>Pharmacy</th>\n",
       "      <th>Pharmacy Latitude</th>\n",
       "      <th>Pharmacy Longitude</th>\n",
       "      <th>Pharmacy Category</th>\n",
       "    </tr>\n",
       "  </thead>\n",
       "  <tbody>\n",
       "    <tr>\n",
       "      <th>0</th>\n",
       "      <td>Yellow Trail: Staten Island</td>\n",
       "      <td>40.593437</td>\n",
       "      <td>-74.116237</td>\n",
       "      <td>Factory</td>\n",
       "      <td>40.593437</td>\n",
       "      <td>-74.116237</td>\n",
       "      <td>Fatory Location</td>\n",
       "    </tr>\n",
       "    <tr>\n",
       "      <th>1</th>\n",
       "      <td>Wetchester Ave: Bronx</td>\n",
       "      <td>40.823889</td>\n",
       "      <td>-73.839831</td>\n",
       "      <td>Factory</td>\n",
       "      <td>40.823889</td>\n",
       "      <td>-73.839831</td>\n",
       "      <td>Factory Location</td>\n",
       "    </tr>\n",
       "    <tr>\n",
       "      <th>2</th>\n",
       "      <td>Seaview Ave: Brooklyn</td>\n",
       "      <td>40.653723</td>\n",
       "      <td>-73.865439</td>\n",
       "      <td>Factory</td>\n",
       "      <td>40.653723</td>\n",
       "      <td>-73.865439</td>\n",
       "      <td>Factory Location</td>\n",
       "    </tr>\n",
       "  </tbody>\n",
       "</table>\n",
       "</div>"
      ],
      "text/plain": [
       "                    PharmacyID  Borough Latitude  Borough Longitude  Pharmacy  \\\n",
       "0  Yellow Trail: Staten Island         40.593437         -74.116237   Factory   \n",
       "1        Wetchester Ave: Bronx         40.823889         -73.839831   Factory   \n",
       "2        Seaview Ave: Brooklyn         40.653723         -73.865439   Factory   \n",
       "\n",
       "   Pharmacy Latitude  Pharmacy Longitude Pharmacy Category  \n",
       "0          40.593437          -74.116237   Fatory Location  \n",
       "1          40.823889          -73.839831  Factory Location  \n",
       "2          40.653723          -73.865439  Factory Location  "
      ]
     },
     "execution_count": 107,
     "metadata": {},
     "output_type": "execute_result"
    }
   ],
   "source": [
    "FactoryData = FactoryData.rename(columns={'Pharmacy ID': 'PharmacyID'})\n",
    "FactoryData"
   ]
  },
  {
   "cell_type": "code",
   "execution_count": 108,
   "metadata": {},
   "outputs": [],
   "source": [
    "ALL_PHARMACIES_AND_FACTORY=ALL_PHARMACIES.append(FactoryData)"
   ]
  },
  {
   "cell_type": "code",
   "execution_count": 109,
   "metadata": {},
   "outputs": [
    {
     "data": {
      "text/html": [
       "<div>\n",
       "<style scoped>\n",
       "    .dataframe tbody tr th:only-of-type {\n",
       "        vertical-align: middle;\n",
       "    }\n",
       "\n",
       "    .dataframe tbody tr th {\n",
       "        vertical-align: top;\n",
       "    }\n",
       "\n",
       "    .dataframe thead th {\n",
       "        text-align: right;\n",
       "    }\n",
       "</style>\n",
       "<table border=\"1\" class=\"dataframe\">\n",
       "  <thead>\n",
       "    <tr style=\"text-align: right;\">\n",
       "      <th></th>\n",
       "      <th>Pharmacy ID</th>\n",
       "      <th>Borough Latitude</th>\n",
       "      <th>Borough Longitude</th>\n",
       "      <th>Pharmacy</th>\n",
       "      <th>Pharmacy Latitude</th>\n",
       "      <th>Pharmacy Longitude</th>\n",
       "      <th>Pharmacy Category</th>\n",
       "      <th>PharmacyID</th>\n",
       "    </tr>\n",
       "  </thead>\n",
       "  <tbody>\n",
       "    <tr>\n",
       "      <th>9120</th>\n",
       "      <td>4bb7d4213db7b713c7a1209a</td>\n",
       "      <td>40.716415</td>\n",
       "      <td>-73.881143</td>\n",
       "      <td>AJ's Village Chemist</td>\n",
       "      <td>40.712905</td>\n",
       "      <td>-73.878023</td>\n",
       "      <td>Pharmacy</td>\n",
       "      <td>NaN</td>\n",
       "    </tr>\n",
       "    <tr>\n",
       "      <th>9236</th>\n",
       "      <td>4c55c2d9479fc928503f6995</td>\n",
       "      <td>40.865788</td>\n",
       "      <td>-73.859319</td>\n",
       "      <td>Rite Aid</td>\n",
       "      <td>40.865949</td>\n",
       "      <td>-73.860922</td>\n",
       "      <td>Pharmacy</td>\n",
       "      <td>NaN</td>\n",
       "    </tr>\n",
       "    <tr>\n",
       "      <th>0</th>\n",
       "      <td>NaN</td>\n",
       "      <td>40.593437</td>\n",
       "      <td>-74.116237</td>\n",
       "      <td>Factory</td>\n",
       "      <td>40.593437</td>\n",
       "      <td>-74.116237</td>\n",
       "      <td>Fatory Location</td>\n",
       "      <td>Yellow Trail: Staten Island</td>\n",
       "    </tr>\n",
       "    <tr>\n",
       "      <th>1</th>\n",
       "      <td>NaN</td>\n",
       "      <td>40.823889</td>\n",
       "      <td>-73.839831</td>\n",
       "      <td>Factory</td>\n",
       "      <td>40.823889</td>\n",
       "      <td>-73.839831</td>\n",
       "      <td>Factory Location</td>\n",
       "      <td>Wetchester Ave: Bronx</td>\n",
       "    </tr>\n",
       "    <tr>\n",
       "      <th>2</th>\n",
       "      <td>NaN</td>\n",
       "      <td>40.653723</td>\n",
       "      <td>-73.865439</td>\n",
       "      <td>Factory</td>\n",
       "      <td>40.653723</td>\n",
       "      <td>-73.865439</td>\n",
       "      <td>Factory Location</td>\n",
       "      <td>Seaview Ave: Brooklyn</td>\n",
       "    </tr>\n",
       "  </tbody>\n",
       "</table>\n",
       "</div>"
      ],
      "text/plain": [
       "                   Pharmacy ID  Borough Latitude  Borough Longitude  \\\n",
       "9120  4bb7d4213db7b713c7a1209a         40.716415         -73.881143   \n",
       "9236  4c55c2d9479fc928503f6995         40.865788         -73.859319   \n",
       "0                          NaN         40.593437         -74.116237   \n",
       "1                          NaN         40.823889         -73.839831   \n",
       "2                          NaN         40.653723         -73.865439   \n",
       "\n",
       "                  Pharmacy  Pharmacy Latitude  Pharmacy Longitude  \\\n",
       "9120  AJ's Village Chemist          40.712905          -73.878023   \n",
       "9236              Rite Aid          40.865949          -73.860922   \n",
       "0                  Factory          40.593437          -74.116237   \n",
       "1                  Factory          40.823889          -73.839831   \n",
       "2                  Factory          40.653723          -73.865439   \n",
       "\n",
       "     Pharmacy Category                   PharmacyID  \n",
       "9120          Pharmacy                          NaN  \n",
       "9236          Pharmacy                          NaN  \n",
       "0      Fatory Location  Yellow Trail: Staten Island  \n",
       "1     Factory Location        Wetchester Ave: Bronx  \n",
       "2     Factory Location        Seaview Ave: Brooklyn  "
      ]
     },
     "execution_count": 109,
     "metadata": {},
     "output_type": "execute_result"
    }
   ],
   "source": [
    "ALL_PHARMACIES_AND_FACTORY.tail()\n"
   ]
  },
  {
   "cell_type": "code",
   "execution_count": 110,
   "metadata": {},
   "outputs": [],
   "source": [
    "# create map and display it\n",
    "ny_map2 = folium.Map(location=(40.7736, -73.8295), zoom_start=10.4)"
   ]
  },
  {
   "cell_type": "code",
   "execution_count": 111,
   "metadata": {},
   "outputs": [],
   "source": [
    "# instantiate a feature group for the incidents in the dataframe\n",
    "Pharmacies2 = folium.map.FeatureGroup()\n",
    "\n",
    "# loop through the 36 Pharmacies and add each to the incidents feature group\n",
    "for lat, lng, in ALL_PHARMACIES[['Pharmacy Latitude','Pharmacy Longitude']].values:\n",
    "    Pharmacies2.add_child(\n",
    "        folium.CircleMarker(\n",
    "            [lat, lng],\n",
    "            radius=5, # define how big you want the circle markers to be\n",
    "            color='blue',\n",
    "            fill=True,\n",
    "            fill_color='yellow',\n",
    "            fill_opacity=0.1\n",
    "        )\n",
    "    )"
   ]
  },
  {
   "cell_type": "code",
   "execution_count": 112,
   "metadata": {},
   "outputs": [
    {
     "data": {
      "text/html": [
       "<div style=\"width:100%;\"><div style=\"position:relative;width:100%;height:0;padding-bottom:60%;\"><iframe src=\"about:blank\" style=\"position:absolute;width:100%;height:100%;left:0;top:0;border:none !important;\" data-html=PCFET0NUWVBFIGh0bWw+CjxoZWFkPiAgICAKICAgIDxtZXRhIGh0dHAtZXF1aXY9ImNvbnRlbnQtdHlwZSIgY29udGVudD0idGV4dC9odG1sOyBjaGFyc2V0PVVURi04IiAvPgogICAgPHNjcmlwdD5MX1BSRUZFUl9DQU5WQVMgPSBmYWxzZTsgTF9OT19UT1VDSCA9IGZhbHNlOyBMX0RJU0FCTEVfM0QgPSBmYWxzZTs8L3NjcmlwdD4KICAgIDxzY3JpcHQgc3JjPSJodHRwczovL2Nkbi5qc2RlbGl2ci5uZXQvbnBtL2xlYWZsZXRAMS4yLjAvZGlzdC9sZWFmbGV0LmpzIj48L3NjcmlwdD4KICAgIDxzY3JpcHQgc3JjPSJodHRwczovL2FqYXguZ29vZ2xlYXBpcy5jb20vYWpheC9saWJzL2pxdWVyeS8xLjExLjEvanF1ZXJ5Lm1pbi5qcyI+PC9zY3JpcHQ+CiAgICA8c2NyaXB0IHNyYz0iaHR0cHM6Ly9tYXhjZG4uYm9vdHN0cmFwY2RuLmNvbS9ib290c3RyYXAvMy4yLjAvanMvYm9vdHN0cmFwLm1pbi5qcyI+PC9zY3JpcHQ+CiAgICA8c2NyaXB0IHNyYz0iaHR0cHM6Ly9jZG5qcy5jbG91ZGZsYXJlLmNvbS9hamF4L2xpYnMvTGVhZmxldC5hd2Vzb21lLW1hcmtlcnMvMi4wLjIvbGVhZmxldC5hd2Vzb21lLW1hcmtlcnMuanMiPjwvc2NyaXB0PgogICAgPGxpbmsgcmVsPSJzdHlsZXNoZWV0IiBocmVmPSJodHRwczovL2Nkbi5qc2RlbGl2ci5uZXQvbnBtL2xlYWZsZXRAMS4yLjAvZGlzdC9sZWFmbGV0LmNzcyIvPgogICAgPGxpbmsgcmVsPSJzdHlsZXNoZWV0IiBocmVmPSJodHRwczovL21heGNkbi5ib290c3RyYXBjZG4uY29tL2Jvb3RzdHJhcC8zLjIuMC9jc3MvYm9vdHN0cmFwLm1pbi5jc3MiLz4KICAgIDxsaW5rIHJlbD0ic3R5bGVzaGVldCIgaHJlZj0iaHR0cHM6Ly9tYXhjZG4uYm9vdHN0cmFwY2RuLmNvbS9ib290c3RyYXAvMy4yLjAvY3NzL2Jvb3RzdHJhcC10aGVtZS5taW4uY3NzIi8+CiAgICA8bGluayByZWw9InN0eWxlc2hlZXQiIGhyZWY9Imh0dHBzOi8vbWF4Y2RuLmJvb3RzdHJhcGNkbi5jb20vZm9udC1hd2Vzb21lLzQuNi4zL2Nzcy9mb250LWF3ZXNvbWUubWluLmNzcyIvPgogICAgPGxpbmsgcmVsPSJzdHlsZXNoZWV0IiBocmVmPSJodHRwczovL2NkbmpzLmNsb3VkZmxhcmUuY29tL2FqYXgvbGlicy9MZWFmbGV0LmF3ZXNvbWUtbWFya2Vycy8yLjAuMi9sZWFmbGV0LmF3ZXNvbWUtbWFya2Vycy5jc3MiLz4KICAgIDxsaW5rIHJlbD0ic3R5bGVzaGVldCIgaHJlZj0iaHR0cHM6Ly9yYXdnaXQuY29tL3B5dGhvbi12aXN1YWxpemF0aW9uL2ZvbGl1bS9tYXN0ZXIvZm9saXVtL3RlbXBsYXRlcy9sZWFmbGV0LmF3ZXNvbWUucm90YXRlLmNzcyIvPgogICAgPHN0eWxlPmh0bWwsIGJvZHkge3dpZHRoOiAxMDAlO2hlaWdodDogMTAwJTttYXJnaW46IDA7cGFkZGluZzogMDt9PC9zdHlsZT4KICAgIDxzdHlsZT4jbWFwIHtwb3NpdGlvbjphYnNvbHV0ZTt0b3A6MDtib3R0b206MDtyaWdodDowO2xlZnQ6MDt9PC9zdHlsZT4KICAgIAogICAgICAgICAgICA8c3R5bGU+ICNtYXBfMTY0YTU0ZGZkYzZmNGQ3M2I2Njg4ZGVmOGFmNjZkYjggewogICAgICAgICAgICAgICAgcG9zaXRpb24gOiByZWxhdGl2ZTsKICAgICAgICAgICAgICAgIHdpZHRoIDogMTAwLjAlOwogICAgICAgICAgICAgICAgaGVpZ2h0OiAxMDAuMCU7CiAgICAgICAgICAgICAgICBsZWZ0OiAwLjAlOwogICAgICAgICAgICAgICAgdG9wOiAwLjAlOwogICAgICAgICAgICAgICAgfQogICAgICAgICAgICA8L3N0eWxlPgogICAgICAgIAo8L2hlYWQ+Cjxib2R5PiAgICAKICAgIAogICAgICAgICAgICA8ZGl2IGNsYXNzPSJmb2xpdW0tbWFwIiBpZD0ibWFwXzE2NGE1NGRmZGM2ZjRkNzNiNjY4OGRlZjhhZjY2ZGI4IiA+PC9kaXY+CiAgICAgICAgCjwvYm9keT4KPHNjcmlwdD4gICAgCiAgICAKCiAgICAgICAgICAgIAogICAgICAgICAgICAgICAgdmFyIGJvdW5kcyA9IG51bGw7CiAgICAgICAgICAgIAoKICAgICAgICAgICAgdmFyIG1hcF8xNjRhNTRkZmRjNmY0ZDczYjY2ODhkZWY4YWY2NmRiOCA9IEwubWFwKAogICAgICAgICAgICAgICAgICAgICAgICAgICAgICAgICAgJ21hcF8xNjRhNTRkZmRjNmY0ZDczYjY2ODhkZWY4YWY2NmRiOCcsCiAgICAgICAgICAgICAgICAgICAgICAgICAgICAgICAgICB7Y2VudGVyOiBbNDAuNzczNiwtNzMuODI5NV0sCiAgICAgICAgICAgICAgICAgICAgICAgICAgICAgICAgICB6b29tOiAxMC40LAogICAgICAgICAgICAgICAgICAgICAgICAgICAgICAgICAgbWF4Qm91bmRzOiBib3VuZHMsCiAgICAgICAgICAgICAgICAgICAgICAgICAgICAgICAgICBsYXllcnM6IFtdLAogICAgICAgICAgICAgICAgICAgICAgICAgICAgICAgICAgd29ybGRDb3B5SnVtcDogZmFsc2UsCiAgICAgICAgICAgICAgICAgICAgICAgICAgICAgICAgICBjcnM6IEwuQ1JTLkVQU0czODU3CiAgICAgICAgICAgICAgICAgICAgICAgICAgICAgICAgIH0pOwogICAgICAgICAgICAKICAgICAgICAKICAgIAogICAgICAgICAgICB2YXIgdGlsZV9sYXllcl8wYzE3OTkxYjgxMzI0NzgxYjFiZDdlODI0OGVhYzZlMyA9IEwudGlsZUxheWVyKAogICAgICAgICAgICAgICAgJ2h0dHBzOi8ve3N9LnRpbGUub3BlbnN0cmVldG1hcC5vcmcve3p9L3t4fS97eX0ucG5nJywKICAgICAgICAgICAgICAgIHsKICAiYXR0cmlidXRpb24iOiBudWxsLAogICJkZXRlY3RSZXRpbmEiOiBmYWxzZSwKICAibWF4Wm9vbSI6IDE4LAogICJtaW5ab29tIjogMSwKICAibm9XcmFwIjogZmFsc2UsCiAgInN1YmRvbWFpbnMiOiAiYWJjIgp9CiAgICAgICAgICAgICAgICApLmFkZFRvKG1hcF8xNjRhNTRkZmRjNmY0ZDczYjY2ODhkZWY4YWY2NmRiOCk7CiAgICAgICAgCiAgICAKCiAgICAgICAgICAgIHZhciBtYXJrZXJfNDkzOWU0M2EyMDU0NDVjZDk1MjQ1ZDY4OGQwZjczZTEgPSBMLm1hcmtlcigKICAgICAgICAgICAgICAgIFs0MC41OTM0MzY5OCwtNzQuMTE2MjM3M10sCiAgICAgICAgICAgICAgICB7CiAgICAgICAgICAgICAgICAgICAgaWNvbjogbmV3IEwuSWNvbi5EZWZhdWx0KCkKICAgICAgICAgICAgICAgICAgICB9CiAgICAgICAgICAgICAgICApCiAgICAgICAgICAgICAgICAuYWRkVG8obWFwXzE2NGE1NGRmZGM2ZjRkNzNiNjY4OGRlZjhhZjY2ZGI4KTsKICAgICAgICAgICAgCiAgICAKICAgICAgICAgICAgdmFyIHBvcHVwXzY2YmNmMTA0ZjVhZjQyOTBiMmY2ZTFjOTUzZDMxODdhID0gTC5wb3B1cCh7bWF4V2lkdGg6ICczMDAnfSk7CgogICAgICAgICAgICAKICAgICAgICAgICAgICAgIHZhciBodG1sXzA5ODU0MWRiNGRiMzQ0YTU4NDg3NTNlZWIyZDU2ZTMwID0gJCgnPGRpdiBpZD0iaHRtbF8wOTg1NDFkYjRkYjM0NGE1ODQ4NzUzZWViMmQ1NmUzMCIgc3R5bGU9IndpZHRoOiAxMDAuMCU7IGhlaWdodDogMTAwLjAlOyI+WWVsbG93IFRyYWlsOiBTdGF0ZW4gSXNsYW5kPC9kaXY+JylbMF07CiAgICAgICAgICAgICAgICBwb3B1cF82NmJjZjEwNGY1YWY0MjkwYjJmNmUxYzk1M2QzMTg3YS5zZXRDb250ZW50KGh0bWxfMDk4NTQxZGI0ZGIzNDRhNTg0ODc1M2VlYjJkNTZlMzApOwogICAgICAgICAgICAKCiAgICAgICAgICAgIG1hcmtlcl80OTM5ZTQzYTIwNTQ0NWNkOTUyNDVkNjg4ZDBmNzNlMS5iaW5kUG9wdXAocG9wdXBfNjZiY2YxMDRmNWFmNDI5MGIyZjZlMWM5NTNkMzE4N2EpOwoKICAgICAgICAgICAgCiAgICAgICAgCiAgICAKCiAgICAgICAgICAgIHZhciBtYXJrZXJfZDcxZWFkMzA5MDMyNGQ5ODhiOWUwYmM0ODc1MGVlM2EgPSBMLm1hcmtlcigKICAgICAgICAgICAgICAgIFs0MC44MjM4ODg4NCwtNzMuODM5ODMwODFdLAogICAgICAgICAgICAgICAgewogICAgICAgICAgICAgICAgICAgIGljb246IG5ldyBMLkljb24uRGVmYXVsdCgpCiAgICAgICAgICAgICAgICAgICAgfQogICAgICAgICAgICAgICAgKQogICAgICAgICAgICAgICAgLmFkZFRvKG1hcF8xNjRhNTRkZmRjNmY0ZDczYjY2ODhkZWY4YWY2NmRiOCk7CiAgICAgICAgICAgIAogICAgCiAgICAgICAgICAgIHZhciBwb3B1cF82YjVjMWI2Mzk2OGU0ZmI3ODM2NzA5NGM1NjdjZjJiZSA9IEwucG9wdXAoe21heFdpZHRoOiAnMzAwJ30pOwoKICAgICAgICAgICAgCiAgICAgICAgICAgICAgICB2YXIgaHRtbF82YWE2Zjc5Y2FmMjY0ZWUwYWNlODVjYTM5MGVjMzg3NCA9ICQoJzxkaXYgaWQ9Imh0bWxfNmFhNmY3OWNhZjI2NGVlMGFjZTg1Y2EzOTBlYzM4NzQiIHN0eWxlPSJ3aWR0aDogMTAwLjAlOyBoZWlnaHQ6IDEwMC4wJTsiPldldGNoZXN0ZXIgQXZlOiBCcm9ueDwvZGl2PicpWzBdOwogICAgICAgICAgICAgICAgcG9wdXBfNmI1YzFiNjM5NjhlNGZiNzgzNjcwOTRjNTY3Y2YyYmUuc2V0Q29udGVudChodG1sXzZhYTZmNzljYWYyNjRlZTBhY2U4NWNhMzkwZWMzODc0KTsKICAgICAgICAgICAgCgogICAgICAgICAgICBtYXJrZXJfZDcxZWFkMzA5MDMyNGQ5ODhiOWUwYmM0ODc1MGVlM2EuYmluZFBvcHVwKHBvcHVwXzZiNWMxYjYzOTY4ZTRmYjc4MzY3MDk0YzU2N2NmMmJlKTsKCiAgICAgICAgICAgIAogICAgICAgIAogICAgCgogICAgICAgICAgICB2YXIgbWFya2VyXzRjYmNhMTk4YTc0YTQwOGNhODk5NWMxMGEzYTFhNzQ3ID0gTC5tYXJrZXIoCiAgICAgICAgICAgICAgICBbNDAuNjUzNzIyNTcsLTczLjg2NTQzOTE3XSwKICAgICAgICAgICAgICAgIHsKICAgICAgICAgICAgICAgICAgICBpY29uOiBuZXcgTC5JY29uLkRlZmF1bHQoKQogICAgICAgICAgICAgICAgICAgIH0KICAgICAgICAgICAgICAgICkKICAgICAgICAgICAgICAgIC5hZGRUbyhtYXBfMTY0YTU0ZGZkYzZmNGQ3M2I2Njg4ZGVmOGFmNjZkYjgpOwogICAgICAgICAgICAKICAgIAogICAgICAgICAgICB2YXIgcG9wdXBfMjM1NDcwMTZiNzU3NGUxMDhjOGFhYWIwMTYxMjUxNDUgPSBMLnBvcHVwKHttYXhXaWR0aDogJzMwMCd9KTsKCiAgICAgICAgICAgIAogICAgICAgICAgICAgICAgdmFyIGh0bWxfMzZmYTNiZTM1MTFlNGE4MjhhZjI2YmQzMmIyNzkxMmYgPSAkKCc8ZGl2IGlkPSJodG1sXzM2ZmEzYmUzNTExZTRhODI4YWYyNmJkMzJiMjc5MTJmIiBzdHlsZT0id2lkdGg6IDEwMC4wJTsgaGVpZ2h0OiAxMDAuMCU7Ij5TZWF2aWV3IEF2ZTogQnJvb2tseW48L2Rpdj4nKVswXTsKICAgICAgICAgICAgICAgIHBvcHVwXzIzNTQ3MDE2Yjc1NzRlMTA4YzhhYWFiMDE2MTI1MTQ1LnNldENvbnRlbnQoaHRtbF8zNmZhM2JlMzUxMWU0YTgyOGFmMjZiZDMyYjI3OTEyZik7CiAgICAgICAgICAgIAoKICAgICAgICAgICAgbWFya2VyXzRjYmNhMTk4YTc0YTQwOGNhODk5NWMxMGEzYTFhNzQ3LmJpbmRQb3B1cChwb3B1cF8yMzU0NzAxNmI3NTc0ZTEwOGM4YWFhYjAxNjEyNTE0NSk7CgogICAgICAgICAgICAKICAgICAgICAKICAgIAogICAgICAgICAgICB2YXIgZmVhdHVyZV9ncm91cF9jOGZiMDFjOWNmNDk0ZjgyODQ3NDY5NmEwNTVkMzY4OSA9IEwuZmVhdHVyZUdyb3VwKAogICAgICAgICAgICAgICAgKS5hZGRUbyhtYXBfMTY0YTU0ZGZkYzZmNGQ3M2I2Njg4ZGVmOGFmNjZkYjgpOwogICAgICAgIAogICAgCiAgICAgICAgICAgIHZhciBjaXJjbGVfbWFya2VyXzAzNWFmMTRiOGJmMjQ4ODk4ODJhMWYyZDA3MmZjYWM0ID0gTC5jaXJjbGVNYXJrZXIoCiAgICAgICAgICAgICAgICBbNDAuODk2NTI4LC03My44NDQ3XSwKICAgICAgICAgICAgICAgIHsKICAiYnViYmxpbmdNb3VzZUV2ZW50cyI6IHRydWUsCiAgImNvbG9yIjogImJsdWUiLAogICJkYXNoQXJyYXkiOiBudWxsLAogICJkYXNoT2Zmc2V0IjogbnVsbCwKICAiZmlsbCI6IHRydWUsCiAgImZpbGxDb2xvciI6ICJ5ZWxsb3ciLAogICJmaWxsT3BhY2l0eSI6IDAuMSwKICAiZmlsbFJ1bGUiOiAiZXZlbm9kZCIsCiAgImxpbmVDYXAiOiAicm91bmQiLAogICJsaW5lSm9pbiI6ICJyb3VuZCIsCiAgIm9wYWNpdHkiOiAxLjAsCiAgInJhZGl1cyI6IDUsCiAgInN0cm9rZSI6IHRydWUsCiAgIndlaWdodCI6IDMKfQogICAgICAgICAgICAgICAgKS5hZGRUbyhmZWF0dXJlX2dyb3VwX2M4ZmIwMWM5Y2Y0OTRmODI4NDc0Njk2YTA1NWQzNjg5KTsKICAgICAgICAgICAgCiAgICAKICAgICAgICAgICAgdmFyIGNpcmNsZV9tYXJrZXJfYThhZjU4MTkyOGNkNDllNmFmZGQ4MTI2NTZhMDk2M2IgPSBMLmNpcmNsZU1hcmtlcigKICAgICAgICAgICAgICAgIFs0MC44OTY1MjgsLTczLjg0NDddLAogICAgICAgICAgICAgICAgewogICJidWJibGluZ01vdXNlRXZlbnRzIjogdHJ1ZSwKICAiY29sb3IiOiAiYmx1ZSIsCiAgImRhc2hBcnJheSI6IG51bGwsCiAgImRhc2hPZmZzZXQiOiBudWxsLAogICJmaWxsIjogdHJ1ZSwKICAiZmlsbENvbG9yIjogInllbGxvdyIsCiAgImZpbGxPcGFjaXR5IjogMC4xLAogICJmaWxsUnVsZSI6ICJldmVub2RkIiwKICAibGluZUNhcCI6ICJyb3VuZCIsCiAgImxpbmVKb2luIjogInJvdW5kIiwKICAib3BhY2l0eSI6IDEuMCwKICAicmFkaXVzIjogNSwKICAic3Ryb2tlIjogdHJ1ZSwKICAid2VpZ2h0IjogMwp9CiAgICAgICAgICAgICAgICApLmFkZFRvKGZlYXR1cmVfZ3JvdXBfYzhmYjAxYzljZjQ5NGY4Mjg0NzQ2OTZhMDU1ZDM2ODkpOwogICAgICAgICAgICAKICAgIAogICAgICAgICAgICB2YXIgY2lyY2xlX21hcmtlcl80YjkyMzM4YTM2MTg0ZDQ2YjZkODNkZWE5ZjA1MWI5NSA9IEwuY2lyY2xlTWFya2VyKAogICAgICAgICAgICAgICAgWzQwLjg5NjUyOCwtNzMuODQ0N10sCiAgICAgICAgICAgICAgICB7CiAgImJ1YmJsaW5nTW91c2VFdmVudHMiOiB0cnVlLAogICJjb2xvciI6ICJibHVlIiwKICAiZGFzaEFycmF5IjogbnVsbCwKICAiZGFzaE9mZnNldCI6IG51bGwsCiAgImZpbGwiOiB0cnVlLAogICJmaWxsQ29sb3IiOiAieWVsbG93IiwKICAiZmlsbE9wYWNpdHkiOiAwLjEsCiAgImZpbGxSdWxlIjogImV2ZW5vZGQiLAogICJsaW5lQ2FwIjogInJvdW5kIiwKICAibGluZUpvaW4iOiAicm91bmQiLAogICJvcGFjaXR5IjogMS4wLAogICJyYWRpdXMiOiA1LAogICJzdHJva2UiOiB0cnVlLAogICJ3ZWlnaHQiOiAzCn0KICAgICAgICAgICAgICAgICkuYWRkVG8oZmVhdHVyZV9ncm91cF9jOGZiMDFjOWNmNDk0ZjgyODQ3NDY5NmEwNTVkMzY4OSk7CiAgICAgICAgICAgIAogICAgCiAgICAgICAgICAgIHZhciBjaXJjbGVfbWFya2VyXzIyYWU3MWUyODFjOTQwNzViMjczZDE3YTNjODg3NDQ0ID0gTC5jaXJjbGVNYXJrZXIoCiAgICAgICAgICAgICAgICBbNDAuODk2NTI4LC03My44NDQ3XSwKICAgICAgICAgICAgICAgIHsKICAiYnViYmxpbmdNb3VzZUV2ZW50cyI6IHRydWUsCiAgImNvbG9yIjogImJsdWUiLAogICJkYXNoQXJyYXkiOiBudWxsLAogICJkYXNoT2Zmc2V0IjogbnVsbCwKICAiZmlsbCI6IHRydWUsCiAgImZpbGxDb2xvciI6ICJ5ZWxsb3ciLAogICJmaWxsT3BhY2l0eSI6IDAuMSwKICAiZmlsbFJ1bGUiOiAiZXZlbm9kZCIsCiAgImxpbmVDYXAiOiAicm91bmQiLAogICJsaW5lSm9pbiI6ICJyb3VuZCIsCiAgIm9wYWNpdHkiOiAxLjAsCiAgInJhZGl1cyI6IDUsCiAgInN0cm9rZSI6IHRydWUsCiAgIndlaWdodCI6IDMKfQogICAgICAgICAgICAgICAgKS5hZGRUbyhmZWF0dXJlX2dyb3VwX2M4ZmIwMWM5Y2Y0OTRmODI4NDc0Njk2YTA1NWQzNjg5KTsKICAgICAgICAgICAgCiAgICAKICAgICAgICAgICAgdmFyIGNpcmNsZV9tYXJrZXJfNjliMGQ3NDBiNjEyNGFjYWEzNmQ5NzhmNTAxYmQ2MzMgPSBMLmNpcmNsZU1hcmtlcigKICAgICAgICAgICAgICAgIFs0MC44OTY1MjgsLTczLjg0NDddLAogICAgICAgICAgICAgICAgewogICJidWJibGluZ01vdXNlRXZlbnRzIjogdHJ1ZSwKICAiY29sb3IiOiAiYmx1ZSIsCiAgImRhc2hBcnJheSI6IG51bGwsCiAgImRhc2hPZmZzZXQiOiBudWxsLAogICJmaWxsIjogdHJ1ZSwKICAiZmlsbENvbG9yIjogInllbGxvdyIsCiAgImZpbGxPcGFjaXR5IjogMC4xLAogICJmaWxsUnVsZSI6ICJldmVub2RkIiwKICAibGluZUNhcCI6ICJyb3VuZCIsCiAgImxpbmVKb2luIjogInJvdW5kIiwKICAib3BhY2l0eSI6IDEuMCwKICAicmFkaXVzIjogNSwKICAic3Ryb2tlIjogdHJ1ZSwKICAid2VpZ2h0IjogMwp9CiAgICAgICAgICAgICAgICApLmFkZFRvKGZlYXR1cmVfZ3JvdXBfYzhmYjAxYzljZjQ5NGY4Mjg0NzQ2OTZhMDU1ZDM2ODkpOwogICAgICAgICAgICAKICAgIAogICAgICAgICAgICB2YXIgY2lyY2xlX21hcmtlcl9lZWQwNWJlZGQxNWM0OGI5YWRiOGYxZjMwY2UyOTRhNCA9IEwuY2lyY2xlTWFya2VyKAogICAgICAgICAgICAgICAgWzQwLjg5NjUyOCwtNzMuODQ0N10sCiAgICAgICAgICAgICAgICB7CiAgImJ1YmJsaW5nTW91c2VFdmVudHMiOiB0cnVlLAogICJjb2xvciI6ICJibHVlIiwKICAiZGFzaEFycmF5IjogbnVsbCwKICAiZGFzaE9mZnNldCI6IG51bGwsCiAgImZpbGwiOiB0cnVlLAogICJmaWxsQ29sb3IiOiAieWVsbG93IiwKICAiZmlsbE9wYWNpdHkiOiAwLjEsCiAgImZpbGxSdWxlIjogImV2ZW5vZGQiLAogICJsaW5lQ2FwIjogInJvdW5kIiwKICAibGluZUpvaW4iOiAicm91bmQiLAogICJvcGFjaXR5IjogMS4wLAogICJyYWRpdXMiOiA1LAogICJzdHJva2UiOiB0cnVlLAogICJ3ZWlnaHQiOiAzCn0KICAgICAgICAgICAgICAgICkuYWRkVG8oZmVhdHVyZV9ncm91cF9jOGZiMDFjOWNmNDk0ZjgyODQ3NDY5NmEwNTVkMzY4OSk7CiAgICAgICAgICAgIAogICAgCiAgICAgICAgICAgIHZhciBjaXJjbGVfbWFya2VyX2M2YjQzYTBkOWJlZDRhYjc5OTkwNTVjMTYxMDVlY2M3ID0gTC5jaXJjbGVNYXJrZXIoCiAgICAgICAgICAgICAgICBbNDAuODcwMzQ0ODgxODkwNCwtNzMuODI4MzAyMDI1Nzk0OThdLAogICAgICAgICAgICAgICAgewogICJidWJibGluZ01vdXNlRXZlbnRzIjogdHJ1ZSwKICAiY29sb3IiOiAiYmx1ZSIsCiAgImRhc2hBcnJheSI6IG51bGwsCiAgImRhc2hPZmZzZXQiOiBudWxsLAogICJmaWxsIjogdHJ1ZSwKICAiZmlsbENvbG9yIjogInllbGxvdyIsCiAgImZpbGxPcGFjaXR5IjogMC4xLAogICJmaWxsUnVsZSI6ICJldmVub2RkIiwKICAibGluZUNhcCI6ICJyb3VuZCIsCiAgImxpbmVKb2luIjogInJvdW5kIiwKICAib3BhY2l0eSI6IDEuMCwKICAicmFkaXVzIjogNSwKICAic3Ryb2tlIjogdHJ1ZSwKICAid2VpZ2h0IjogMwp9CiAgICAgICAgICAgICAgICApLmFkZFRvKGZlYXR1cmVfZ3JvdXBfYzhmYjAxYzljZjQ5NGY4Mjg0NzQ2OTZhMDU1ZDM2ODkpOwogICAgICAgICAgICAKICAgIAogICAgICAgICAgICB2YXIgY2lyY2xlX21hcmtlcl85OTMyZTZmYmQ1ZTk0YThmYjU2YTZlNTcyNjhiNTQ5NSA9IEwuY2lyY2xlTWFya2VyKAogICAgICAgICAgICAgICAgWzQwLjg3MDM0NDg4MTg5MDQsLTczLjgyODMwMjAyNTc5NDk4XSwKICAgICAgICAgICAgICAgIHsKICAiYnViYmxpbmdNb3VzZUV2ZW50cyI6IHRydWUsCiAgImNvbG9yIjogImJsdWUiLAogICJkYXNoQXJyYXkiOiBudWxsLAogICJkYXNoT2Zmc2V0IjogbnVsbCwKICAiZmlsbCI6IHRydWUsCiAgImZpbGxDb2xvciI6ICJ5ZWxsb3ciLAogICJmaWxsT3BhY2l0eSI6IDAuMSwKICAiZmlsbFJ1bGUiOiAiZXZlbm9kZCIsCiAgImxpbmVDYXAiOiAicm91bmQiLAogICJsaW5lSm9pbiI6ICJyb3VuZCIsCiAgIm9wYWNpdHkiOiAxLjAsCiAgInJhZGl1cyI6IDUsCiAgInN0cm9rZSI6IHRydWUsCiAgIndlaWdodCI6IDMKfQogICAgICAgICAgICAgICAgKS5hZGRUbyhmZWF0dXJlX2dyb3VwX2M4ZmIwMWM5Y2Y0OTRmODI4NDc0Njk2YTA1NWQzNjg5KTsKICAgICAgICAgICAgCiAgICAKICAgICAgICAgICAgdmFyIGNpcmNsZV9tYXJrZXJfMTYxMzcyOGFkYjQ3NGFlNjhjZmM0ZTAzNTBkYWEyZWMgPSBMLmNpcmNsZU1hcmtlcigKICAgICAgICAgICAgICAgIFs0MC44NzAzNDQ4ODE4OTA0LC03My44MjgzMDIwMjU3OTQ5OF0sCiAgICAgICAgICAgICAgICB7CiAgImJ1YmJsaW5nTW91c2VFdmVudHMiOiB0cnVlLAogICJjb2xvciI6ICJibHVlIiwKICAiZGFzaEFycmF5IjogbnVsbCwKICAiZGFzaE9mZnNldCI6IG51bGwsCiAgImZpbGwiOiB0cnVlLAogICJmaWxsQ29sb3IiOiAieWVsbG93IiwKICAiZmlsbE9wYWNpdHkiOiAwLjEsCiAgImZpbGxSdWxlIjogImV2ZW5vZGQiLAogICJsaW5lQ2FwIjogInJvdW5kIiwKICAibGluZUpvaW4iOiAicm91bmQiLAogICJvcGFjaXR5IjogMS4wLAogICJyYWRpdXMiOiA1LAogICJzdHJva2UiOiB0cnVlLAogICJ3ZWlnaHQiOiAzCn0KICAgICAgICAgICAgICAgICkuYWRkVG8oZmVhdHVyZV9ncm91cF9jOGZiMDFjOWNmNDk0ZjgyODQ3NDY5NmEwNTVkMzY4OSk7CiAgICAgICAgICAgIAogICAgCiAgICAgICAgICAgIHZhciBjaXJjbGVfbWFya2VyXzM5ZGQ4YzBiY2VlYjQ2ODE5ZWM0MmQ2MmM4YjM1YmM0ID0gTC5jaXJjbGVNYXJrZXIoCiAgICAgICAgICAgICAgICBbNDAuODc5MDM5MzY2MDU0MzQsLTczLjg3NDIyMjAyMjc3MDQ0XSwKICAgICAgICAgICAgICAgIHsKICAiYnViYmxpbmdNb3VzZUV2ZW50cyI6IHRydWUsCiAgImNvbG9yIjogImJsdWUiLAogICJkYXNoQXJyYXkiOiBudWxsLAogICJkYXNoT2Zmc2V0IjogbnVsbCwKICAiZmlsbCI6IHRydWUsCiAgImZpbGxDb2xvciI6ICJ5ZWxsb3ciLAogICJmaWxsT3BhY2l0eSI6IDAuMSwKICAiZmlsbFJ1bGUiOiAiZXZlbm9kZCIsCiAgImxpbmVDYXAiOiAicm91bmQiLAogICJsaW5lSm9pbiI6ICJyb3VuZCIsCiAgIm9wYWNpdHkiOiAxLjAsCiAgInJhZGl1cyI6IDUsCiAgInN0cm9rZSI6IHRydWUsCiAgIndlaWdodCI6IDMKfQogICAgICAgICAgICAgICAgKS5hZGRUbyhmZWF0dXJlX2dyb3VwX2M4ZmIwMWM5Y2Y0OTRmODI4NDc0Njk2YTA1NWQzNjg5KTsKICAgICAgICAgICAgCiAgICAKICAgICAgICAgICAgdmFyIGNpcmNsZV9tYXJrZXJfNjFlMTg3NWM1M2NjNDFjNzkwZThjNmU0ZjRmODNlMzAgPSBMLmNpcmNsZU1hcmtlcigKICAgICAgICAgICAgICAgIFs0MC44NzkwMzkzNjYwNTQzNCwtNzMuODc0MjIyMDIyNzcwNDRdLAogICAgICAgICAgICAgICAgewogICJidWJibGluZ01vdXNlRXZlbnRzIjogdHJ1ZSwKICAiY29sb3IiOiAiYmx1ZSIsCiAgImRhc2hBcnJheSI6IG51bGwsCiAgImRhc2hPZmZzZXQiOiBudWxsLAogICJmaWxsIjogdHJ1ZSwKICAiZmlsbENvbG9yIjogInllbGxvdyIsCiAgImZpbGxPcGFjaXR5IjogMC4xLAogICJmaWxsUnVsZSI6ICJldmVub2RkIiwKICAibGluZUNhcCI6ICJyb3VuZCIsCiAgImxpbmVKb2luIjogInJvdW5kIiwKICAib3BhY2l0eSI6IDEuMCwKICAicmFkaXVzIjogNSwKICAic3Ryb2tlIjogdHJ1ZSwKICAid2VpZ2h0IjogMwp9CiAgICAgICAgICAgICAgICApLmFkZFRvKGZlYXR1cmVfZ3JvdXBfYzhmYjAxYzljZjQ5NGY4Mjg0NzQ2OTZhMDU1ZDM2ODkpOwogICAgICAgICAgICAKICAgIAogICAgICAgICAgICB2YXIgY2lyY2xlX21hcmtlcl8wOTI2ZDE0MzM5ODU0NGFmYTA1NGVhYTg2ZTBjNTk3MyA9IEwuY2lyY2xlTWFya2VyKAogICAgICAgICAgICAgICAgWzQwLjg0NjkxOSwtNzMuNzg2MDUzMDAwMDAwMDJdLAogICAgICAgICAgICAgICAgewogICJidWJibGluZ01vdXNlRXZlbnRzIjogdHJ1ZSwKICAiY29sb3IiOiAiYmx1ZSIsCiAgImRhc2hBcnJheSI6IG51bGwsCiAgImRhc2hPZmZzZXQiOiBudWxsLAogICJmaWxsIjogdHJ1ZSwKICAiZmlsbENvbG9yIjogInllbGxvdyIsCiAgImZpbGxPcGFjaXR5IjogMC4xLAogICJmaWxsUnVsZSI6ICJldmVub2RkIiwKICAibGluZUNhcCI6ICJyb3VuZCIsCiAgImxpbmVKb2luIjogInJvdW5kIiwKICAib3BhY2l0eSI6IDEuMCwKICAicmFkaXVzIjogNSwKICAic3Ryb2tlIjogdHJ1ZSwKICAid2VpZ2h0IjogMwp9CiAgICAgICAgICAgICAgICApLmFkZFRvKGZlYXR1cmVfZ3JvdXBfYzhmYjAxYzljZjQ5NGY4Mjg0NzQ2OTZhMDU1ZDM2ODkpOwogICAgICAgICAgICAKICAgIAogICAgICAgICAgICB2YXIgY2lyY2xlX21hcmtlcl9kMDhmZDFiM2MzOGM0YTY1OTIwMjI1YTA3MzUyNzJjMCA9IEwuY2lyY2xlTWFya2VyKAogICAgICAgICAgICAgICAgWzQwLjgxNTcyNTQsLTczLjkwODk5MDVdLAogICAgICAgICAgICAgICAgewogICJidWJibGluZ01vdXNlRXZlbnRzIjogdHJ1ZSwKICAiY29sb3IiOiAiYmx1ZSIsCiAgImRhc2hBcnJheSI6IG51bGwsCiAgImRhc2hPZmZzZXQiOiBudWxsLAogICJmaWxsIjogdHJ1ZSwKICAiZmlsbENvbG9yIjogInllbGxvdyIsCiAgImZpbGxPcGFjaXR5IjogMC4xLAogICJmaWxsUnVsZSI6ICJldmVub2RkIiwKICAibGluZUNhcCI6ICJyb3VuZCIsCiAgImxpbmVKb2luIjogInJvdW5kIiwKICAib3BhY2l0eSI6IDEuMCwKICAicmFkaXVzIjogNSwKICAic3Ryb2tlIjogdHJ1ZSwKICAid2VpZ2h0IjogMwp9CiAgICAgICAgICAgICAgICApLmFkZFRvKGZlYXR1cmVfZ3JvdXBfYzhmYjAxYzljZjQ5NGY4Mjg0NzQ2OTZhMDU1ZDM2ODkpOwogICAgICAgICAgICAKICAgIAogICAgICAgICAgICB2YXIgY2lyY2xlX21hcmtlcl81YTMwNWJlNjAyY2I0ZTg4YjhmNTMwMmRmNDBiODc5OCA9IEwuY2lyY2xlTWFya2VyKAogICAgICAgICAgICAgICAgWzQwLjgwNzE5MzYsLTczLjkxNzkzNDhdLAogICAgICAgICAgICAgICAgewogICJidWJibGluZ01vdXNlRXZlbnRzIjogdHJ1ZSwKICAiY29sb3IiOiAiYmx1ZSIsCiAgImRhc2hBcnJheSI6IG51bGwsCiAgImRhc2hPZmZzZXQiOiBudWxsLAogICJmaWxsIjogdHJ1ZSwKICAiZmlsbENvbG9yIjogInllbGxvdyIsCiAgImZpbGxPcGFjaXR5IjogMC4xLAogICJmaWxsUnVsZSI6ICJldmVub2RkIiwKICAibGluZUNhcCI6ICJyb3VuZCIsCiAgImxpbmVKb2luIjogInJvdW5kIiwKICAib3BhY2l0eSI6IDEuMCwKICAicmFkaXVzIjogNSwKICAic3Ryb2tlIjogdHJ1ZSwKICAid2VpZ2h0IjogMwp9CiAgICAgICAgICAgICAgICApLmFkZFRvKGZlYXR1cmVfZ3JvdXBfYzhmYjAxYzljZjQ5NGY4Mjg0NzQ2OTZhMDU1ZDM2ODkpOwogICAgICAgICAgICAKICAgIAogICAgICAgICAgICB2YXIgY2lyY2xlX21hcmtlcl9lNjI2NGU5OGE4NmU0ZGY0YmY2YWE0ZjYyNGM3NDBhNSA9IEwuY2lyY2xlTWFya2VyKAogICAgICAgICAgICAgICAgWzQwLjgwNzE5MzYsLTczLjkxNzkzNDhdLAogICAgICAgICAgICAgICAgewogICJidWJibGluZ01vdXNlRXZlbnRzIjogdHJ1ZSwKICAiY29sb3IiOiAiYmx1ZSIsCiAgImRhc2hBcnJheSI6IG51bGwsCiAgImRhc2hPZmZzZXQiOiBudWxsLAogICJmaWxsIjogdHJ1ZSwKICAiZmlsbENvbG9yIjogInllbGxvdyIsCiAgImZpbGxPcGFjaXR5IjogMC4xLAogICJmaWxsUnVsZSI6ICJldmVub2RkIiwKICAibGluZUNhcCI6ICJyb3VuZCIsCiAgImxpbmVKb2luIjogInJvdW5kIiwKICAib3BhY2l0eSI6IDEuMCwKICAicmFkaXVzIjogNSwKICAic3Ryb2tlIjogdHJ1ZSwKICAid2VpZ2h0IjogMwp9CiAgICAgICAgICAgICAgICApLmFkZFRvKGZlYXR1cmVfZ3JvdXBfYzhmYjAxYzljZjQ5NGY4Mjg0NzQ2OTZhMDU1ZDM2ODkpOwogICAgICAgICAgICAKICAgIAogICAgICAgICAgICB2YXIgY2lyY2xlX21hcmtlcl84OTYzZmJjNDZhNjI0ZmFjOTE3NjdkM2NiZTVkODhmZSA9IEwuY2lyY2xlTWFya2VyKAogICAgICAgICAgICAgICAgWzQwLjgxOTU4NjM0OTA0NTk4LC03My45MDExNTM1MDQ4NDg1NV0sCiAgICAgICAgICAgICAgICB7CiAgImJ1YmJsaW5nTW91c2VFdmVudHMiOiB0cnVlLAogICJjb2xvciI6ICJibHVlIiwKICAiZGFzaEFycmF5IjogbnVsbCwKICAiZGFzaE9mZnNldCI6IG51bGwsCiAgImZpbGwiOiB0cnVlLAogICJmaWxsQ29sb3IiOiAieWVsbG93IiwKICAiZmlsbE9wYWNpdHkiOiAwLjEsCiAgImZpbGxSdWxlIjogImV2ZW5vZGQiLAogICJsaW5lQ2FwIjogInJvdW5kIiwKICAibGluZUpvaW4iOiAicm91bmQiLAogICJvcGFjaXR5IjogMS4wLAogICJyYWRpdXMiOiA1LAogICJzdHJva2UiOiB0cnVlLAogICJ3ZWlnaHQiOiAzCn0KICAgICAgICAgICAgICAgICkuYWRkVG8oZmVhdHVyZV9ncm91cF9jOGZiMDFjOWNmNDk0ZjgyODQ3NDY5NmEwNTVkMzY4OSk7CiAgICAgICAgICAgIAogICAgCiAgICAgICAgICAgIHZhciBjaXJjbGVfbWFya2VyXzUxYzk0ZDZjYTNmMzRlNGY5MDMxMGZlNzZkNTNlZTJmID0gTC5jaXJjbGVNYXJrZXIoCiAgICAgICAgICAgICAgICBbNDAuODE5NTg2MzQ5MDQ1OTgsLTczLjkwMTE1MzUwNDg0ODU1XSwKICAgICAgICAgICAgICAgIHsKICAiYnViYmxpbmdNb3VzZUV2ZW50cyI6IHRydWUsCiAgImNvbG9yIjogImJsdWUiLAogICJkYXNoQXJyYXkiOiBudWxsLAogICJkYXNoT2Zmc2V0IjogbnVsbCwKICAiZmlsbCI6IHRydWUsCiAgImZpbGxDb2xvciI6ICJ5ZWxsb3ciLAogICJmaWxsT3BhY2l0eSI6IDAuMSwKICAiZmlsbFJ1bGUiOiAiZXZlbm9kZCIsCiAgImxpbmVDYXAiOiAicm91bmQiLAogICJsaW5lSm9pbiI6ICJyb3VuZCIsCiAgIm9wYWNpdHkiOiAxLjAsCiAgInJhZGl1cyI6IDUsCiAgInN0cm9rZSI6IHRydWUsCiAgIndlaWdodCI6IDMKfQogICAgICAgICAgICAgICAgKS5hZGRUbyhmZWF0dXJlX2dyb3VwX2M4ZmIwMWM5Y2Y0OTRmODI4NDc0Njk2YTA1NWQzNjg5KTsKICAgICAgICAgICAgCiAgICAKICAgICAgICAgICAgdmFyIGNpcmNsZV9tYXJrZXJfYTA3NmRkNGJiMzkyNDY0N2JiN2Y1MTMwNTcxZTJmM2UgPSBMLmNpcmNsZU1hcmtlcigKICAgICAgICAgICAgICAgIFs0MC44MjMwOTIxMDAwMDAwMDQsLTczLjg2ODczNTldLAogICAgICAgICAgICAgICAgewogICJidWJibGluZ01vdXNlRXZlbnRzIjogdHJ1ZSwKICAiY29sb3IiOiAiYmx1ZSIsCiAgImRhc2hBcnJheSI6IG51bGwsCiAgImRhc2hPZmZzZXQiOiBudWxsLAogICJmaWxsIjogdHJ1ZSwKICAiZmlsbENvbG9yIjogInllbGxvdyIsCiAgImZpbGxPcGFjaXR5IjogMC4xLAogICJmaWxsUnVsZSI6ICJldmVub2RkIiwKICAibGluZUNhcCI6ICJyb3VuZCIsCiAgImxpbmVKb2luIjogInJvdW5kIiwKICAib3BhY2l0eSI6IDEuMCwKICAicmFkaXVzIjogNSwKICAic3Ryb2tlIjogdHJ1ZSwKICAid2VpZ2h0IjogMwp9CiAgICAgICAgICAgICAgICApLmFkZFRvKGZlYXR1cmVfZ3JvdXBfYzhmYjAxYzljZjQ5NGY4Mjg0NzQ2OTZhMDU1ZDM2ODkpOwogICAgICAgICAgICAKICAgIAogICAgICAgICAgICB2YXIgY2lyY2xlX21hcmtlcl82YzFmNWRlYjZmMTI0ZGYyYWVmY2MzMmRkYTIzMzZjMiA9IEwuY2lyY2xlTWFya2VyKAogICAgICAgICAgICAgICAgWzQwLjgyMzA5MjEwMDAwMDAwNCwtNzMuODY4NzM1OV0sCiAgICAgICAgICAgICAgICB7CiAgImJ1YmJsaW5nTW91c2VFdmVudHMiOiB0cnVlLAogICJjb2xvciI6ICJibHVlIiwKICAiZGFzaEFycmF5IjogbnVsbCwKICAiZGFzaE9mZnNldCI6IG51bGwsCiAgImZpbGwiOiB0cnVlLAogICJmaWxsQ29sb3IiOiAieWVsbG93IiwKICAiZmlsbE9wYWNpdHkiOiAwLjEsCiAgImZpbGxSdWxlIjogImV2ZW5vZGQiLAogICJsaW5lQ2FwIjogInJvdW5kIiwKICAibGluZUpvaW4iOiAicm91bmQiLAogICJvcGFjaXR5IjogMS4wLAogICJyYWRpdXMiOiA1LAogICJzdHJva2UiOiB0cnVlLAogICJ3ZWlnaHQiOiAzCn0KICAgICAgICAgICAgICAgICkuYWRkVG8oZmVhdHVyZV9ncm91cF9jOGZiMDFjOWNmNDk0ZjgyODQ3NDY5NmEwNTVkMzY4OSk7CiAgICAgICAgICAgIAogICAgCiAgICAgICAgICAgIHZhciBjaXJjbGVfbWFya2VyX2ZhZDk1NjMyMTAyMDQzMzFiMzZlYjBlMjMwM2UyNjM4ID0gTC5jaXJjbGVNYXJrZXIoCiAgICAgICAgICAgICAgICBbNDAuODIzMDkyMTAwMDAwMDA0LC03My44Njg3MzU5XSwKICAgICAgICAgICAgICAgIHsKICAiYnViYmxpbmdNb3VzZUV2ZW50cyI6IHRydWUsCiAgImNvbG9yIjogImJsdWUiLAogICJkYXNoQXJyYXkiOiBudWxsLAogICJkYXNoT2Zmc2V0IjogbnVsbCwKICAiZmlsbCI6IHRydWUsCiAgImZpbGxDb2xvciI6ICJ5ZWxsb3ciLAogICJmaWxsT3BhY2l0eSI6IDAuMSwKICAiZmlsbFJ1bGUiOiAiZXZlbm9kZCIsCiAgImxpbmVDYXAiOiAicm91bmQiLAogICJsaW5lSm9pbiI6ICJyb3VuZCIsCiAgIm9wYWNpdHkiOiAxLjAsCiAgInJhZGl1cyI6IDUsCiAgInN0cm9rZSI6IHRydWUsCiAgIndlaWdodCI6IDMKfQogICAgICAgICAgICAgICAgKS5hZGRUbyhmZWF0dXJlX2dyb3VwX2M4ZmIwMWM5Y2Y0OTRmODI4NDc0Njk2YTA1NWQzNjg5KTsKICAgICAgICAgICAgCiAgICAKICAgICAgICAgICAgdmFyIGNpcmNsZV9tYXJrZXJfODQ5NzYyODg0MTFiNGJhNjkyMDE3ZjI0OTM5ZjM5NjUgPSBMLmNpcmNsZU1hcmtlcigKICAgICAgICAgICAgICAgIFs0MC44NDE2ODE3OTk5OTk5OTYsLTczLjg0MzI2ODJdLAogICAgICAgICAgICAgICAgewogICJidWJibGluZ01vdXNlRXZlbnRzIjogdHJ1ZSwKICAiY29sb3IiOiAiYmx1ZSIsCiAgImRhc2hBcnJheSI6IG51bGwsCiAgImRhc2hPZmZzZXQiOiBudWxsLAogICJmaWxsIjogdHJ1ZSwKICAiZmlsbENvbG9yIjogInllbGxvdyIsCiAgImZpbGxPcGFjaXR5IjogMC4xLAogICJmaWxsUnVsZSI6ICJldmVub2RkIiwKICAibGluZUNhcCI6ICJyb3VuZCIsCiAgImxpbmVKb2luIjogInJvdW5kIiwKICAib3BhY2l0eSI6IDEuMCwKICAicmFkaXVzIjogNSwKICAic3Ryb2tlIjogdHJ1ZSwKICAid2VpZ2h0IjogMwp9CiAgICAgICAgICAgICAgICApLmFkZFRvKGZlYXR1cmVfZ3JvdXBfYzhmYjAxYzljZjQ5NGY4Mjg0NzQ2OTZhMDU1ZDM2ODkpOwogICAgICAgICAgICAKICAgIAogICAgICAgICAgICB2YXIgY2lyY2xlX21hcmtlcl80ZWVlMmUxN2Q4ZTQ0ZjM3YjFmMDczZTA1Yzk3OWFlNiA9IEwuY2lyY2xlTWFya2VyKAogICAgICAgICAgICAgICAgWzQwLjg0MTY4MTc5OTk5OTk5NiwtNzMuODQzMjY4Ml0sCiAgICAgICAgICAgICAgICB7CiAgImJ1YmJsaW5nTW91c2VFdmVudHMiOiB0cnVlLAogICJjb2xvciI6ICJibHVlIiwKICAiZGFzaEFycmF5IjogbnVsbCwKICAiZGFzaE9mZnNldCI6IG51bGwsCiAgImZpbGwiOiB0cnVlLAogICJmaWxsQ29sb3IiOiAieWVsbG93IiwKICAiZmlsbE9wYWNpdHkiOiAwLjEsCiAgImZpbGxSdWxlIjogImV2ZW5vZGQiLAogICJsaW5lQ2FwIjogInJvdW5kIiwKICAibGluZUpvaW4iOiAicm91bmQiLAogICJvcGFjaXR5IjogMS4wLAogICJyYWRpdXMiOiA1LAogICJzdHJva2UiOiB0cnVlLAogICJ3ZWlnaHQiOiAzCn0KICAgICAgICAgICAgICAgICkuYWRkVG8oZmVhdHVyZV9ncm91cF9jOGZiMDFjOWNmNDk0ZjgyODQ3NDY5NmEwNTVkMzY4OSk7CiAgICAgICAgICAgIAogICAgCiAgICAgICAgICAgIHZhciBjaXJjbGVfbWFya2VyXzdkMTgzZjg5N2M5OTQ0NzhiY2Y0MDMyMjc5Yjg2MGVkID0gTC5jaXJjbGVNYXJrZXIoCiAgICAgICAgICAgICAgICBbNDAuODUyOTA1NywtNzMuODg5NDgxMl0sCiAgICAgICAgICAgICAgICB7CiAgImJ1YmJsaW5nTW91c2VFdmVudHMiOiB0cnVlLAogICJjb2xvciI6ICJibHVlIiwKICAiZGFzaEFycmF5IjogbnVsbCwKICAiZGFzaE9mZnNldCI6IG51bGwsCiAgImZpbGwiOiB0cnVlLAogICJmaWxsQ29sb3IiOiAieWVsbG93IiwKICAiZmlsbE9wYWNpdHkiOiAwLjEsCiAgImZpbGxSdWxlIjogImV2ZW5vZGQiLAogICJsaW5lQ2FwIjogInJvdW5kIiwKICAibGluZUpvaW4iOiAicm91bmQiLAogICJvcGFjaXR5IjogMS4wLAogICJyYWRpdXMiOiA1LAogICJzdHJva2UiOiB0cnVlLAogICJ3ZWlnaHQiOiAzCn0KICAgICAgICAgICAgICAgICkuYWRkVG8oZmVhdHVyZV9ncm91cF9jOGZiMDFjOWNmNDk0ZjgyODQ3NDY5NmEwNTVkMzY4OSk7CiAgICAgICAgICAgIAogICAgCiAgICAgICAgICAgIHZhciBjaXJjbGVfbWFya2VyX2UyYzljZmM5Mjk3NzQyNmNiODkzYWI3YTZjYTQ0MTQxID0gTC5jaXJjbGVNYXJrZXIoCiAgICAgICAgICAgICAgICBbNDAuODUyNDIyMDY3OTI1NDcsLTczLjgyNzI0MDUzNTg2MDMxXSwKICAgICAgICAgICAgICAgIHsKICAiYnViYmxpbmdNb3VzZUV2ZW50cyI6IHRydWUsCiAgImNvbG9yIjogImJsdWUiLAogICJkYXNoQXJyYXkiOiBudWxsLAogICJkYXNoT2Zmc2V0IjogbnVsbCwKICAiZmlsbCI6IHRydWUsCiAgImZpbGxDb2xvciI6ICJ5ZWxsb3ciLAogICJmaWxsT3BhY2l0eSI6IDAuMSwKICAiZmlsbFJ1bGUiOiAiZXZlbm9kZCIsCiAgImxpbmVDYXAiOiAicm91bmQiLAogICJsaW5lSm9pbiI6ICJyb3VuZCIsCiAgIm9wYWNpdHkiOiAxLjAsCiAgInJhZGl1cyI6IDUsCiAgInN0cm9rZSI6IHRydWUsCiAgIndlaWdodCI6IDMKfQogICAgICAgICAgICAgICAgKS5hZGRUbyhmZWF0dXJlX2dyb3VwX2M4ZmIwMWM5Y2Y0OTRmODI4NDc0Njk2YTA1NWQzNjg5KTsKICAgICAgICAgICAgCiAgICAKICAgICAgICAgICAgdmFyIGNpcmNsZV9tYXJrZXJfY2VkYmFmMTNiYmY4NDc3NWJmYWNlMmM1N2UyNzQ5MzQgPSBMLmNpcmNsZU1hcmtlcigKICAgICAgICAgICAgICAgIFs0MC44MjkzODA5MDAwMDAwMDQsLTczLjgyNTI0NDZdLAogICAgICAgICAgICAgICAgewogICJidWJibGluZ01vdXNlRXZlbnRzIjogdHJ1ZSwKICAiY29sb3IiOiAiYmx1ZSIsCiAgImRhc2hBcnJheSI6IG51bGwsCiAgImRhc2hPZmZzZXQiOiBudWxsLAogICJmaWxsIjogdHJ1ZSwKICAiZmlsbENvbG9yIjogInllbGxvdyIsCiAgImZpbGxPcGFjaXR5IjogMC4xLAogICJmaWxsUnVsZSI6ICJldmVub2RkIiwKICAibGluZUNhcCI6ICJyb3VuZCIsCiAgImxpbmVKb2luIjogInJvdW5kIiwKICAib3BhY2l0eSI6IDEuMCwKICAicmFkaXVzIjogNSwKICAic3Ryb2tlIjogdHJ1ZSwKICAid2VpZ2h0IjogMwp9CiAgICAgICAgICAgICAgICApLmFkZFRvKGZlYXR1cmVfZ3JvdXBfYzhmYjAxYzljZjQ5NGY4Mjg0NzQ2OTZhMDU1ZDM2ODkpOwogICAgICAgICAgICAKICAgIAogICAgICAgICAgICB2YXIgY2lyY2xlX21hcmtlcl8xMWUyMjU0MmE0MGU0NDNiOGZkYzMxYTk1NTYwMmU2OSA9IEwuY2lyY2xlTWFya2VyKAogICAgICAgICAgICAgICAgWzQwLjgyOTM4MDkwMDAwMDAwNCwtNzMuODI1MjQ0Nl0sCiAgICAgICAgICAgICAgICB7CiAgImJ1YmJsaW5nTW91c2VFdmVudHMiOiB0cnVlLAogICJjb2xvciI6ICJibHVlIiwKICAiZGFzaEFycmF5IjogbnVsbCwKICAiZGFzaE9mZnNldCI6IG51bGwsCiAgImZpbGwiOiB0cnVlLAogICJmaWxsQ29sb3IiOiAieWVsbG93IiwKICAiZmlsbE9wYWNpdHkiOiAwLjEsCiAgImZpbGxSdWxlIjogImV2ZW5vZGQiLAogICJsaW5lQ2FwIjogInJvdW5kIiwKICAibGluZUpvaW4iOiAicm91bmQiLAogICJvcGFjaXR5IjogMS4wLAogICJyYWRpdXMiOiA1LAogICJzdHJva2UiOiB0cnVlLAogICJ3ZWlnaHQiOiAzCn0KICAgICAgICAgICAgICAgICkuYWRkVG8oZmVhdHVyZV9ncm91cF9jOGZiMDFjOWNmNDk0ZjgyODQ3NDY5NmEwNTVkMzY4OSk7CiAgICAgICAgICAgIAogICAgCiAgICAgICAgICAgIHZhciBjaXJjbGVfbWFya2VyXzNiMjRmZTkwNDQ3OTRiNTQ5NDEzMDFhMjEyMmMyNDA1ID0gTC5jaXJjbGVNYXJrZXIoCiAgICAgICAgICAgICAgICBbNDAuODE5Nzg3NSwtNzMuODQ3ODI2MDk5OTk5OTldLAogICAgICAgICAgICAgICAgewogICJidWJibGluZ01vdXNlRXZlbnRzIjogdHJ1ZSwKICAiY29sb3IiOiAiYmx1ZSIsCiAgImRhc2hBcnJheSI6IG51bGwsCiAgImRhc2hPZmZzZXQiOiBudWxsLAogICJmaWxsIjogdHJ1ZSwKICAiZmlsbENvbG9yIjogInllbGxvdyIsCiAgImZpbGxPcGFjaXR5IjogMC4xLAogICJmaWxsUnVsZSI6ICJldmVub2RkIiwKICAibGluZUNhcCI6ICJyb3VuZCIsCiAgImxpbmVKb2luIjogInJvdW5kIiwKICAib3BhY2l0eSI6IDEuMCwKICAicmFkaXVzIjogNSwKICAic3Ryb2tlIjogdHJ1ZSwKICAid2VpZ2h0IjogMwp9CiAgICAgICAgICAgICAgICApLmFkZFRvKGZlYXR1cmVfZ3JvdXBfYzhmYjAxYzljZjQ5NGY4Mjg0NzQ2OTZhMDU1ZDM2ODkpOwogICAgICAgICAgICAKICAgIAogICAgICAgICAgICB2YXIgY2lyY2xlX21hcmtlcl8xMDI3NTE4ODQ2OTE0NDAzYTlkMmRlOGFhM2FkZGYwNCA9IEwuY2lyY2xlTWFya2VyKAogICAgICAgICAgICAgICAgWzQwLjgxOTc4NzUsLTczLjg0NzgyNjA5OTk5OTk5XSwKICAgICAgICAgICAgICAgIHsKICAiYnViYmxpbmdNb3VzZUV2ZW50cyI6IHRydWUsCiAgImNvbG9yIjogImJsdWUiLAogICJkYXNoQXJyYXkiOiBudWxsLAogICJkYXNoT2Zmc2V0IjogbnVsbCwKICAiZmlsbCI6IHRydWUsCiAgImZpbGxDb2xvciI6ICJ5ZWxsb3ciLAogICJmaWxsT3BhY2l0eSI6IDAuMSwKICAiZmlsbFJ1bGUiOiAiZXZlbm9kZCIsCiAgImxpbmVDYXAiOiAicm91bmQiLAogICJsaW5lSm9pbiI6ICJyb3VuZCIsCiAgIm9wYWNpdHkiOiAxLjAsCiAgInJhZGl1cyI6IDUsCiAgInN0cm9rZSI6IHRydWUsCiAgIndlaWdodCI6IDMKfQogICAgICAgICAgICAgICAgKS5hZGRUbyhmZWF0dXJlX2dyb3VwX2M4ZmIwMWM5Y2Y0OTRmODI4NDc0Njk2YTA1NWQzNjg5KTsKICAgICAgICAgICAgCiAgICAKICAgICAgICAgICAgdmFyIGNpcmNsZV9tYXJrZXJfOWJlNmMxYjU1YWVmNGQ5MDgxMzE1NTMxOWE5OGQ3N2IgPSBMLmNpcmNsZU1hcmtlcigKICAgICAgICAgICAgICAgIFs0MC44MzUzMDY2MjY5Mzc3MywtNzMuOTIwNzIxNzY0ODI5MDRdLAogICAgICAgICAgICAgICAgewogICJidWJibGluZ01vdXNlRXZlbnRzIjogdHJ1ZSwKICAiY29sb3IiOiAiYmx1ZSIsCiAgImRhc2hBcnJheSI6IG51bGwsCiAgImRhc2hPZmZzZXQiOiBudWxsLAogICJmaWxsIjogdHJ1ZSwKICAiZmlsbENvbG9yIjogInllbGxvdyIsCiAgImZpbGxPcGFjaXR5IjogMC4xLAogICJmaWxsUnVsZSI6ICJldmVub2RkIiwKICAibGluZUNhcCI6ICJyb3VuZCIsCiAgImxpbmVKb2luIjogInJvdW5kIiwKICAib3BhY2l0eSI6IDEuMCwKICAicmFkaXVzIjogNSwKICAic3Ryb2tlIjogdHJ1ZSwKICAid2VpZ2h0IjogMwp9CiAgICAgICAgICAgICAgICApLmFkZFRvKGZlYXR1cmVfZ3JvdXBfYzhmYjAxYzljZjQ5NGY4Mjg0NzQ2OTZhMDU1ZDM2ODkpOwogICAgICAgICAgICAKICAgIAogICAgICAgICAgICB2YXIgY2lyY2xlX21hcmtlcl9jNzg4MjY0MDdkMWI0NGE2OTdlNWM1Nzg1Njc5YTZkOCA9IEwuY2lyY2xlTWFya2VyKAogICAgICAgICAgICAgICAgWzQwLjYyODY4NTc5OTk5OTk5LC03NC4wMjg1NzIzXSwKICAgICAgICAgICAgICAgIHsKICAiYnViYmxpbmdNb3VzZUV2ZW50cyI6IHRydWUsCiAgImNvbG9yIjogImJsdWUiLAogICJkYXNoQXJyYXkiOiBudWxsLAogICJkYXNoT2Zmc2V0IjogbnVsbCwKICAiZmlsbCI6IHRydWUsCiAgImZpbGxDb2xvciI6ICJ5ZWxsb3ciLAogICJmaWxsT3BhY2l0eSI6IDAuMSwKICAiZmlsbFJ1bGUiOiAiZXZlbm9kZCIsCiAgImxpbmVDYXAiOiAicm91bmQiLAogICJsaW5lSm9pbiI6ICJyb3VuZCIsCiAgIm9wYWNpdHkiOiAxLjAsCiAgInJhZGl1cyI6IDUsCiAgInN0cm9rZSI6IHRydWUsCiAgIndlaWdodCI6IDMKfQogICAgICAgICAgICAgICAgKS5hZGRUbyhmZWF0dXJlX2dyb3VwX2M4ZmIwMWM5Y2Y0OTRmODI4NDc0Njk2YTA1NWQzNjg5KTsKICAgICAgICAgICAgCiAgICAKICAgICAgICAgICAgdmFyIGNpcmNsZV9tYXJrZXJfNjhkOWU2OGFlNDFiNGVmMjg2NjQxODQ4NTM3NWIxN2UgPSBMLmNpcmNsZU1hcmtlcigKICAgICAgICAgICAgICAgIFs0MC41OTY3NTYyNDYyNDA0NCwtNzMuOTc1NDU2NjA0MjU5MTFdLAogICAgICAgICAgICAgICAgewogICJidWJibGluZ01vdXNlRXZlbnRzIjogdHJ1ZSwKICAiY29sb3IiOiAiYmx1ZSIsCiAgImRhc2hBcnJheSI6IG51bGwsCiAgImRhc2hPZmZzZXQiOiBudWxsLAogICJmaWxsIjogdHJ1ZSwKICAiZmlsbENvbG9yIjogInllbGxvdyIsCiAgImZpbGxPcGFjaXR5IjogMC4xLAogICJmaWxsUnVsZSI6ICJldmVub2RkIiwKICAibGluZUNhcCI6ICJyb3VuZCIsCiAgImxpbmVKb2luIjogInJvdW5kIiwKICAib3BhY2l0eSI6IDEuMCwKICAicmFkaXVzIjogNSwKICAic3Ryb2tlIjogdHJ1ZSwKICAid2VpZ2h0IjogMwp9CiAgICAgICAgICAgICAgICApLmFkZFRvKGZlYXR1cmVfZ3JvdXBfYzhmYjAxYzljZjQ5NGY4Mjg0NzQ2OTZhMDU1ZDM2ODkpOwogICAgICAgICAgICAKICAgIAogICAgICAgICAgICB2YXIgY2lyY2xlX21hcmtlcl9jMGIyMTYxODJhZGE0NjllYmMwMDAyNjNiYTYwNGU4YiA9IEwuY2lyY2xlTWFya2VyKAogICAgICAgICAgICAgICAgWzQwLjU5Njc1NjI0NjI0MDQ0LC03My45NzU0NTY2MDQyNTkxMV0sCiAgICAgICAgICAgICAgICB7CiAgImJ1YmJsaW5nTW91c2VFdmVudHMiOiB0cnVlLAogICJjb2xvciI6ICJibHVlIiwKICAiZGFzaEFycmF5IjogbnVsbCwKICAiZGFzaE9mZnNldCI6IG51bGwsCiAgImZpbGwiOiB0cnVlLAogICJmaWxsQ29sb3IiOiAieWVsbG93IiwKICAiZmlsbE9wYWNpdHkiOiAwLjEsCiAgImZpbGxSdWxlIjogImV2ZW5vZGQiLAogICJsaW5lQ2FwIjogInJvdW5kIiwKICAibGluZUpvaW4iOiAicm91bmQiLAogICJvcGFjaXR5IjogMS4wLAogICJyYWRpdXMiOiA1LAogICJzdHJva2UiOiB0cnVlLAogICJ3ZWlnaHQiOiAzCn0KICAgICAgICAgICAgICAgICkuYWRkVG8oZmVhdHVyZV9ncm91cF9jOGZiMDFjOWNmNDk0ZjgyODQ3NDY5NmEwNTVkMzY4OSk7CiAgICAgICAgICAgIAogICAgCiAgICAgICAgICAgIHZhciBjaXJjbGVfbWFya2VyXzNjNGE4Y2MyMWQ1NTQyOGY4ZDNhNTlkY2NhNzE0N2JkID0gTC5jaXJjbGVNYXJrZXIoCiAgICAgICAgICAgICAgICBbNDAuNTk2NzU2MjQ2MjQwNDQsLTczLjk3NTQ1NjYwNDI1OTExXSwKICAgICAgICAgICAgICAgIHsKICAiYnViYmxpbmdNb3VzZUV2ZW50cyI6IHRydWUsCiAgImNvbG9yIjogImJsdWUiLAogICJkYXNoQXJyYXkiOiBudWxsLAogICJkYXNoT2Zmc2V0IjogbnVsbCwKICAiZmlsbCI6IHRydWUsCiAgImZpbGxDb2xvciI6ICJ5ZWxsb3ciLAogICJmaWxsT3BhY2l0eSI6IDAuMSwKICAiZmlsbFJ1bGUiOiAiZXZlbm9kZCIsCiAgImxpbmVDYXAiOiAicm91bmQiLAogICJsaW5lSm9pbiI6ICJyb3VuZCIsCiAgIm9wYWNpdHkiOiAxLjAsCiAgInJhZGl1cyI6IDUsCiAgInN0cm9rZSI6IHRydWUsCiAgIndlaWdodCI6IDMKfQogICAgICAgICAgICAgICAgKS5hZGRUbyhmZWF0dXJlX2dyb3VwX2M4ZmIwMWM5Y2Y0OTRmODI4NDc0Njk2YTA1NWQzNjg5KTsKICAgICAgICAgICAgCiAgICAKICAgICAgICAgICAgdmFyIGNpcmNsZV9tYXJrZXJfMTFkMmNhNzM1MzMwNGM1NzhmMjlkZjVmY2NiZGZiNDkgPSBMLmNpcmNsZU1hcmtlcigKICAgICAgICAgICAgICAgIFs0MC41NzY2MDE1LC03My45Njc5NTU5XSwKICAgICAgICAgICAgICAgIHsKICAiYnViYmxpbmdNb3VzZUV2ZW50cyI6IHRydWUsCiAgImNvbG9yIjogImJsdWUiLAogICJkYXNoQXJyYXkiOiBudWxsLAogICJkYXNoT2Zmc2V0IjogbnVsbCwKICAiZmlsbCI6IHRydWUsCiAgImZpbGxDb2xvciI6ICJ5ZWxsb3ciLAogICJmaWxsT3BhY2l0eSI6IDAuMSwKICAiZmlsbFJ1bGUiOiAiZXZlbm9kZCIsCiAgImxpbmVDYXAiOiAicm91bmQiLAogICJsaW5lSm9pbiI6ICJyb3VuZCIsCiAgIm9wYWNpdHkiOiAxLjAsCiAgInJhZGl1cyI6IDUsCiAgInN0cm9rZSI6IHRydWUsCiAgIndlaWdodCI6IDMKfQogICAgICAgICAgICAgICAgKS5hZGRUbyhmZWF0dXJlX2dyb3VwX2M4ZmIwMWM5Y2Y0OTRmODI4NDc0Njk2YTA1NWQzNjg5KTsKICAgICAgICAgICAgCiAgICAKICAgICAgICAgICAgdmFyIGNpcmNsZV9tYXJrZXJfNmQwM2ZiNjkyMDYyNDExOWIxYmQ1ZjBiN2M1NDQ4NjIgPSBMLmNpcmNsZU1hcmtlcigKICAgICAgICAgICAgICAgIFs0MC42NDE3OTg2LC03My45MzcyMjQ0XSwKICAgICAgICAgICAgICAgIHsKICAiYnViYmxpbmdNb3VzZUV2ZW50cyI6IHRydWUsCiAgImNvbG9yIjogImJsdWUiLAogICJkYXNoQXJyYXkiOiBudWxsLAogICJkYXNoT2Zmc2V0IjogbnVsbCwKICAiZmlsbCI6IHRydWUsCiAgImZpbGxDb2xvciI6ICJ5ZWxsb3ciLAogICJmaWxsT3BhY2l0eSI6IDAuMSwKICAiZmlsbFJ1bGUiOiAiZXZlbm9kZCIsCiAgImxpbmVDYXAiOiAicm91bmQiLAogICJsaW5lSm9pbiI6ICJyb3VuZCIsCiAgIm9wYWNpdHkiOiAxLjAsCiAgInJhZGl1cyI6IDUsCiAgInN0cm9rZSI6IHRydWUsCiAgIndlaWdodCI6IDMKfQogICAgICAgICAgICAgICAgKS5hZGRUbyhmZWF0dXJlX2dyb3VwX2M4ZmIwMWM5Y2Y0OTRmODI4NDc0Njk2YTA1NWQzNjg5KTsKICAgICAgICAgICAgCiAgICAKICAgICAgICAgICAgdmFyIGNpcmNsZV9tYXJrZXJfNGRlZGZjYjBmNmUwNDNmZmEwNmE2MDQ0NTUwMDE3MjIgPSBMLmNpcmNsZU1hcmtlcigKICAgICAgICAgICAgICAgIFs0MC42NDE3OTg2LC03My45MzcyMjQ0XSwKICAgICAgICAgICAgICAgIHsKICAiYnViYmxpbmdNb3VzZUV2ZW50cyI6IHRydWUsCiAgImNvbG9yIjogImJsdWUiLAogICJkYXNoQXJyYXkiOiBudWxsLAogICJkYXNoT2Zmc2V0IjogbnVsbCwKICAiZmlsbCI6IHRydWUsCiAgImZpbGxDb2xvciI6ICJ5ZWxsb3ciLAogICJmaWxsT3BhY2l0eSI6IDAuMSwKICAiZmlsbFJ1bGUiOiAiZXZlbm9kZCIsCiAgImxpbmVDYXAiOiAicm91bmQiLAogICJsaW5lSm9pbiI6ICJyb3VuZCIsCiAgIm9wYWNpdHkiOiAxLjAsCiAgInJhZGl1cyI6IDUsCiAgInN0cm9rZSI6IHRydWUsCiAgIndlaWdodCI6IDMKfQogICAgICAgICAgICAgICAgKS5hZGRUbyhmZWF0dXJlX2dyb3VwX2M4ZmIwMWM5Y2Y0OTRmODI4NDc0Njk2YTA1NWQzNjg5KTsKICAgICAgICAgICAgCiAgICAKICAgICAgICAgICAgdmFyIGNpcmNsZV9tYXJrZXJfNmJjZmFiMzIxMDdkNDcwNDhiMzI1NDEwMzEwNzZmZWQgPSBMLmNpcmNsZU1hcmtlcigKICAgICAgICAgICAgICAgIFs0MC42NjUwMDA3NDI0NzI5NywtNzMuOTA1MjI5NTIwNTIzNDhdLAogICAgICAgICAgICAgICAgewogICJidWJibGluZ01vdXNlRXZlbnRzIjogdHJ1ZSwKICAiY29sb3IiOiAiYmx1ZSIsCiAgImRhc2hBcnJheSI6IG51bGwsCiAgImRhc2hPZmZzZXQiOiBudWxsLAogICJmaWxsIjogdHJ1ZSwKICAiZmlsbENvbG9yIjogInllbGxvdyIsCiAgImZpbGxPcGFjaXR5IjogMC4xLAogICJmaWxsUnVsZSI6ICJldmVub2RkIiwKICAibGluZUNhcCI6ICJyb3VuZCIsCiAgImxpbmVKb2luIjogInJvdW5kIiwKICAib3BhY2l0eSI6IDEuMCwKICAicmFkaXVzIjogNSwKICAic3Ryb2tlIjogdHJ1ZSwKICAid2VpZ2h0IjogMwp9CiAgICAgICAgICAgICAgICApLmFkZFRvKGZlYXR1cmVfZ3JvdXBfYzhmYjAxYzljZjQ5NGY4Mjg0NzQ2OTZhMDU1ZDM2ODkpOwogICAgICAgICAgICAKICAgIAogICAgICAgICAgICB2YXIgY2lyY2xlX21hcmtlcl80ODg1Mjc2YzAxNmY0MzY1YTc5YTU5ZTQ2OTdiYmVmNyA9IEwuY2lyY2xlTWFya2VyKAogICAgICAgICAgICAgICAgWzQwLjY0NzMxNTU3NzI1NTE4LC03My44ODI5ODk3ODk1ODUxXSwKICAgICAgICAgICAgICAgIHsKICAiYnViYmxpbmdNb3VzZUV2ZW50cyI6IHRydWUsCiAgImNvbG9yIjogImJsdWUiLAogICJkYXNoQXJyYXkiOiBudWxsLAogICJkYXNoT2Zmc2V0IjogbnVsbCwKICAiZmlsbCI6IHRydWUsCiAgImZpbGxDb2xvciI6ICJ5ZWxsb3ciLAogICJmaWxsT3BhY2l0eSI6IDAuMSwKICAiZmlsbFJ1bGUiOiAiZXZlbm9kZCIsCiAgImxpbmVDYXAiOiAicm91bmQiLAogICJsaW5lSm9pbiI6ICJyb3VuZCIsCiAgIm9wYWNpdHkiOiAxLjAsCiAgInJhZGl1cyI6IDUsCiAgInN0cm9rZSI6IHRydWUsCiAgIndlaWdodCI6IDMKfQogICAgICAgICAgICAgICAgKS5hZGRUbyhmZWF0dXJlX2dyb3VwX2M4ZmIwMWM5Y2Y0OTRmODI4NDc0Njk2YTA1NWQzNjg5KTsKICAgICAgICAgICAgCiAgICAKICAgICAgICAgICAgdmFyIGNpcmNsZV9tYXJrZXJfMDc2NzhhMWZlN2Q3NGZmN2I5OTU4ZjYzMDRkMTBjMDIgPSBMLmNpcmNsZU1hcmtlcigKICAgICAgICAgICAgICAgIFs0MC42NDczMTU1NzcyNTUxOCwtNzMuODgyOTg5Nzg5NTg1MV0sCiAgICAgICAgICAgICAgICB7CiAgImJ1YmJsaW5nTW91c2VFdmVudHMiOiB0cnVlLAogICJjb2xvciI6ICJibHVlIiwKICAiZGFzaEFycmF5IjogbnVsbCwKICAiZGFzaE9mZnNldCI6IG51bGwsCiAgImZpbGwiOiB0cnVlLAogICJmaWxsQ29sb3IiOiAieWVsbG93IiwKICAiZmlsbE9wYWNpdHkiOiAwLjEsCiAgImZpbGxSdWxlIjogImV2ZW5vZGQiLAogICJsaW5lQ2FwIjogInJvdW5kIiwKICAibGluZUpvaW4iOiAicm91bmQiLAogICJvcGFjaXR5IjogMS4wLAogICJyYWRpdXMiOiA1LAogICJzdHJva2UiOiB0cnVlLAogICJ3ZWlnaHQiOiAzCn0KICAgICAgICAgICAgICAgICkuYWRkVG8oZmVhdHVyZV9ncm91cF9jOGZiMDFjOWNmNDk0ZjgyODQ3NDY5NmEwNTVkMzY4OSk7CiAgICAgICAgICAgIAogICAgCiAgICAgICAgICAgIHZhciBjaXJjbGVfbWFya2VyXzc0YTY5MDFlM2VkNjRjZjM4NjA4NzU3ZTcxNzFhZTM4ID0gTC5jaXJjbGVNYXJrZXIoCiAgICAgICAgICAgICAgICBbNDAuNjQ3MzE1NTc3MjU1MTgsLTczLjg4Mjk4OTc4OTU4NTFdLAogICAgICAgICAgICAgICAgewogICJidWJibGluZ01vdXNlRXZlbnRzIjogdHJ1ZSwKICAiY29sb3IiOiAiYmx1ZSIsCiAgImRhc2hBcnJheSI6IG51bGwsCiAgImRhc2hPZmZzZXQiOiBudWxsLAogICJmaWxsIjogdHJ1ZSwKICAiZmlsbENvbG9yIjogInllbGxvdyIsCiAgImZpbGxPcGFjaXR5IjogMC4xLAogICJmaWxsUnVsZSI6ICJldmVub2RkIiwKICAibGluZUNhcCI6ICJyb3VuZCIsCiAgImxpbmVKb2luIjogInJvdW5kIiwKICAib3BhY2l0eSI6IDEuMCwKICAicmFkaXVzIjogNSwKICAic3Ryb2tlIjogdHJ1ZSwKICAid2VpZ2h0IjogMwp9CiAgICAgICAgICAgICAgICApLmFkZFRvKGZlYXR1cmVfZ3JvdXBfYzhmYjAxYzljZjQ5NGY4Mjg0NzQ2OTZhMDU1ZDM2ODkpOwogICAgICAgICAgICAKICAgIAogICAgICAgICAgICB2YXIgY2lyY2xlX21hcmtlcl9hMTU4ZTNlOTJhNDY0NmUzYjAxMTkyZDVjNWZhNDI1YiA9IEwuY2lyY2xlTWFya2VyKAogICAgICAgICAgICAgICAgWzQwLjY0NzMxNTU3NzI1NTE4LC03My44ODI5ODk3ODk1ODUxXSwKICAgICAgICAgICAgICAgIHsKICAiYnViYmxpbmdNb3VzZUV2ZW50cyI6IHRydWUsCiAgImNvbG9yIjogImJsdWUiLAogICJkYXNoQXJyYXkiOiBudWxsLAogICJkYXNoT2Zmc2V0IjogbnVsbCwKICAiZmlsbCI6IHRydWUsCiAgImZpbGxDb2xvciI6ICJ5ZWxsb3ciLAogICJmaWxsT3BhY2l0eSI6IDAuMSwKICAiZmlsbFJ1bGUiOiAiZXZlbm9kZCIsCiAgImxpbmVDYXAiOiAicm91bmQiLAogICJsaW5lSm9pbiI6ICJyb3VuZCIsCiAgIm9wYWNpdHkiOiAxLjAsCiAgInJhZGl1cyI6IDUsCiAgInN0cm9rZSI6IHRydWUsCiAgIndlaWdodCI6IDMKfQogICAgICAgICAgICAgICAgKS5hZGRUbyhmZWF0dXJlX2dyb3VwX2M4ZmIwMWM5Y2Y0OTRmODI4NDc0Njk2YTA1NWQzNjg5KTsKICAgICAgICAgICAgCiAgICAKICAgICAgICAgICAgdmFyIGNpcmNsZV9tYXJrZXJfMDQ3YTQ3NzQ5ODk4NDcwZmJmOWU2ZmY1ZDJhN2QwMTYgPSBMLmNpcmNsZU1hcmtlcigKICAgICAgICAgICAgICAgIFs0MC42NDczMTU1NzcyNTUxOCwtNzMuODgyOTg5Nzg5NTg1MV0sCiAgICAgICAgICAgICAgICB7CiAgImJ1YmJsaW5nTW91c2VFdmVudHMiOiB0cnVlLAogICJjb2xvciI6ICJibHVlIiwKICAiZGFzaEFycmF5IjogbnVsbCwKICAiZGFzaE9mZnNldCI6IG51bGwsCiAgImZpbGwiOiB0cnVlLAogICJmaWxsQ29sb3IiOiAieWVsbG93IiwKICAiZmlsbE9wYWNpdHkiOiAwLjEsCiAgImZpbGxSdWxlIjogImV2ZW5vZGQiLAogICJsaW5lQ2FwIjogInJvdW5kIiwKICAibGluZUpvaW4iOiAicm91bmQiLAogICJvcGFjaXR5IjogMS4wLAogICJyYWRpdXMiOiA1LAogICJzdHJva2UiOiB0cnVlLAogICJ3ZWlnaHQiOiAzCn0KICAgICAgICAgICAgICAgICkuYWRkVG8oZmVhdHVyZV9ncm91cF9jOGZiMDFjOWNmNDk0ZjgyODQ3NDY5NmEwNTVkMzY4OSk7CiAgICAgICAgICAgIAogICAgCiAgICAgICAgICAgIHZhciBjaXJjbGVfbWFya2VyX2UzMjFmMDg2MWJlZjQxMzc5ZWNjM2RkMDVmOGVlNjY1ID0gTC5jaXJjbGVNYXJrZXIoCiAgICAgICAgICAgICAgICBbNDAuNjQ3MzE1NTc3MjU1MTgsLTczLjg4Mjk4OTc4OTU4NTFdLAogICAgICAgICAgICAgICAgewogICJidWJibGluZ01vdXNlRXZlbnRzIjogdHJ1ZSwKICAiY29sb3IiOiAiYmx1ZSIsCiAgImRhc2hBcnJheSI6IG51bGwsCiAgImRhc2hPZmZzZXQiOiBudWxsLAogICJmaWxsIjogdHJ1ZSwKICAiZmlsbENvbG9yIjogInllbGxvdyIsCiAgImZpbGxPcGFjaXR5IjogMC4xLAogICJmaWxsUnVsZSI6ICJldmVub2RkIiwKICAibGluZUNhcCI6ICJyb3VuZCIsCiAgImxpbmVKb2luIjogInJvdW5kIiwKICAib3BhY2l0eSI6IDEuMCwKICAicmFkaXVzIjogNSwKICAic3Ryb2tlIjogdHJ1ZSwKICAid2VpZ2h0IjogMwp9CiAgICAgICAgICAgICAgICApLmFkZFRvKGZlYXR1cmVfZ3JvdXBfYzhmYjAxYzljZjQ5NGY4Mjg0NzQ2OTZhMDU1ZDM2ODkpOwogICAgICAgICAgICAKICAgIAogICAgICAgICAgICB2YXIgY2lyY2xlX21hcmtlcl82NWY3NjYzZDU4MDk0NDA1ODhkY2U3MjlmYWQyNjdjNyA9IEwuY2lyY2xlTWFya2VyKAogICAgICAgICAgICAgICAgWzQwLjYyNjY1NjQ5MjMxNDk4LC03My45MjgwMDY0NDA0MDEwOF0sCiAgICAgICAgICAgICAgICB7CiAgImJ1YmJsaW5nTW91c2VFdmVudHMiOiB0cnVlLAogICJjb2xvciI6ICJibHVlIiwKICAiZGFzaEFycmF5IjogbnVsbCwKICAiZGFzaE9mZnNldCI6IG51bGwsCiAgImZpbGwiOiB0cnVlLAogICJmaWxsQ29sb3IiOiAieWVsbG93IiwKICAiZmlsbE9wYWNpdHkiOiAwLjEsCiAgImZpbGxSdWxlIjogImV2ZW5vZGQiLAogICJsaW5lQ2FwIjogInJvdW5kIiwKICAibGluZUpvaW4iOiAicm91bmQiLAogICJvcGFjaXR5IjogMS4wLAogICJyYWRpdXMiOiA1LAogICJzdHJva2UiOiB0cnVlLAogICJ3ZWlnaHQiOiAzCn0KICAgICAgICAgICAgICAgICkuYWRkVG8oZmVhdHVyZV9ncm91cF9jOGZiMDFjOWNmNDk0ZjgyODQ3NDY5NmEwNTVkMzY4OSk7CiAgICAgICAgICAgIAogICAgCiAgICAgICAgICAgIHZhciBjaXJjbGVfbWFya2VyXzZkMWM2NGZmMGZhYTRkYTBhMmU0YWNlZGI1N2EzYzIxID0gTC5jaXJjbGVNYXJrZXIoCiAgICAgICAgICAgICAgICBbNDAuNjI2NjU2NDkyMzE0OTgsLTczLjkyODAwNjQ0MDQwMTA4XSwKICAgICAgICAgICAgICAgIHsKICAiYnViYmxpbmdNb3VzZUV2ZW50cyI6IHRydWUsCiAgImNvbG9yIjogImJsdWUiLAogICJkYXNoQXJyYXkiOiBudWxsLAogICJkYXNoT2Zmc2V0IjogbnVsbCwKICAiZmlsbCI6IHRydWUsCiAgImZpbGxDb2xvciI6ICJ5ZWxsb3ciLAogICJmaWxsT3BhY2l0eSI6IDAuMSwKICAiZmlsbFJ1bGUiOiAiZXZlbm9kZCIsCiAgImxpbmVDYXAiOiAicm91bmQiLAogICJsaW5lSm9pbiI6ICJyb3VuZCIsCiAgIm9wYWNpdHkiOiAxLjAsCiAgInJhZGl1cyI6IDUsCiAgInN0cm9rZSI6IHRydWUsCiAgIndlaWdodCI6IDMKfQogICAgICAgICAgICAgICAgKS5hZGRUbyhmZWF0dXJlX2dyb3VwX2M4ZmIwMWM5Y2Y0OTRmODI4NDc0Njk2YTA1NWQzNjg5KTsKICAgICAgICAgICAgCiAgICAKICAgICAgICAgICAgdmFyIGNpcmNsZV9tYXJrZXJfNGYwNjdmNGM0NTI2NGVkZjk4NTNmYWFlOTMyMWMyZDYgPSBMLmNpcmNsZU1hcmtlcigKICAgICAgICAgICAgICAgIFs0MC42MjY2NTY0OTIzMTQ5OCwtNzMuOTI4MDA2NDQwNDAxMDhdLAogICAgICAgICAgICAgICAgewogICJidWJibGluZ01vdXNlRXZlbnRzIjogdHJ1ZSwKICAiY29sb3IiOiAiYmx1ZSIsCiAgImRhc2hBcnJheSI6IG51bGwsCiAgImRhc2hPZmZzZXQiOiBudWxsLAogICJmaWxsIjogdHJ1ZSwKICAiZmlsbENvbG9yIjogInllbGxvdyIsCiAgImZpbGxPcGFjaXR5IjogMC4xLAogICJmaWxsUnVsZSI6ICJldmVub2RkIiwKICAibGluZUNhcCI6ICJyb3VuZCIsCiAgImxpbmVKb2luIjogInJvdW5kIiwKICAib3BhY2l0eSI6IDEuMCwKICAicmFkaXVzIjogNSwKICAic3Ryb2tlIjogdHJ1ZSwKICAid2VpZ2h0IjogMwp9CiAgICAgICAgICAgICAgICApLmFkZFRvKGZlYXR1cmVfZ3JvdXBfYzhmYjAxYzljZjQ5NGY4Mjg0NzQ2OTZhMDU1ZDM2ODkpOwogICAgICAgICAgICAKICAgIAogICAgICAgICAgICB2YXIgY2lyY2xlX21hcmtlcl9iM2QwNTQ3NWU5NDI0ZTYxOGI5MDViZDE2MjJkOTNjNSA9IEwuY2lyY2xlTWFya2VyKAogICAgICAgICAgICAgICAgWzQwLjYwMjE5MTIyMzY5NDA2NCwtNzMuOTk5MTQ5MzQyNDUyNjddLAogICAgICAgICAgICAgICAgewogICJidWJibGluZ01vdXNlRXZlbnRzIjogdHJ1ZSwKICAiY29sb3IiOiAiYmx1ZSIsCiAgImRhc2hBcnJheSI6IG51bGwsCiAgImRhc2hPZmZzZXQiOiBudWxsLAogICJmaWxsIjogdHJ1ZSwKICAiZmlsbENvbG9yIjogInllbGxvdyIsCiAgImZpbGxPcGFjaXR5IjogMC4xLAogICJmaWxsUnVsZSI6ICJldmVub2RkIiwKICAibGluZUNhcCI6ICJyb3VuZCIsCiAgImxpbmVKb2luIjogInJvdW5kIiwKICAib3BhY2l0eSI6IDEuMCwKICAicmFkaXVzIjogNSwKICAic3Ryb2tlIjogdHJ1ZSwKICAid2VpZ2h0IjogMwp9CiAgICAgICAgICAgICAgICApLmFkZFRvKGZlYXR1cmVfZ3JvdXBfYzhmYjAxYzljZjQ5NGY4Mjg0NzQ2OTZhMDU1ZDM2ODkpOwogICAgICAgICAgICAKICAgIAogICAgICAgICAgICB2YXIgY2lyY2xlX21hcmtlcl82NzczYTg0NjgzZGQ0ZGE2YTIxZTAzYmYxN2U0ODJlNyA9IEwuY2lyY2xlTWFya2VyKAogICAgICAgICAgICAgICAgWzQwLjY3ODk5NjUwMDAwMDAwNCwtNzMuODYzMDU3MV0sCiAgICAgICAgICAgICAgICB7CiAgImJ1YmJsaW5nTW91c2VFdmVudHMiOiB0cnVlLAogICJjb2xvciI6ICJibHVlIiwKICAiZGFzaEFycmF5IjogbnVsbCwKICAiZGFzaE9mZnNldCI6IG51bGwsCiAgImZpbGwiOiB0cnVlLAogICJmaWxsQ29sb3IiOiAieWVsbG93IiwKICAiZmlsbE9wYWNpdHkiOiAwLjEsCiAgImZpbGxSdWxlIjogImV2ZW5vZGQiLAogICJsaW5lQ2FwIjogInJvdW5kIiwKICAibGluZUpvaW4iOiAicm91bmQiLAogICJvcGFjaXR5IjogMS4wLAogICJyYWRpdXMiOiA1LAogICJzdHJva2UiOiB0cnVlLAogICJ3ZWlnaHQiOiAzCn0KICAgICAgICAgICAgICAgICkuYWRkVG8oZmVhdHVyZV9ncm91cF9jOGZiMDFjOWNmNDk0ZjgyODQ3NDY5NmEwNTVkMzY4OSk7CiAgICAgICAgICAgIAogICAgCiAgICAgICAgICAgIHZhciBjaXJjbGVfbWFya2VyXzljMGFkYjVlYjFhYzRhNmY5ZTcyYTBhMWJkOTBmYmY0ID0gTC5jaXJjbGVNYXJrZXIoCiAgICAgICAgICAgICAgICBbNDAuNjc4OTk2NTAwMDAwMDA0LC03My44NjMwNTcxXSwKICAgICAgICAgICAgICAgIHsKICAiYnViYmxpbmdNb3VzZUV2ZW50cyI6IHRydWUsCiAgImNvbG9yIjogImJsdWUiLAogICJkYXNoQXJyYXkiOiBudWxsLAogICJkYXNoT2Zmc2V0IjogbnVsbCwKICAiZmlsbCI6IHRydWUsCiAgImZpbGxDb2xvciI6ICJ5ZWxsb3ciLAogICJmaWxsT3BhY2l0eSI6IDAuMSwKICAiZmlsbFJ1bGUiOiAiZXZlbm9kZCIsCiAgImxpbmVDYXAiOiAicm91bmQiLAogICJsaW5lSm9pbiI6ICJyb3VuZCIsCiAgIm9wYWNpdHkiOiAxLjAsCiAgInJhZGl1cyI6IDUsCiAgInN0cm9rZSI6IHRydWUsCiAgIndlaWdodCI6IDMKfQogICAgICAgICAgICAgICAgKS5hZGRUbyhmZWF0dXJlX2dyb3VwX2M4ZmIwMWM5Y2Y0OTRmODI4NDc0Njk2YTA1NWQzNjg5KTsKICAgICAgICAgICAgCiAgICAKICAgICAgICAgICAgdmFyIGNpcmNsZV9tYXJrZXJfMTI1NDg5NDAzODlmNDg0Njg4ODdhMDFhNWFiZDA3MzQgPSBMLmNpcmNsZU1hcmtlcigKICAgICAgICAgICAgICAgIFs0MC42MjUyNDM3MDAwMDAwMDYsLTczLjk2MjAwMjVdLAogICAgICAgICAgICAgICAgewogICJidWJibGluZ01vdXNlRXZlbnRzIjogdHJ1ZSwKICAiY29sb3IiOiAiYmx1ZSIsCiAgImRhc2hBcnJheSI6IG51bGwsCiAgImRhc2hPZmZzZXQiOiBudWxsLAogICJmaWxsIjogdHJ1ZSwKICAiZmlsbENvbG9yIjogInllbGxvdyIsCiAgImZpbGxPcGFjaXR5IjogMC4xLAogICJmaWxsUnVsZSI6ICJldmVub2RkIiwKICAibGluZUNhcCI6ICJyb3VuZCIsCiAgImxpbmVKb2luIjogInJvdW5kIiwKICAib3BhY2l0eSI6IDEuMCwKICAicmFkaXVzIjogNSwKICAic3Ryb2tlIjogdHJ1ZSwKICAid2VpZ2h0IjogMwp9CiAgICAgICAgICAgICAgICApLmFkZFRvKGZlYXR1cmVfZ3JvdXBfYzhmYjAxYzljZjQ5NGY4Mjg0NzQ2OTZhMDU1ZDM2ODkpOwogICAgICAgICAgICAKICAgIAogICAgICAgICAgICB2YXIgY2lyY2xlX21hcmtlcl9hMjc0N2E4OWQ0ODU0M2ZlYmVkYTk5MWNhZTMwOWU0OCA9IEwuY2lyY2xlTWFya2VyKAogICAgICAgICAgICAgICAgWzQwLjYyMjU0NDI5OTk5OTk5NCwtNzMuOTE3MDA0N10sCiAgICAgICAgICAgICAgICB7CiAgImJ1YmJsaW5nTW91c2VFdmVudHMiOiB0cnVlLAogICJjb2xvciI6ICJibHVlIiwKICAiZGFzaEFycmF5IjogbnVsbCwKICAiZGFzaE9mZnNldCI6IG51bGwsCiAgImZpbGwiOiB0cnVlLAogICJmaWxsQ29sb3IiOiAieWVsbG93IiwKICAiZmlsbE9wYWNpdHkiOiAwLjEsCiAgImZpbGxSdWxlIjogImV2ZW5vZGQiLAogICJsaW5lQ2FwIjogInJvdW5kIiwKICAibGluZUpvaW4iOiAicm91bmQiLAogICJvcGFjaXR5IjogMS4wLAogICJyYWRpdXMiOiA1LAogICJzdHJva2UiOiB0cnVlLAogICJ3ZWlnaHQiOiAzCn0KICAgICAgICAgICAgICAgICkuYWRkVG8oZmVhdHVyZV9ncm91cF9jOGZiMDFjOWNmNDk0ZjgyODQ3NDY5NmEwNTVkMzY4OSk7CiAgICAgICAgICAgIAogICAgCiAgICAgICAgICAgIHZhciBjaXJjbGVfbWFya2VyXzVjYTg2ZDkyNThmNjRhMTZiMTU1NzU5NGZjNmE3NmFhID0gTC5jaXJjbGVNYXJrZXIoCiAgICAgICAgICAgICAgICBbNDAuNjIyNTQ0Mjk5OTk5OTk0LC03My45MTcwMDQ3XSwKICAgICAgICAgICAgICAgIHsKICAiYnViYmxpbmdNb3VzZUV2ZW50cyI6IHRydWUsCiAgImNvbG9yIjogImJsdWUiLAogICJkYXNoQXJyYXkiOiBudWxsLAogICJkYXNoT2Zmc2V0IjogbnVsbCwKICAiZmlsbCI6IHRydWUsCiAgImZpbGxDb2xvciI6ICJ5ZWxsb3ciLAogICJmaWxsT3BhY2l0eSI6IDAuMSwKICAiZmlsbFJ1bGUiOiAiZXZlbm9kZCIsCiAgImxpbmVDYXAiOiAicm91bmQiLAogICJsaW5lSm9pbiI6ICJyb3VuZCIsCiAgIm9wYWNpdHkiOiAxLjAsCiAgInJhZGl1cyI6IDUsCiAgInN0cm9rZSI6IHRydWUsCiAgIndlaWdodCI6IDMKfQogICAgICAgICAgICAgICAgKS5hZGRUbyhmZWF0dXJlX2dyb3VwX2M4ZmIwMWM5Y2Y0OTRmODI4NDc0Njk2YTA1NWQzNjg5KTsKICAgICAgICAgICAgCiAgICAKICAgICAgICAgICAgdmFyIGNpcmNsZV9tYXJrZXJfODdhMjJhYWFiODUzNGQxNzlmNGY3MzVhMGFlMTlmNjQgPSBMLmNpcmNsZU1hcmtlcigKICAgICAgICAgICAgICAgIFs0MC42MjI1NDQyOTk5OTk5OTQsLTczLjkxNzAwNDddLAogICAgICAgICAgICAgICAgewogICJidWJibGluZ01vdXNlRXZlbnRzIjogdHJ1ZSwKICAiY29sb3IiOiAiYmx1ZSIsCiAgImRhc2hBcnJheSI6IG51bGwsCiAgImRhc2hPZmZzZXQiOiBudWxsLAogICJmaWxsIjogdHJ1ZSwKICAiZmlsbENvbG9yIjogInllbGxvdyIsCiAgImZpbGxPcGFjaXR5IjogMC4xLAogICJmaWxsUnVsZSI6ICJldmVub2RkIiwKICAibGluZUNhcCI6ICJyb3VuZCIsCiAgImxpbmVKb2luIjogInJvdW5kIiwKICAib3BhY2l0eSI6IDEuMCwKICAicmFkaXVzIjogNSwKICAic3Ryb2tlIjogdHJ1ZSwKICAid2VpZ2h0IjogMwp9CiAgICAgICAgICAgICAgICApLmFkZFRvKGZlYXR1cmVfZ3JvdXBfYzhmYjAxYzljZjQ5NGY4Mjg0NzQ2OTZhMDU1ZDM2ODkpOwogICAgICAgICAgICAKICAgIAogICAgICAgICAgICB2YXIgY2lyY2xlX21hcmtlcl9mOWJhZmQ5YTQwZjg0OWY5YWFhYjFmY2NiMzgyZGIxZCA9IEwuY2lyY2xlTWFya2VyKAogICAgICAgICAgICAgICAgWzQwLjYwODk4OSwtNzMuOTY5MzIzXSwKICAgICAgICAgICAgICAgIHsKICAiYnViYmxpbmdNb3VzZUV2ZW50cyI6IHRydWUsCiAgImNvbG9yIjogImJsdWUiLAogICJkYXNoQXJyYXkiOiBudWxsLAogICJkYXNoT2Zmc2V0IjogbnVsbCwKICAiZmlsbCI6IHRydWUsCiAgImZpbGxDb2xvciI6ICJ5ZWxsb3ciLAogICJmaWxsT3BhY2l0eSI6IDAuMSwKICAiZmlsbFJ1bGUiOiAiZXZlbm9kZCIsCiAgImxpbmVDYXAiOiAicm91bmQiLAogICJsaW5lSm9pbiI6ICJyb3VuZCIsCiAgIm9wYWNpdHkiOiAxLjAsCiAgInJhZGl1cyI6IDUsCiAgInN0cm9rZSI6IHRydWUsCiAgIndlaWdodCI6IDMKfQogICAgICAgICAgICAgICAgKS5hZGRUbyhmZWF0dXJlX2dyb3VwX2M4ZmIwMWM5Y2Y0OTRmODI4NDc0Njk2YTA1NWQzNjg5KTsKICAgICAgICAgICAgCiAgICAKICAgICAgICAgICAgdmFyIGNpcmNsZV9tYXJrZXJfMDkxNTIxNjllNjdkNDg5NzhhNWQwYTM3YTc3YWJiODEgPSBMLmNpcmNsZU1hcmtlcigKICAgICAgICAgICAgICAgIFs0MC44Njc5ODY3NjEyOTk5MywtNzMuOTIwNzI3MDA4NDIxM10sCiAgICAgICAgICAgICAgICB7CiAgImJ1YmJsaW5nTW91c2VFdmVudHMiOiB0cnVlLAogICJjb2xvciI6ICJibHVlIiwKICAiZGFzaEFycmF5IjogbnVsbCwKICAiZGFzaE9mZnNldCI6IG51bGwsCiAgImZpbGwiOiB0cnVlLAogICJmaWxsQ29sb3IiOiAieWVsbG93IiwKICAiZmlsbE9wYWNpdHkiOiAwLjEsCiAgImZpbGxSdWxlIjogImV2ZW5vZGQiLAogICJsaW5lQ2FwIjogInJvdW5kIiwKICAibGluZUpvaW4iOiAicm91bmQiLAogICJvcGFjaXR5IjogMS4wLAogICJyYWRpdXMiOiA1LAogICJzdHJva2UiOiB0cnVlLAogICJ3ZWlnaHQiOiAzCn0KICAgICAgICAgICAgICAgICkuYWRkVG8oZmVhdHVyZV9ncm91cF9jOGZiMDFjOWNmNDk0ZjgyODQ3NDY5NmEwNTVkMzY4OSk7CiAgICAgICAgICAgIAogICAgCiAgICAgICAgICAgIHZhciBjaXJjbGVfbWFya2VyXzVhMWIxZGNkMjFkMzRmMTk5NjdjNTUyNjAyOTg4YjdiID0gTC5jaXJjbGVNYXJrZXIoCiAgICAgICAgICAgICAgICBbNDAuODY3OTg2NzYxMjk5OTMsLTczLjkyMDcyNzAwODQyMTNdLAogICAgICAgICAgICAgICAgewogICJidWJibGluZ01vdXNlRXZlbnRzIjogdHJ1ZSwKICAiY29sb3IiOiAiYmx1ZSIsCiAgImRhc2hBcnJheSI6IG51bGwsCiAgImRhc2hPZmZzZXQiOiBudWxsLAogICJmaWxsIjogdHJ1ZSwKICAiZmlsbENvbG9yIjogInllbGxvdyIsCiAgImZpbGxPcGFjaXR5IjogMC4xLAogICJmaWxsUnVsZSI6ICJldmVub2RkIiwKICAibGluZUNhcCI6ICJyb3VuZCIsCiAgImxpbmVKb2luIjogInJvdW5kIiwKICAib3BhY2l0eSI6IDEuMCwKICAicmFkaXVzIjogNSwKICAic3Ryb2tlIjogdHJ1ZSwKICAid2VpZ2h0IjogMwp9CiAgICAgICAgICAgICAgICApLmFkZFRvKGZlYXR1cmVfZ3JvdXBfYzhmYjAxYzljZjQ5NGY4Mjg0NzQ2OTZhMDU1ZDM2ODkpOwogICAgICAgICAgICAKICAgIAogICAgICAgICAgICB2YXIgY2lyY2xlX21hcmtlcl8xYThlYmNmOWNmZmY0MzViODQwZjRkYWU0ODVkYmE4YSA9IEwuY2lyY2xlTWFya2VyKAogICAgICAgICAgICAgICAgWzQwLjc5MTM1MzksLTczLjk0NDYxOTJdLAogICAgICAgICAgICAgICAgewogICJidWJibGluZ01vdXNlRXZlbnRzIjogdHJ1ZSwKICAiY29sb3IiOiAiYmx1ZSIsCiAgImRhc2hBcnJheSI6IG51bGwsCiAgImRhc2hPZmZzZXQiOiBudWxsLAogICJmaWxsIjogdHJ1ZSwKICAiZmlsbENvbG9yIjogInllbGxvdyIsCiAgImZpbGxPcGFjaXR5IjogMC4xLAogICJmaWxsUnVsZSI6ICJldmVub2RkIiwKICAibGluZUNhcCI6ICJyb3VuZCIsCiAgImxpbmVKb2luIjogInJvdW5kIiwKICAib3BhY2l0eSI6IDEuMCwKICAicmFkaXVzIjogNSwKICAic3Ryb2tlIjogdHJ1ZSwKICAid2VpZ2h0IjogMwp9CiAgICAgICAgICAgICAgICApLmFkZFRvKGZlYXR1cmVfZ3JvdXBfYzhmYjAxYzljZjQ5NGY4Mjg0NzQ2OTZhMDU1ZDM2ODkpOwogICAgICAgICAgICAKICAgIAogICAgICAgICAgICB2YXIgY2lyY2xlX21hcmtlcl9iOTk4MGYzYTQ0YjM0NmNkODViMzFmYTM5Njg4NDVkZCA9IEwuY2lyY2xlTWFya2VyKAogICAgICAgICAgICAgICAgWzQwLjczMzIyNjMzNzkxODYxLC03My45ODA2ODkwNDg3NjcwOV0sCiAgICAgICAgICAgICAgICB7CiAgImJ1YmJsaW5nTW91c2VFdmVudHMiOiB0cnVlLAogICJjb2xvciI6ICJibHVlIiwKICAiZGFzaEFycmF5IjogbnVsbCwKICAiZGFzaE9mZnNldCI6IG51bGwsCiAgImZpbGwiOiB0cnVlLAogICJmaWxsQ29sb3IiOiAieWVsbG93IiwKICAiZmlsbE9wYWNpdHkiOiAwLjEsCiAgImZpbGxSdWxlIjogImV2ZW5vZGQiLAogICJsaW5lQ2FwIjogInJvdW5kIiwKICAibGluZUpvaW4iOiAicm91bmQiLAogICJvcGFjaXR5IjogMS4wLAogICJyYWRpdXMiOiA1LAogICJzdHJva2UiOiB0cnVlLAogICJ3ZWlnaHQiOiAzCn0KICAgICAgICAgICAgICAgICkuYWRkVG8oZmVhdHVyZV9ncm91cF9jOGZiMDFjOWNmNDk0ZjgyODQ3NDY5NmEwNTVkMzY4OSk7CiAgICAgICAgICAgIAogICAgCiAgICAgICAgICAgIHZhciBjaXJjbGVfbWFya2VyX2UxYjU5M2ZkNjAyYTQ1MTk5NWM3NmMzYWM3ODFkMDk3ID0gTC5jaXJjbGVNYXJrZXIoCiAgICAgICAgICAgICAgICBbNDAuNzQ0NjgyMzI5MTIwNjg1LC03My45MDM3MDY5Njc4MzA2Nl0sCiAgICAgICAgICAgICAgICB7CiAgImJ1YmJsaW5nTW91c2VFdmVudHMiOiB0cnVlLAogICJjb2xvciI6ICJibHVlIiwKICAiZGFzaEFycmF5IjogbnVsbCwKICAiZGFzaE9mZnNldCI6IG51bGwsCiAgImZpbGwiOiB0cnVlLAogICJmaWxsQ29sb3IiOiAieWVsbG93IiwKICAiZmlsbE9wYWNpdHkiOiAwLjEsCiAgImZpbGxSdWxlIjogImV2ZW5vZGQiLAogICJsaW5lQ2FwIjogInJvdW5kIiwKICAibGluZUpvaW4iOiAicm91bmQiLAogICJvcGFjaXR5IjogMS4wLAogICJyYWRpdXMiOiA1LAogICJzdHJva2UiOiB0cnVlLAogICJ3ZWlnaHQiOiAzCn0KICAgICAgICAgICAgICAgICkuYWRkVG8oZmVhdHVyZV9ncm91cF9jOGZiMDFjOWNmNDk0ZjgyODQ3NDY5NmEwNTVkMzY4OSk7CiAgICAgICAgICAgIAogICAgCiAgICAgICAgICAgIHZhciBjaXJjbGVfbWFya2VyXzAyM2UzYWIwYmY0ZjRjYTY4MDEwNjM5ZDdjOTkzMTBjID0gTC5jaXJjbGVNYXJrZXIoCiAgICAgICAgICAgICAgICBbNDAuNzQ5OTI4NjAwMDAwMDA0LC03My44ODQyMTI4XSwKICAgICAgICAgICAgICAgIHsKICAiYnViYmxpbmdNb3VzZUV2ZW50cyI6IHRydWUsCiAgImNvbG9yIjogImJsdWUiLAogICJkYXNoQXJyYXkiOiBudWxsLAogICJkYXNoT2Zmc2V0IjogbnVsbCwKICAiZmlsbCI6IHRydWUsCiAgImZpbGxDb2xvciI6ICJ5ZWxsb3ciLAogICJmaWxsT3BhY2l0eSI6IDAuMSwKICAiZmlsbFJ1bGUiOiAiZXZlbm9kZCIsCiAgImxpbmVDYXAiOiAicm91bmQiLAogICJsaW5lSm9pbiI6ICJyb3VuZCIsCiAgIm9wYWNpdHkiOiAxLjAsCiAgInJhZGl1cyI6IDUsCiAgInN0cm9rZSI6IHRydWUsCiAgIndlaWdodCI6IDMKfQogICAgICAgICAgICAgICAgKS5hZGRUbyhmZWF0dXJlX2dyb3VwX2M4ZmIwMWM5Y2Y0OTRmODI4NDc0Njk2YTA1NWQzNjg5KTsKICAgICAgICAgICAgCiAgICAKICAgICAgICAgICAgdmFyIGNpcmNsZV9tYXJrZXJfZDI3ZTFkYjdkMmFhNDZlMWJjMjA1MDRhZDk3ODUyNjYgPSBMLmNpcmNsZU1hcmtlcigKICAgICAgICAgICAgICAgIFs0MC42NTYzNTE2LC03My44Mzk2MTU0MDAwMDAwMV0sCiAgICAgICAgICAgICAgICB7CiAgImJ1YmJsaW5nTW91c2VFdmVudHMiOiB0cnVlLAogICJjb2xvciI6ICJibHVlIiwKICAiZGFzaEFycmF5IjogbnVsbCwKICAiZGFzaE9mZnNldCI6IG51bGwsCiAgImZpbGwiOiB0cnVlLAogICJmaWxsQ29sb3IiOiAieWVsbG93IiwKICAiZmlsbE9wYWNpdHkiOiAwLjEsCiAgImZpbGxSdWxlIjogImV2ZW5vZGQiLAogICJsaW5lQ2FwIjogInJvdW5kIiwKICAibGluZUpvaW4iOiAicm91bmQiLAogICJvcGFjaXR5IjogMS4wLAogICJyYWRpdXMiOiA1LAogICJzdHJva2UiOiB0cnVlLAogICJ3ZWlnaHQiOiAzCn0KICAgICAgICAgICAgICAgICkuYWRkVG8oZmVhdHVyZV9ncm91cF9jOGZiMDFjOWNmNDk0ZjgyODQ3NDY5NmEwNTVkMzY4OSk7CiAgICAgICAgICAgIAogICAgCiAgICAgICAgICAgIHZhciBjaXJjbGVfbWFya2VyX2IwOTQyMDAzMmIzNTQzODFhMjdiMjE2ZjA0MGM5OWZlID0gTC5jaXJjbGVNYXJrZXIoCiAgICAgICAgICAgICAgICBbNDAuNjU2MzUxNiwtNzMuODM5NjE1NDAwMDAwMDFdLAogICAgICAgICAgICAgICAgewogICJidWJibGluZ01vdXNlRXZlbnRzIjogdHJ1ZSwKICAiY29sb3IiOiAiYmx1ZSIsCiAgImRhc2hBcnJheSI6IG51bGwsCiAgImRhc2hPZmZzZXQiOiBudWxsLAogICJmaWxsIjogdHJ1ZSwKICAiZmlsbENvbG9yIjogInllbGxvdyIsCiAgImZpbGxPcGFjaXR5IjogMC4xLAogICJmaWxsUnVsZSI6ICJldmVub2RkIiwKICAibGluZUNhcCI6ICJyb3VuZCIsCiAgImxpbmVKb2luIjogInJvdW5kIiwKICAib3BhY2l0eSI6IDEuMCwKICAicmFkaXVzIjogNSwKICAic3Ryb2tlIjogdHJ1ZSwKICAid2VpZ2h0IjogMwp9CiAgICAgICAgICAgICAgICApLmFkZFRvKGZlYXR1cmVfZ3JvdXBfYzhmYjAxYzljZjQ5NGY4Mjg0NzQ2OTZhMDU1ZDM2ODkpOwogICAgICAgICAgICAKICAgIAogICAgICAgICAgICB2YXIgY2lyY2xlX21hcmtlcl9iYjZkYjU0NGJiNjY0YzRhOTAwZGIzNmMzMmJlMzFlYSA9IEwuY2lyY2xlTWFya2VyKAogICAgICAgICAgICAgICAgWzQwLjY1NjM1MTYsLTczLjgzOTYxNTQwMDAwMDAxXSwKICAgICAgICAgICAgICAgIHsKICAiYnViYmxpbmdNb3VzZUV2ZW50cyI6IHRydWUsCiAgImNvbG9yIjogImJsdWUiLAogICJkYXNoQXJyYXkiOiBudWxsLAogICJkYXNoT2Zmc2V0IjogbnVsbCwKICAiZmlsbCI6IHRydWUsCiAgImZpbGxDb2xvciI6ICJ5ZWxsb3ciLAogICJmaWxsT3BhY2l0eSI6IDAuMSwKICAiZmlsbFJ1bGUiOiAiZXZlbm9kZCIsCiAgImxpbmVDYXAiOiAicm91bmQiLAogICJsaW5lSm9pbiI6ICJyb3VuZCIsCiAgIm9wYWNpdHkiOiAxLjAsCiAgInJhZGl1cyI6IDUsCiAgInN0cm9rZSI6IHRydWUsCiAgIndlaWdodCI6IDMKfQogICAgICAgICAgICAgICAgKS5hZGRUbyhmZWF0dXJlX2dyb3VwX2M4ZmIwMWM5Y2Y0OTRmODI4NDc0Njk2YTA1NWQzNjg5KTsKICAgICAgICAgICAgCiAgICAKICAgICAgICAgICAgdmFyIGNpcmNsZV9tYXJrZXJfOWQ1NDg1NWVjNjFmNDZkNmE4MmRkZDRjMjUyNjQ1NGMgPSBMLmNpcmNsZU1hcmtlcigKICAgICAgICAgICAgICAgIFs0MC43MjQwMDQxLC03My44NDc5MTA5XSwKICAgICAgICAgICAgICAgIHsKICAiYnViYmxpbmdNb3VzZUV2ZW50cyI6IHRydWUsCiAgImNvbG9yIjogImJsdWUiLAogICJkYXNoQXJyYXkiOiBudWxsLAogICJkYXNoT2Zmc2V0IjogbnVsbCwKICAiZmlsbCI6IHRydWUsCiAgImZpbGxDb2xvciI6ICJ5ZWxsb3ciLAogICJmaWxsT3BhY2l0eSI6IDAuMSwKICAiZmlsbFJ1bGUiOiAiZXZlbm9kZCIsCiAgImxpbmVDYXAiOiAicm91bmQiLAogICJsaW5lSm9pbiI6ICJyb3VuZCIsCiAgIm9wYWNpdHkiOiAxLjAsCiAgInJhZGl1cyI6IDUsCiAgInN0cm9rZSI6IHRydWUsCiAgIndlaWdodCI6IDMKfQogICAgICAgICAgICAgICAgKS5hZGRUbyhmZWF0dXJlX2dyb3VwX2M4ZmIwMWM5Y2Y0OTRmODI4NDc0Njk2YTA1NWQzNjg5KTsKICAgICAgICAgICAgCiAgICAKICAgICAgICAgICAgdmFyIGNpcmNsZV9tYXJrZXJfMmJkMzI4ZjU3MjM1NDhhOWFmYjJiZWM1NTFlZjUwODQgPSBMLmNpcmNsZU1hcmtlcigKICAgICAgICAgICAgICAgIFs0MC43MjcxNjEyMDA1MzI1NjQsLTczLjg5Mjc1MDE0NDAwNDgxXSwKICAgICAgICAgICAgICAgIHsKICAiYnViYmxpbmdNb3VzZUV2ZW50cyI6IHRydWUsCiAgImNvbG9yIjogImJsdWUiLAogICJkYXNoQXJyYXkiOiBudWxsLAogICJkYXNoT2Zmc2V0IjogbnVsbCwKICAiZmlsbCI6IHRydWUsCiAgImZpbGxDb2xvciI6ICJ5ZWxsb3ciLAogICJmaWxsT3BhY2l0eSI6IDAuMSwKICAiZmlsbFJ1bGUiOiAiZXZlbm9kZCIsCiAgImxpbmVDYXAiOiAicm91bmQiLAogICJsaW5lSm9pbiI6ICJyb3VuZCIsCiAgIm9wYWNpdHkiOiAxLjAsCiAgInJhZGl1cyI6IDUsCiAgInN0cm9rZSI6IHRydWUsCiAgIndlaWdodCI6IDMKfQogICAgICAgICAgICAgICAgKS5hZGRUbyhmZWF0dXJlX2dyb3VwX2M4ZmIwMWM5Y2Y0OTRmODI4NDc0Njk2YTA1NWQzNjg5KTsKICAgICAgICAgICAgCiAgICAKICAgICAgICAgICAgdmFyIGNpcmNsZV9tYXJrZXJfZTY1YTI4Y2QwYjA0NGFhYzkwNTFlZmY2NGQ2MjVmZDMgPSBMLmNpcmNsZU1hcmtlcigKICAgICAgICAgICAgICAgIFs0MC43MjcxNjEyMDA1MzI1NjQsLTczLjg5Mjc1MDE0NDAwNDgxXSwKICAgICAgICAgICAgICAgIHsKICAiYnViYmxpbmdNb3VzZUV2ZW50cyI6IHRydWUsCiAgImNvbG9yIjogImJsdWUiLAogICJkYXNoQXJyYXkiOiBudWxsLAogICJkYXNoT2Zmc2V0IjogbnVsbCwKICAiZmlsbCI6IHRydWUsCiAgImZpbGxDb2xvciI6ICJ5ZWxsb3ciLAogICJmaWxsT3BhY2l0eSI6IDAuMSwKICAiZmlsbFJ1bGUiOiAiZXZlbm9kZCIsCiAgImxpbmVDYXAiOiAicm91bmQiLAogICJsaW5lSm9pbiI6ICJyb3VuZCIsCiAgIm9wYWNpdHkiOiAxLjAsCiAgInJhZGl1cyI6IDUsCiAgInN0cm9rZSI6IHRydWUsCiAgIndlaWdodCI6IDMKfQogICAgICAgICAgICAgICAgKS5hZGRUbyhmZWF0dXJlX2dyb3VwX2M4ZmIwMWM5Y2Y0OTRmODI4NDc0Njk2YTA1NWQzNjg5KTsKICAgICAgICAgICAgCiAgICAKICAgICAgICAgICAgdmFyIGNpcmNsZV9tYXJrZXJfMDgyNWI0MDI4N2U1NDg1Njk1NWEyY2NlMjE5ZDMxZDIgPSBMLmNpcmNsZU1hcmtlcigKICAgICAgICAgICAgICAgIFs0MC42OTIyMzUyNTg3NzA5MSwtNzMuODU5NTEyMjA5ODkyMjZdLAogICAgICAgICAgICAgICAgewogICJidWJibGluZ01vdXNlRXZlbnRzIjogdHJ1ZSwKICAiY29sb3IiOiAiYmx1ZSIsCiAgImRhc2hBcnJheSI6IG51bGwsCiAgImRhc2hPZmZzZXQiOiBudWxsLAogICJmaWxsIjogdHJ1ZSwKICAiZmlsbENvbG9yIjogInllbGxvdyIsCiAgImZpbGxPcGFjaXR5IjogMC4xLAogICJmaWxsUnVsZSI6ICJldmVub2RkIiwKICAibGluZUNhcCI6ICJyb3VuZCIsCiAgImxpbmVKb2luIjogInJvdW5kIiwKICAib3BhY2l0eSI6IDEuMCwKICAicmFkaXVzIjogNSwKICAic3Ryb2tlIjogdHJ1ZSwKICAid2VpZ2h0IjogMwp9CiAgICAgICAgICAgICAgICApLmFkZFRvKGZlYXR1cmVfZ3JvdXBfYzhmYjAxYzljZjQ5NGY4Mjg0NzQ2OTZhMDU1ZDM2ODkpOwogICAgICAgICAgICAKICAgIAogICAgICAgICAgICB2YXIgY2lyY2xlX21hcmtlcl80NDFmYzI3MDc2ZTc0NTBkYjNkNGNhYWVhZDc0MDgxMyA9IEwuY2lyY2xlTWFya2VyKAogICAgICAgICAgICAgICAgWzQwLjY5MjIzNTI1ODc3MDkxLC03My44NTk1MTIyMDk4OTIyNl0sCiAgICAgICAgICAgICAgICB7CiAgImJ1YmJsaW5nTW91c2VFdmVudHMiOiB0cnVlLAogICJjb2xvciI6ICJibHVlIiwKICAiZGFzaEFycmF5IjogbnVsbCwKICAiZGFzaE9mZnNldCI6IG51bGwsCiAgImZpbGwiOiB0cnVlLAogICJmaWxsQ29sb3IiOiAieWVsbG93IiwKICAiZmlsbE9wYWNpdHkiOiAwLjEsCiAgImZpbGxSdWxlIjogImV2ZW5vZGQiLAogICJsaW5lQ2FwIjogInJvdW5kIiwKICAibGluZUpvaW4iOiAicm91bmQiLAogICJvcGFjaXR5IjogMS4wLAogICJyYWRpdXMiOiA1LAogICJzdHJva2UiOiB0cnVlLAogICJ3ZWlnaHQiOiAzCn0KICAgICAgICAgICAgICAgICkuYWRkVG8oZmVhdHVyZV9ncm91cF9jOGZiMDFjOWNmNDk0ZjgyODQ3NDY5NmEwNTVkMzY4OSk7CiAgICAgICAgICAgIAogICAgCiAgICAgICAgICAgIHZhciBjaXJjbGVfbWFya2VyXzM3YzViZDM3YTJhODRjODc5M2IyMmUzNDkwZjFjYTM3ID0gTC5jaXJjbGVNYXJrZXIoCiAgICAgICAgICAgICAgICBbNDAuNjkyMjM1MjU4NzcwOTEsLTczLjg1OTUxMjIwOTg5MjI2XSwKICAgICAgICAgICAgICAgIHsKICAiYnViYmxpbmdNb3VzZUV2ZW50cyI6IHRydWUsCiAgImNvbG9yIjogImJsdWUiLAogICJkYXNoQXJyYXkiOiBudWxsLAogICJkYXNoT2Zmc2V0IjogbnVsbCwKICAiZmlsbCI6IHRydWUsCiAgImZpbGxDb2xvciI6ICJ5ZWxsb3ciLAogICJmaWxsT3BhY2l0eSI6IDAuMSwKICAiZmlsbFJ1bGUiOiAiZXZlbm9kZCIsCiAgImxpbmVDYXAiOiAicm91bmQiLAogICJsaW5lSm9pbiI6ICJyb3VuZCIsCiAgIm9wYWNpdHkiOiAxLjAsCiAgInJhZGl1cyI6IDUsCiAgInN0cm9rZSI6IHRydWUsCiAgIndlaWdodCI6IDMKfQogICAgICAgICAgICAgICAgKS5hZGRUbyhmZWF0dXJlX2dyb3VwX2M4ZmIwMWM5Y2Y0OTRmODI4NDc0Njk2YTA1NWQzNjg5KTsKICAgICAgICAgICAgCiAgICAKICAgICAgICAgICAgdmFyIGNpcmNsZV9tYXJrZXJfYjJkODAyYzAwODA1NDkyZmEwMWNjZjY4ZWU3Y2IxNmQgPSBMLmNpcmNsZU1hcmtlcigKICAgICAgICAgICAgICAgIFs0MC43ODUzMTAxMDAwMDAwMDQsLTczLjg0NTY2MDNdLAogICAgICAgICAgICAgICAgewogICJidWJibGluZ01vdXNlRXZlbnRzIjogdHJ1ZSwKICAiY29sb3IiOiAiYmx1ZSIsCiAgImRhc2hBcnJheSI6IG51bGwsCiAgImRhc2hPZmZzZXQiOiBudWxsLAogICJmaWxsIjogdHJ1ZSwKICAiZmlsbENvbG9yIjogInllbGxvdyIsCiAgImZpbGxPcGFjaXR5IjogMC4xLAogICJmaWxsUnVsZSI6ICJldmVub2RkIiwKICAibGluZUNhcCI6ICJyb3VuZCIsCiAgImxpbmVKb2luIjogInJvdW5kIiwKICAib3BhY2l0eSI6IDEuMCwKICAicmFkaXVzIjogNSwKICAic3Ryb2tlIjogdHJ1ZSwKICAid2VpZ2h0IjogMwp9CiAgICAgICAgICAgICAgICApLmFkZFRvKGZlYXR1cmVfZ3JvdXBfYzhmYjAxYzljZjQ5NGY4Mjg0NzQ2OTZhMDU1ZDM2ODkpOwogICAgICAgICAgICAKICAgIAogICAgICAgICAgICB2YXIgY2lyY2xlX21hcmtlcl9jN2JlMDYzZjBiZTA0MmU1YmQ1YjUzMDdiZGY1Y2IyNCA9IEwuY2lyY2xlTWFya2VyKAogICAgICAgICAgICAgICAgWzQwLjc4NTMxMDEwMDAwMDAwNCwtNzMuODQ1NjYwM10sCiAgICAgICAgICAgICAgICB7CiAgImJ1YmJsaW5nTW91c2VFdmVudHMiOiB0cnVlLAogICJjb2xvciI6ICJibHVlIiwKICAiZGFzaEFycmF5IjogbnVsbCwKICAiZGFzaE9mZnNldCI6IG51bGwsCiAgImZpbGwiOiB0cnVlLAogICJmaWxsQ29sb3IiOiAieWVsbG93IiwKICAiZmlsbE9wYWNpdHkiOiAwLjEsCiAgImZpbGxSdWxlIjogImV2ZW5vZGQiLAogICJsaW5lQ2FwIjogInJvdW5kIiwKICAibGluZUpvaW4iOiAicm91bmQiLAogICJvcGFjaXR5IjogMS4wLAogICJyYWRpdXMiOiA1LAogICJzdHJva2UiOiB0cnVlLAogICJ3ZWlnaHQiOiAzCn0KICAgICAgICAgICAgICAgICkuYWRkVG8oZmVhdHVyZV9ncm91cF9jOGZiMDFjOWNmNDk0ZjgyODQ3NDY5NmEwNTVkMzY4OSk7CiAgICAgICAgICAgIAogICAgCiAgICAgICAgICAgIHZhciBjaXJjbGVfbWFya2VyXzQzYmQxNjA0OTJjMDQ5MWJhYTkwZjg2MDY0MGU0MzA2ID0gTC5jaXJjbGVNYXJrZXIoCiAgICAgICAgICAgICAgICBbNDAuNzY0NzY2Mjk5OTk5OTksLTczLjc3MTkyMjVdLAogICAgICAgICAgICAgICAgewogICJidWJibGluZ01vdXNlRXZlbnRzIjogdHJ1ZSwKICAiY29sb3IiOiAiYmx1ZSIsCiAgImRhc2hBcnJheSI6IG51bGwsCiAgImRhc2hPZmZzZXQiOiBudWxsLAogICJmaWxsIjogdHJ1ZSwKICAiZmlsbENvbG9yIjogInllbGxvdyIsCiAgImZpbGxPcGFjaXR5IjogMC4xLAogICJmaWxsUnVsZSI6ICJldmVub2RkIiwKICAibGluZUNhcCI6ICJyb3VuZCIsCiAgImxpbmVKb2luIjogInJvdW5kIiwKICAib3BhY2l0eSI6IDEuMCwKICAicmFkaXVzIjogNSwKICAic3Ryb2tlIjogdHJ1ZSwKICAid2VpZ2h0IjogMwp9CiAgICAgICAgICAgICAgICApLmFkZFRvKGZlYXR1cmVfZ3JvdXBfYzhmYjAxYzljZjQ5NGY4Mjg0NzQ2OTZhMDU1ZDM2ODkpOwogICAgICAgICAgICAKICAgIAogICAgICAgICAgICB2YXIgY2lyY2xlX21hcmtlcl9kNzlmZGMwNDkzODg0NDBiODliZDU2Mzk4MzBkMTkyNCA9IEwuY2lyY2xlTWFya2VyKAogICAgICAgICAgICAgICAgWzQwLjc2Mzc2MjQyMzk3ODg5NiwtNzMuNzg3NDY2MTYwNDUxNV0sCiAgICAgICAgICAgICAgICB7CiAgImJ1YmJsaW5nTW91c2VFdmVudHMiOiB0cnVlLAogICJjb2xvciI6ICJibHVlIiwKICAiZGFzaEFycmF5IjogbnVsbCwKICAiZGFzaE9mZnNldCI6IG51bGwsCiAgImZpbGwiOiB0cnVlLAogICJmaWxsQ29sb3IiOiAieWVsbG93IiwKICAiZmlsbE9wYWNpdHkiOiAwLjEsCiAgImZpbGxSdWxlIjogImV2ZW5vZGQiLAogICJsaW5lQ2FwIjogInJvdW5kIiwKICAibGluZUpvaW4iOiAicm91bmQiLAogICJvcGFjaXR5IjogMS4wLAogICJyYWRpdXMiOiA1LAogICJzdHJva2UiOiB0cnVlLAogICJ3ZWlnaHQiOiAzCn0KICAgICAgICAgICAgICAgICkuYWRkVG8oZmVhdHVyZV9ncm91cF9jOGZiMDFjOWNmNDk0ZjgyODQ3NDY5NmEwNTVkMzY4OSk7CiAgICAgICAgICAgIAogICAgCiAgICAgICAgICAgIHZhciBjaXJjbGVfbWFya2VyXzdkMGJhZjNhZjI4NTRmODQ5OTNhOWYyNGI0NDFjNzczID0gTC5jaXJjbGVNYXJrZXIoCiAgICAgICAgICAgICAgICBbNDAuNzYzNzYyNDIzOTc4ODk2LC03My43ODc0NjYxNjA0NTE1XSwKICAgICAgICAgICAgICAgIHsKICAiYnViYmxpbmdNb3VzZUV2ZW50cyI6IHRydWUsCiAgImNvbG9yIjogImJsdWUiLAogICJkYXNoQXJyYXkiOiBudWxsLAogICJkYXNoT2Zmc2V0IjogbnVsbCwKICAiZmlsbCI6IHRydWUsCiAgImZpbGxDb2xvciI6ICJ5ZWxsb3ciLAogICJmaWxsT3BhY2l0eSI6IDAuMSwKICAiZmlsbFJ1bGUiOiAiZXZlbm9kZCIsCiAgImxpbmVDYXAiOiAicm91bmQiLAogICJsaW5lSm9pbiI6ICJyb3VuZCIsCiAgIm9wYWNpdHkiOiAxLjAsCiAgInJhZGl1cyI6IDUsCiAgInN0cm9rZSI6IHRydWUsCiAgIndlaWdodCI6IDMKfQogICAgICAgICAgICAgICAgKS5hZGRUbyhmZWF0dXJlX2dyb3VwX2M4ZmIwMWM5Y2Y0OTRmODI4NDc0Njk2YTA1NWQzNjg5KTsKICAgICAgICAgICAgCiAgICAKICAgICAgICAgICAgdmFyIGNpcmNsZV9tYXJrZXJfYzhjZjYzOWRmYTcwNGEwNDg3MWFiZWY5OGIwZjg0ZTcgPSBMLmNpcmNsZU1hcmtlcigKICAgICAgICAgICAgICAgIFs0MC43NzAyMTE2NDA1Nzg4MiwtNzMuNzM2NzcwOTE0MTY0NDhdLAogICAgICAgICAgICAgICAgewogICJidWJibGluZ01vdXNlRXZlbnRzIjogdHJ1ZSwKICAiY29sb3IiOiAiYmx1ZSIsCiAgImRhc2hBcnJheSI6IG51bGwsCiAgImRhc2hPZmZzZXQiOiBudWxsLAogICJmaWxsIjogdHJ1ZSwKICAiZmlsbENvbG9yIjogInllbGxvdyIsCiAgImZpbGxPcGFjaXR5IjogMC4xLAogICJmaWxsUnVsZSI6ICJldmVub2RkIiwKICAibGluZUNhcCI6ICJyb3VuZCIsCiAgImxpbmVKb2luIjogInJvdW5kIiwKICAib3BhY2l0eSI6IDEuMCwKICAicmFkaXVzIjogNSwKICAic3Ryb2tlIjogdHJ1ZSwKICAid2VpZ2h0IjogMwp9CiAgICAgICAgICAgICAgICApLmFkZFRvKGZlYXR1cmVfZ3JvdXBfYzhmYjAxYzljZjQ5NGY4Mjg0NzQ2OTZhMDU1ZDM2ODkpOwogICAgICAgICAgICAKICAgIAogICAgICAgICAgICB2YXIgY2lyY2xlX21hcmtlcl9kODc5NTA2NWYwOTY0OWViOWE3YThlZDRhNGQwN2Y2ZCA9IEwuY2lyY2xlTWFya2VyKAogICAgICAgICAgICAgICAgWzQwLjc3MDIxMTY0MDU3ODgyLC03My43MzY3NzA5MTQxNjQ0OF0sCiAgICAgICAgICAgICAgICB7CiAgImJ1YmJsaW5nTW91c2VFdmVudHMiOiB0cnVlLAogICJjb2xvciI6ICJibHVlIiwKICAiZGFzaEFycmF5IjogbnVsbCwKICAiZGFzaE9mZnNldCI6IG51bGwsCiAgImZpbGwiOiB0cnVlLAogICJmaWxsQ29sb3IiOiAieWVsbG93IiwKICAiZmlsbE9wYWNpdHkiOiAwLjEsCiAgImZpbGxSdWxlIjogImV2ZW5vZGQiLAogICJsaW5lQ2FwIjogInJvdW5kIiwKICAibGluZUpvaW4iOiAicm91bmQiLAogICJvcGFjaXR5IjogMS4wLAogICJyYWRpdXMiOiA1LAogICJzdHJva2UiOiB0cnVlLAogICJ3ZWlnaHQiOiAzCn0KICAgICAgICAgICAgICAgICkuYWRkVG8oZmVhdHVyZV9ncm91cF9jOGZiMDFjOWNmNDk0ZjgyODQ3NDY5NmEwNTVkMzY4OSk7CiAgICAgICAgICAgIAogICAgCiAgICAgICAgICAgIHZhciBjaXJjbGVfbWFya2VyX2I1MzFhZmUxM2JmZTQxYTlhZDgyOWJjNmU5ZmI0YzVkID0gTC5jaXJjbGVNYXJrZXIoCiAgICAgICAgICAgICAgICBbNDAuNzQ2MjMxNywtNzMuNzE0MjE3OF0sCiAgICAgICAgICAgICAgICB7CiAgImJ1YmJsaW5nTW91c2VFdmVudHMiOiB0cnVlLAogICJjb2xvciI6ICJibHVlIiwKICAiZGFzaEFycmF5IjogbnVsbCwKICAiZGFzaE9mZnNldCI6IG51bGwsCiAgImZpbGwiOiB0cnVlLAogICJmaWxsQ29sb3IiOiAieWVsbG93IiwKICAiZmlsbE9wYWNpdHkiOiAwLjEsCiAgImZpbGxSdWxlIjogImV2ZW5vZGQiLAogICJsaW5lQ2FwIjogInJvdW5kIiwKICAibGluZUpvaW4iOiAicm91bmQiLAogICJvcGFjaXR5IjogMS4wLAogICJyYWRpdXMiOiA1LAogICJzdHJva2UiOiB0cnVlLAogICJ3ZWlnaHQiOiAzCn0KICAgICAgICAgICAgICAgICkuYWRkVG8oZmVhdHVyZV9ncm91cF9jOGZiMDFjOWNmNDk0ZjgyODQ3NDY5NmEwNTVkMzY4OSk7CiAgICAgICAgICAgIAogICAgCiAgICAgICAgICAgIHZhciBjaXJjbGVfbWFya2VyXzIwZDdkMmVlZWEyMzQ0Y2ZiNzllYmJkMzZmY2JkOGY2ID0gTC5jaXJjbGVNYXJrZXIoCiAgICAgICAgICAgICAgICBbNDAuNzMzNTIzOTk5OTk5OTk2LC03My43ODM4NzldLAogICAgICAgICAgICAgICAgewogICJidWJibGluZ01vdXNlRXZlbnRzIjogdHJ1ZSwKICAiY29sb3IiOiAiYmx1ZSIsCiAgImRhc2hBcnJheSI6IG51bGwsCiAgImRhc2hPZmZzZXQiOiBudWxsLAogICJmaWxsIjogdHJ1ZSwKICAiZmlsbENvbG9yIjogInllbGxvdyIsCiAgImZpbGxPcGFjaXR5IjogMC4xLAogICJmaWxsUnVsZSI6ICJldmVub2RkIiwKICAibGluZUNhcCI6ICJyb3VuZCIsCiAgImxpbmVKb2luIjogInJvdW5kIiwKICAib3BhY2l0eSI6IDEuMCwKICAicmFkaXVzIjogNSwKICAic3Ryb2tlIjogdHJ1ZSwKICAid2VpZ2h0IjogMwp9CiAgICAgICAgICAgICAgICApLmFkZFRvKGZlYXR1cmVfZ3JvdXBfYzhmYjAxYzljZjQ5NGY4Mjg0NzQ2OTZhMDU1ZDM2ODkpOwogICAgICAgICAgICAKICAgIAogICAgICAgICAgICB2YXIgY2lyY2xlX21hcmtlcl9jMTFiMDljYzJhMzA0ZThhODQ4ZWEyYzI4NDk4MzQ3NCA9IEwuY2lyY2xlTWFya2VyKAogICAgICAgICAgICAgICAgWzQwLjcwMzQ5NTE0MTg5MjUzLC03My43OTkxMzI0NzE4ODgyXSwKICAgICAgICAgICAgICAgIHsKICAiYnViYmxpbmdNb3VzZUV2ZW50cyI6IHRydWUsCiAgImNvbG9yIjogImJsdWUiLAogICJkYXNoQXJyYXkiOiBudWxsLAogICJkYXNoT2Zmc2V0IjogbnVsbCwKICAiZmlsbCI6IHRydWUsCiAgImZpbGxDb2xvciI6ICJ5ZWxsb3ciLAogICJmaWxsT3BhY2l0eSI6IDAuMSwKICAiZmlsbFJ1bGUiOiAiZXZlbm9kZCIsCiAgImxpbmVDYXAiOiAicm91bmQiLAogICJsaW5lSm9pbiI6ICJyb3VuZCIsCiAgIm9wYWNpdHkiOiAxLjAsCiAgInJhZGl1cyI6IDUsCiAgInN0cm9rZSI6IHRydWUsCiAgIndlaWdodCI6IDMKfQogICAgICAgICAgICAgICAgKS5hZGRUbyhmZWF0dXJlX2dyb3VwX2M4ZmIwMWM5Y2Y0OTRmODI4NDc0Njk2YTA1NWQzNjg5KTsKICAgICAgICAgICAgCiAgICAKICAgICAgICAgICAgdmFyIGNpcmNsZV9tYXJrZXJfODA3ZjljMDE5ZWFiNGQzNmJjM2RjNzE3MzkzNTZjNDkgPSBMLmNpcmNsZU1hcmtlcigKICAgICAgICAgICAgICAgIFs0MC43NDgzMjQ0LC03My43NTU5MDQzXSwKICAgICAgICAgICAgICAgIHsKICAiYnViYmxpbmdNb3VzZUV2ZW50cyI6IHRydWUsCiAgImNvbG9yIjogImJsdWUiLAogICJkYXNoQXJyYXkiOiBudWxsLAogICJkYXNoT2Zmc2V0IjogbnVsbCwKICAiZmlsbCI6IHRydWUsCiAgImZpbGxDb2xvciI6ICJ5ZWxsb3ciLAogICJmaWxsT3BhY2l0eSI6IDAuMSwKICAiZmlsbFJ1bGUiOiAiZXZlbm9kZCIsCiAgImxpbmVDYXAiOiAicm91bmQiLAogICJsaW5lSm9pbiI6ICJyb3VuZCIsCiAgIm9wYWNpdHkiOiAxLjAsCiAgInJhZGl1cyI6IDUsCiAgInN0cm9rZSI6IHRydWUsCiAgIndlaWdodCI6IDMKfQogICAgICAgICAgICAgICAgKS5hZGRUbyhmZWF0dXJlX2dyb3VwX2M4ZmIwMWM5Y2Y0OTRmODI4NDc0Njk2YTA1NWQzNjg5KTsKICAgICAgICAgICAgCiAgICAKICAgICAgICAgICAgdmFyIGNpcmNsZV9tYXJrZXJfZmQxZWQzYTQ3NTk2NDVkNTk3OGVmNTE4ZjYwOTEyZmIgPSBMLmNpcmNsZU1hcmtlcigKICAgICAgICAgICAgICAgIFs0MC42NzM1NTU0OTM5ODA1LC03My43NzA3MTk2Mjk4MTEzN10sCiAgICAgICAgICAgICAgICB7CiAgImJ1YmJsaW5nTW91c2VFdmVudHMiOiB0cnVlLAogICJjb2xvciI6ICJibHVlIiwKICAiZGFzaEFycmF5IjogbnVsbCwKICAiZGFzaE9mZnNldCI6IG51bGwsCiAgImZpbGwiOiB0cnVlLAogICJmaWxsQ29sb3IiOiAieWVsbG93IiwKICAiZmlsbE9wYWNpdHkiOiAwLjEsCiAgImZpbGxSdWxlIjogImV2ZW5vZGQiLAogICJsaW5lQ2FwIjogInJvdW5kIiwKICAibGluZUpvaW4iOiAicm91bmQiLAogICJvcGFjaXR5IjogMS4wLAogICJyYWRpdXMiOiA1LAogICJzdHJva2UiOiB0cnVlLAogICJ3ZWlnaHQiOiAzCn0KICAgICAgICAgICAgICAgICkuYWRkVG8oZmVhdHVyZV9ncm91cF9jOGZiMDFjOWNmNDk0ZjgyODQ3NDY5NmEwNTVkMzY4OSk7CiAgICAgICAgICAgIAogICAgCiAgICAgICAgICAgIHZhciBjaXJjbGVfbWFya2VyXzIwMjE0OTdhMGFkYjRhYWVhZmFiZDc1MGYyMDZlYTIyID0gTC5jaXJjbGVNYXJrZXIoCiAgICAgICAgICAgICAgICBbNDAuNjczNTU1NDkzOTgwNSwtNzMuNzcwNzE5NjI5ODExMzddLAogICAgICAgICAgICAgICAgewogICJidWJibGluZ01vdXNlRXZlbnRzIjogdHJ1ZSwKICAiY29sb3IiOiAiYmx1ZSIsCiAgImRhc2hBcnJheSI6IG51bGwsCiAgImRhc2hPZmZzZXQiOiBudWxsLAogICJmaWxsIjogdHJ1ZSwKICAiZmlsbENvbG9yIjogInllbGxvdyIsCiAgImZpbGxPcGFjaXR5IjogMC4xLAogICJmaWxsUnVsZSI6ICJldmVub2RkIiwKICAibGluZUNhcCI6ICJyb3VuZCIsCiAgImxpbmVKb2luIjogInJvdW5kIiwKICAib3BhY2l0eSI6IDEuMCwKICAicmFkaXVzIjogNSwKICAic3Ryb2tlIjogdHJ1ZSwKICAid2VpZ2h0IjogMwp9CiAgICAgICAgICAgICAgICApLmFkZFRvKGZlYXR1cmVfZ3JvdXBfYzhmYjAxYzljZjQ5NGY4Mjg0NzQ2OTZhMDU1ZDM2ODkpOwogICAgICAgICAgICAKICAgIAogICAgICAgICAgICB2YXIgY2lyY2xlX21hcmtlcl9jZmQ2MTZiZmJhY2U0NmEyYWJjM2UyYzk2ZDE4YTZmNyA9IEwuY2lyY2xlTWFya2VyKAogICAgICAgICAgICAgICAgWzQwLjY3MzU1NTQ5Mzk4MDUsLTczLjc3MDcxOTYyOTgxMTM3XSwKICAgICAgICAgICAgICAgIHsKICAiYnViYmxpbmdNb3VzZUV2ZW50cyI6IHRydWUsCiAgImNvbG9yIjogImJsdWUiLAogICJkYXNoQXJyYXkiOiBudWxsLAogICJkYXNoT2Zmc2V0IjogbnVsbCwKICAiZmlsbCI6IHRydWUsCiAgImZpbGxDb2xvciI6ICJ5ZWxsb3ciLAogICJmaWxsT3BhY2l0eSI6IDAuMSwKICAiZmlsbFJ1bGUiOiAiZXZlbm9kZCIsCiAgImxpbmVDYXAiOiAicm91bmQiLAogICJsaW5lSm9pbiI6ICJyb3VuZCIsCiAgIm9wYWNpdHkiOiAxLjAsCiAgInJhZGl1cyI6IDUsCiAgInN0cm9rZSI6IHRydWUsCiAgIndlaWdodCI6IDMKfQogICAgICAgICAgICAgICAgKS5hZGRUbyhmZWF0dXJlX2dyb3VwX2M4ZmIwMWM5Y2Y0OTRmODI4NDc0Njk2YTA1NWQzNjg5KTsKICAgICAgICAgICAgCiAgICAKICAgICAgICAgICAgdmFyIGNpcmNsZV9tYXJrZXJfNzNhOGYyMTFhZTZjNGYwZmE0ODUyODdiMDNhZjdhZDcgPSBMLmNpcmNsZU1hcmtlcigKICAgICAgICAgICAgICAgIFs0MC42NzM1NTU0OTM5ODA1LC03My43NzA3MTk2Mjk4MTEzN10sCiAgICAgICAgICAgICAgICB7CiAgImJ1YmJsaW5nTW91c2VFdmVudHMiOiB0cnVlLAogICJjb2xvciI6ICJibHVlIiwKICAiZGFzaEFycmF5IjogbnVsbCwKICAiZGFzaE9mZnNldCI6IG51bGwsCiAgImZpbGwiOiB0cnVlLAogICJmaWxsQ29sb3IiOiAieWVsbG93IiwKICAiZmlsbE9wYWNpdHkiOiAwLjEsCiAgImZpbGxSdWxlIjogImV2ZW5vZGQiLAogICJsaW5lQ2FwIjogInJvdW5kIiwKICAibGluZUpvaW4iOiAicm91bmQiLAogICJvcGFjaXR5IjogMS4wLAogICJyYWRpdXMiOiA1LAogICJzdHJva2UiOiB0cnVlLAogICJ3ZWlnaHQiOiAzCn0KICAgICAgICAgICAgICAgICkuYWRkVG8oZmVhdHVyZV9ncm91cF9jOGZiMDFjOWNmNDk0ZjgyODQ3NDY5NmEwNTVkMzY4OSk7CiAgICAgICAgICAgIAogICAgCiAgICAgICAgICAgIHZhciBjaXJjbGVfbWFya2VyXzQ1ZDM1OTE2YzMzMzRmYzg5M2QxNzQ0OGNmNWJkYmFmID0gTC5jaXJjbGVNYXJrZXIoCiAgICAgICAgICAgICAgICBbNDAuNjczNTU1NDkzOTgwNSwtNzMuNzcwNzE5NjI5ODExMzddLAogICAgICAgICAgICAgICAgewogICJidWJibGluZ01vdXNlRXZlbnRzIjogdHJ1ZSwKICAiY29sb3IiOiAiYmx1ZSIsCiAgImRhc2hBcnJheSI6IG51bGwsCiAgImRhc2hPZmZzZXQiOiBudWxsLAogICJmaWxsIjogdHJ1ZSwKICAiZmlsbENvbG9yIjogInllbGxvdyIsCiAgImZpbGxPcGFjaXR5IjogMC4xLAogICJmaWxsUnVsZSI6ICJldmVub2RkIiwKICAibGluZUNhcCI6ICJyb3VuZCIsCiAgImxpbmVKb2luIjogInJvdW5kIiwKICAib3BhY2l0eSI6IDEuMCwKICAicmFkaXVzIjogNSwKICAic3Ryb2tlIjogdHJ1ZSwKICAid2VpZ2h0IjogMwp9CiAgICAgICAgICAgICAgICApLmFkZFRvKGZlYXR1cmVfZ3JvdXBfYzhmYjAxYzljZjQ5NGY4Mjg0NzQ2OTZhMDU1ZDM2ODkpOwogICAgICAgICAgICAKICAgIAogICAgICAgICAgICB2YXIgY2lyY2xlX21hcmtlcl9kYWJmYzEzOWQ2YjI0MzYwYjg5YmUwZThlMWIzM2NhMCA9IEwuY2lyY2xlTWFya2VyKAogICAgICAgICAgICAgICAgWzQwLjY5NDI4OTAwMDAwMDAwNSwtNzMuNzM4MjY1XSwKICAgICAgICAgICAgICAgIHsKICAiYnViYmxpbmdNb3VzZUV2ZW50cyI6IHRydWUsCiAgImNvbG9yIjogImJsdWUiLAogICJkYXNoQXJyYXkiOiBudWxsLAogICJkYXNoT2Zmc2V0IjogbnVsbCwKICAiZmlsbCI6IHRydWUsCiAgImZpbGxDb2xvciI6ICJ5ZWxsb3ciLAogICJmaWxsT3BhY2l0eSI6IDAuMSwKICAiZmlsbFJ1bGUiOiAiZXZlbm9kZCIsCiAgImxpbmVDYXAiOiAicm91bmQiLAogICJsaW5lSm9pbiI6ICJyb3VuZCIsCiAgIm9wYWNpdHkiOiAxLjAsCiAgInJhZGl1cyI6IDUsCiAgInN0cm9rZSI6IHRydWUsCiAgIndlaWdodCI6IDMKfQogICAgICAgICAgICAgICAgKS5hZGRUbyhmZWF0dXJlX2dyb3VwX2M4ZmIwMWM5Y2Y0OTRmODI4NDc0Njk2YTA1NWQzNjg5KTsKICAgICAgICAgICAgCiAgICAKICAgICAgICAgICAgdmFyIGNpcmNsZV9tYXJrZXJfZjM4NTRjYmQyMzczNDI0YmE5ZTg3YWI0ZGY3NDI3ZjAgPSBMLmNpcmNsZU1hcmtlcigKICAgICAgICAgICAgICAgIFs0MC42OTQyODkwMDAwMDAwMDUsLTczLjczODI2NV0sCiAgICAgICAgICAgICAgICB7CiAgImJ1YmJsaW5nTW91c2VFdmVudHMiOiB0cnVlLAogICJjb2xvciI6ICJibHVlIiwKICAiZGFzaEFycmF5IjogbnVsbCwKICAiZGFzaE9mZnNldCI6IG51bGwsCiAgImZpbGwiOiB0cnVlLAogICJmaWxsQ29sb3IiOiAieWVsbG93IiwKICAiZmlsbE9wYWNpdHkiOiAwLjEsCiAgImZpbGxSdWxlIjogImV2ZW5vZGQiLAogICJsaW5lQ2FwIjogInJvdW5kIiwKICAibGluZUpvaW4iOiAicm91bmQiLAogICJvcGFjaXR5IjogMS4wLAogICJyYWRpdXMiOiA1LAogICJzdHJva2UiOiB0cnVlLAogICJ3ZWlnaHQiOiAzCn0KICAgICAgICAgICAgICAgICkuYWRkVG8oZmVhdHVyZV9ncm91cF9jOGZiMDFjOWNmNDk0ZjgyODQ3NDY5NmEwNTVkMzY4OSk7CiAgICAgICAgICAgIAogICAgCiAgICAgICAgICAgIHZhciBjaXJjbGVfbWFya2VyXzdhOGRjNjBhZDY3MDRjZTE5NWViOTgyMzVlZWNmMzJkID0gTC5jaXJjbGVNYXJrZXIoCiAgICAgICAgICAgICAgICBbNDAuNjk0Mjg5MDAwMDAwMDA1LC03My43MzgyNjVdLAogICAgICAgICAgICAgICAgewogICJidWJibGluZ01vdXNlRXZlbnRzIjogdHJ1ZSwKICAiY29sb3IiOiAiYmx1ZSIsCiAgImRhc2hBcnJheSI6IG51bGwsCiAgImRhc2hPZmZzZXQiOiBudWxsLAogICJmaWxsIjogdHJ1ZSwKICAiZmlsbENvbG9yIjogInllbGxvdyIsCiAgImZpbGxPcGFjaXR5IjogMC4xLAogICJmaWxsUnVsZSI6ICJldmVub2RkIiwKICAibGluZUNhcCI6ICJyb3VuZCIsCiAgImxpbmVKb2luIjogInJvdW5kIiwKICAib3BhY2l0eSI6IDEuMCwKICAicmFkaXVzIjogNSwKICAic3Ryb2tlIjogdHJ1ZSwKICAid2VpZ2h0IjogMwp9CiAgICAgICAgICAgICAgICApLmFkZFRvKGZlYXR1cmVfZ3JvdXBfYzhmYjAxYzljZjQ5NGY4Mjg0NzQ2OTZhMDU1ZDM2ODkpOwogICAgICAgICAgICAKICAgIAogICAgICAgICAgICB2YXIgY2lyY2xlX21hcmtlcl85ODAzNDE1YzA5Y2I0ZTgwODZlYjQ1YzZlNDQwMmQzNiA9IEwuY2lyY2xlTWFya2VyKAogICAgICAgICAgICAgICAgWzQwLjY5NDI4OTAwMDAwMDAwNSwtNzMuNzM4MjY1XSwKICAgICAgICAgICAgICAgIHsKICAiYnViYmxpbmdNb3VzZUV2ZW50cyI6IHRydWUsCiAgImNvbG9yIjogImJsdWUiLAogICJkYXNoQXJyYXkiOiBudWxsLAogICJkYXNoT2Zmc2V0IjogbnVsbCwKICAiZmlsbCI6IHRydWUsCiAgImZpbGxDb2xvciI6ICJ5ZWxsb3ciLAogICJmaWxsT3BhY2l0eSI6IDAuMSwKICAiZmlsbFJ1bGUiOiAiZXZlbm9kZCIsCiAgImxpbmVDYXAiOiAicm91bmQiLAogICJsaW5lSm9pbiI6ICJyb3VuZCIsCiAgIm9wYWNpdHkiOiAxLjAsCiAgInJhZGl1cyI6IDUsCiAgInN0cm9rZSI6IHRydWUsCiAgIndlaWdodCI6IDMKfQogICAgICAgICAgICAgICAgKS5hZGRUbyhmZWF0dXJlX2dyb3VwX2M4ZmIwMWM5Y2Y0OTRmODI4NDc0Njk2YTA1NWQzNjg5KTsKICAgICAgICAgICAgCiAgICAKICAgICAgICAgICAgdmFyIGNpcmNsZV9tYXJrZXJfNDFhNDUwYzdjOTgxNDI4YmJkYjA3YTc0YjdmYTEyMGIgPSBMLmNpcmNsZU1hcmtlcigKICAgICAgICAgICAgICAgIFs0MC42OTQyODkwMDAwMDAwMDUsLTczLjczODI2NV0sCiAgICAgICAgICAgICAgICB7CiAgImJ1YmJsaW5nTW91c2VFdmVudHMiOiB0cnVlLAogICJjb2xvciI6ICJibHVlIiwKICAiZGFzaEFycmF5IjogbnVsbCwKICAiZGFzaE9mZnNldCI6IG51bGwsCiAgImZpbGwiOiB0cnVlLAogICJmaWxsQ29sb3IiOiAieWVsbG93IiwKICAiZmlsbE9wYWNpdHkiOiAwLjEsCiAgImZpbGxSdWxlIjogImV2ZW5vZGQiLAogICJsaW5lQ2FwIjogInJvdW5kIiwKICAibGluZUpvaW4iOiAicm91bmQiLAogICJvcGFjaXR5IjogMS4wLAogICJyYWRpdXMiOiA1LAogICJzdHJva2UiOiB0cnVlLAogICJ3ZWlnaHQiOiAzCn0KICAgICAgICAgICAgICAgICkuYWRkVG8oZmVhdHVyZV9ncm91cF9jOGZiMDFjOWNmNDk0ZjgyODQ3NDY5NmEwNTVkMzY4OSk7CiAgICAgICAgICAgIAogICAgCiAgICAgICAgICAgIHZhciBjaXJjbGVfbWFya2VyX2NiYWIxOTNhYWM4NjRiNWY4OTRmMWU5YmY4OWFjNDBkID0gTC5jaXJjbGVNYXJrZXIoCiAgICAgICAgICAgICAgICBbNDAuNjYwODUwNTk5OTk5OTk2LC03My43MzkyNDY4XSwKICAgICAgICAgICAgICAgIHsKICAiYnViYmxpbmdNb3VzZUV2ZW50cyI6IHRydWUsCiAgImNvbG9yIjogImJsdWUiLAogICJkYXNoQXJyYXkiOiBudWxsLAogICJkYXNoT2Zmc2V0IjogbnVsbCwKICAiZmlsbCI6IHRydWUsCiAgImZpbGxDb2xvciI6ICJ5ZWxsb3ciLAogICJmaWxsT3BhY2l0eSI6IDAuMSwKICAiZmlsbFJ1bGUiOiAiZXZlbm9kZCIsCiAgImxpbmVDYXAiOiAicm91bmQiLAogICJsaW5lSm9pbiI6ICJyb3VuZCIsCiAgIm9wYWNpdHkiOiAxLjAsCiAgInJhZGl1cyI6IDUsCiAgInN0cm9rZSI6IHRydWUsCiAgIndlaWdodCI6IDMKfQogICAgICAgICAgICAgICAgKS5hZGRUbyhmZWF0dXJlX2dyb3VwX2M4ZmIwMWM5Y2Y0OTRmODI4NDc0Njk2YTA1NWQzNjg5KTsKICAgICAgICAgICAgCiAgICAKICAgICAgICAgICAgdmFyIGNpcmNsZV9tYXJrZXJfNDQzZDdjYTBkODM4NDdmN2E0MDMwMzc0M2I5YzljM2QgPSBMLmNpcmNsZU1hcmtlcigKICAgICAgICAgICAgICAgIFs0MC42NjA4NTA1OTk5OTk5OTYsLTczLjczOTI0NjhdLAogICAgICAgICAgICAgICAgewogICJidWJibGluZ01vdXNlRXZlbnRzIjogdHJ1ZSwKICAiY29sb3IiOiAiYmx1ZSIsCiAgImRhc2hBcnJheSI6IG51bGwsCiAgImRhc2hPZmZzZXQiOiBudWxsLAogICJmaWxsIjogdHJ1ZSwKICAiZmlsbENvbG9yIjogInllbGxvdyIsCiAgImZpbGxPcGFjaXR5IjogMC4xLAogICJmaWxsUnVsZSI6ICJldmVub2RkIiwKICAibGluZUNhcCI6ICJyb3VuZCIsCiAgImxpbmVKb2luIjogInJvdW5kIiwKICAib3BhY2l0eSI6IDEuMCwKICAicmFkaXVzIjogNSwKICAic3Ryb2tlIjogdHJ1ZSwKICAid2VpZ2h0IjogMwp9CiAgICAgICAgICAgICAgICApLmFkZFRvKGZlYXR1cmVfZ3JvdXBfYzhmYjAxYzljZjQ5NGY4Mjg0NzQ2OTZhMDU1ZDM2ODkpOwogICAgICAgICAgICAKICAgIAogICAgICAgICAgICB2YXIgY2lyY2xlX21hcmtlcl9kMTgyNGM3YTlhZTE0MWNiYjE4ZDZiOGUxZDAwMDEyOCA9IEwuY2lyY2xlTWFya2VyKAogICAgICAgICAgICAgICAgWzQwLjYwMjE5MjU3NDU2NjgyLC03My43NTE3Mjc3NDQwNDk2N10sCiAgICAgICAgICAgICAgICB7CiAgImJ1YmJsaW5nTW91c2VFdmVudHMiOiB0cnVlLAogICJjb2xvciI6ICJibHVlIiwKICAiZGFzaEFycmF5IjogbnVsbCwKICAiZGFzaE9mZnNldCI6IG51bGwsCiAgImZpbGwiOiB0cnVlLAogICJmaWxsQ29sb3IiOiAieWVsbG93IiwKICAiZmlsbE9wYWNpdHkiOiAwLjEsCiAgImZpbGxSdWxlIjogImV2ZW5vZGQiLAogICJsaW5lQ2FwIjogInJvdW5kIiwKICAibGluZUpvaW4iOiAicm91bmQiLAogICJvcGFjaXR5IjogMS4wLAogICJyYWRpdXMiOiA1LAogICJzdHJva2UiOiB0cnVlLAogICJ3ZWlnaHQiOiAzCn0KICAgICAgICAgICAgICAgICkuYWRkVG8oZmVhdHVyZV9ncm91cF9jOGZiMDFjOWNmNDk0ZjgyODQ3NDY5NmEwNTVkMzY4OSk7CiAgICAgICAgICAgIAogICAgCiAgICAgICAgICAgIHZhciBjaXJjbGVfbWFya2VyXzFjNTVjMTE2NDI1YzQ2NjFiMzMxOTkwM2MyYzc1NzEzID0gTC5jaXJjbGVNYXJrZXIoCiAgICAgICAgICAgICAgICBbNDAuNzc4OTg3LC03My43NzU5NjMyOTk5OTk5OV0sCiAgICAgICAgICAgICAgICB7CiAgImJ1YmJsaW5nTW91c2VFdmVudHMiOiB0cnVlLAogICJjb2xvciI6ICJibHVlIiwKICAiZGFzaEFycmF5IjogbnVsbCwKICAiZGFzaE9mZnNldCI6IG51bGwsCiAgImZpbGwiOiB0cnVlLAogICJmaWxsQ29sb3IiOiAieWVsbG93IiwKICAiZmlsbE9wYWNpdHkiOiAwLjEsCiAgImZpbGxSdWxlIjogImV2ZW5vZGQiLAogICJsaW5lQ2FwIjogInJvdW5kIiwKICAibGluZUpvaW4iOiAicm91bmQiLAogICJvcGFjaXR5IjogMS4wLAogICJyYWRpdXMiOiA1LAogICJzdHJva2UiOiB0cnVlLAogICJ3ZWlnaHQiOiAzCn0KICAgICAgICAgICAgICAgICkuYWRkVG8oZmVhdHVyZV9ncm91cF9jOGZiMDFjOWNmNDk0ZjgyODQ3NDY5NmEwNTVkMzY4OSk7CiAgICAgICAgICAgIAogICAgCiAgICAgICAgICAgIHZhciBjaXJjbGVfbWFya2VyXzc1YWRkZTUwZjkyYTQ0MmY4OGZiYTE0ZTVkZTEzNGFmID0gTC5jaXJjbGVNYXJrZXIoCiAgICAgICAgICAgICAgICBbNDAuNzc4OTg3LC03My43NzU5NjMyOTk5OTk5OV0sCiAgICAgICAgICAgICAgICB7CiAgImJ1YmJsaW5nTW91c2VFdmVudHMiOiB0cnVlLAogICJjb2xvciI6ICJibHVlIiwKICAiZGFzaEFycmF5IjogbnVsbCwKICAiZGFzaE9mZnNldCI6IG51bGwsCiAgImZpbGwiOiB0cnVlLAogICJmaWxsQ29sb3IiOiAieWVsbG93IiwKICAiZmlsbE9wYWNpdHkiOiAwLjEsCiAgImZpbGxSdWxlIjogImV2ZW5vZGQiLAogICJsaW5lQ2FwIjogInJvdW5kIiwKICAibGluZUpvaW4iOiAicm91bmQiLAogICJvcGFjaXR5IjogMS4wLAogICJyYWRpdXMiOiA1LAogICJzdHJva2UiOiB0cnVlLAogICJ3ZWlnaHQiOiAzCn0KICAgICAgICAgICAgICAgICkuYWRkVG8oZmVhdHVyZV9ncm91cF9jOGZiMDFjOWNmNDk0ZjgyODQ3NDY5NmEwNTVkMzY4OSk7CiAgICAgICAgICAgIAogICAgCiAgICAgICAgICAgIHZhciBjaXJjbGVfbWFya2VyX2ViYjQ1ZjE5N2MxZjRjMjQ5ODNhMjUzM2M2YWFhMzMxID0gTC5jaXJjbGVNYXJrZXIoCiAgICAgICAgICAgICAgICBbNDAuNzc4OTg3LC03My43NzU5NjMyOTk5OTk5OV0sCiAgICAgICAgICAgICAgICB7CiAgImJ1YmJsaW5nTW91c2VFdmVudHMiOiB0cnVlLAogICJjb2xvciI6ICJibHVlIiwKICAiZGFzaEFycmF5IjogbnVsbCwKICAiZGFzaE9mZnNldCI6IG51bGwsCiAgImZpbGwiOiB0cnVlLAogICJmaWxsQ29sb3IiOiAieWVsbG93IiwKICAiZmlsbE9wYWNpdHkiOiAwLjEsCiAgImZpbGxSdWxlIjogImV2ZW5vZGQiLAogICJsaW5lQ2FwIjogInJvdW5kIiwKICAibGluZUpvaW4iOiAicm91bmQiLAogICJvcGFjaXR5IjogMS4wLAogICJyYWRpdXMiOiA1LAogICJzdHJva2UiOiB0cnVlLAogICJ3ZWlnaHQiOiAzCn0KICAgICAgICAgICAgICAgICkuYWRkVG8oZmVhdHVyZV9ncm91cF9jOGZiMDFjOWNmNDk0ZjgyODQ3NDY5NmEwNTVkMzY4OSk7CiAgICAgICAgICAgIAogICAgCiAgICAgICAgICAgIHZhciBjaXJjbGVfbWFya2VyXzljMmJkYzgxMGM2YzRkMWU5MDZmYTc0YWYzNTYyZTczID0gTC5jaXJjbGVNYXJrZXIoCiAgICAgICAgICAgICAgICBbNDAuNzc4OTg3LC03My43NzU5NjMyOTk5OTk5OV0sCiAgICAgICAgICAgICAgICB7CiAgImJ1YmJsaW5nTW91c2VFdmVudHMiOiB0cnVlLAogICJjb2xvciI6ICJibHVlIiwKICAiZGFzaEFycmF5IjogbnVsbCwKICAiZGFzaE9mZnNldCI6IG51bGwsCiAgImZpbGwiOiB0cnVlLAogICJmaWxsQ29sb3IiOiAieWVsbG93IiwKICAiZmlsbE9wYWNpdHkiOiAwLjEsCiAgImZpbGxSdWxlIjogImV2ZW5vZGQiLAogICJsaW5lQ2FwIjogInJvdW5kIiwKICAibGluZUpvaW4iOiAicm91bmQiLAogICJvcGFjaXR5IjogMS4wLAogICJyYWRpdXMiOiA1LAogICJzdHJva2UiOiB0cnVlLAogICJ3ZWlnaHQiOiAzCn0KICAgICAgICAgICAgICAgICkuYWRkVG8oZmVhdHVyZV9ncm91cF9jOGZiMDFjOWNmNDk0ZjgyODQ3NDY5NmEwNTVkMzY4OSk7CiAgICAgICAgICAgIAogICAgCiAgICAgICAgICAgIHZhciBjaXJjbGVfbWFya2VyX2EzODhkOTg2NDhiNTRlNDI5Yjk5ZGUzODY1MTY5ZGZjID0gTC5jaXJjbGVNYXJrZXIoCiAgICAgICAgICAgICAgICBbNDAuNTc4MjgyLC03My44NDkwMDQwMDAwMDAwMV0sCiAgICAgICAgICAgICAgICB7CiAgImJ1YmJsaW5nTW91c2VFdmVudHMiOiB0cnVlLAogICJjb2xvciI6ICJibHVlIiwKICAiZGFzaEFycmF5IjogbnVsbCwKICAiZGFzaE9mZnNldCI6IG51bGwsCiAgImZpbGwiOiB0cnVlLAogICJmaWxsQ29sb3IiOiAieWVsbG93IiwKICAiZmlsbE9wYWNpdHkiOiAwLjEsCiAgImZpbGxSdWxlIjogImV2ZW5vZGQiLAogICJsaW5lQ2FwIjogInJvdW5kIiwKICAibGluZUpvaW4iOiAicm91bmQiLAogICJvcGFjaXR5IjogMS4wLAogICJyYWRpdXMiOiA1LAogICJzdHJva2UiOiB0cnVlLAogICJ3ZWlnaHQiOiAzCn0KICAgICAgICAgICAgICAgICkuYWRkVG8oZmVhdHVyZV9ncm91cF9jOGZiMDFjOWNmNDk0ZjgyODQ3NDY5NmEwNTVkMzY4OSk7CiAgICAgICAgICAgIAogICAgCiAgICAgICAgICAgIHZhciBjaXJjbGVfbWFya2VyX2YxOTg4MDkyYjY4NzQ4ZDQ5YzBkMTIwNGU3OWMzY2Y5ID0gTC5jaXJjbGVNYXJrZXIoCiAgICAgICAgICAgICAgICBbNDAuNTc4MjgyLC03My44NDkwMDQwMDAwMDAwMV0sCiAgICAgICAgICAgICAgICB7CiAgImJ1YmJsaW5nTW91c2VFdmVudHMiOiB0cnVlLAogICJjb2xvciI6ICJibHVlIiwKICAiZGFzaEFycmF5IjogbnVsbCwKICAiZGFzaE9mZnNldCI6IG51bGwsCiAgImZpbGwiOiB0cnVlLAogICJmaWxsQ29sb3IiOiAieWVsbG93IiwKICAiZmlsbE9wYWNpdHkiOiAwLjEsCiAgImZpbGxSdWxlIjogImV2ZW5vZGQiLAogICJsaW5lQ2FwIjogInJvdW5kIiwKICAibGluZUpvaW4iOiAicm91bmQiLAogICJvcGFjaXR5IjogMS4wLAogICJyYWRpdXMiOiA1LAogICJzdHJva2UiOiB0cnVlLAogICJ3ZWlnaHQiOiAzCn0KICAgICAgICAgICAgICAgICkuYWRkVG8oZmVhdHVyZV9ncm91cF9jOGZiMDFjOWNmNDk0ZjgyODQ3NDY5NmEwNTVkMzY4OSk7CiAgICAgICAgICAgIAogICAgCiAgICAgICAgICAgIHZhciBjaXJjbGVfbWFya2VyX2M0OGQwMzhjYjc2MTQ1ZmNhNWVjNjJhM2ZmNGQ4ZmJlID0gTC5jaXJjbGVNYXJrZXIoCiAgICAgICAgICAgICAgICBbNDAuNTc4MjgyLC03My44NDkwMDQwMDAwMDAwMV0sCiAgICAgICAgICAgICAgICB7CiAgImJ1YmJsaW5nTW91c2VFdmVudHMiOiB0cnVlLAogICJjb2xvciI6ICJibHVlIiwKICAiZGFzaEFycmF5IjogbnVsbCwKICAiZGFzaE9mZnNldCI6IG51bGwsCiAgImZpbGwiOiB0cnVlLAogICJmaWxsQ29sb3IiOiAieWVsbG93IiwKICAiZmlsbE9wYWNpdHkiOiAwLjEsCiAgImZpbGxSdWxlIjogImV2ZW5vZGQiLAogICJsaW5lQ2FwIjogInJvdW5kIiwKICAibGluZUpvaW4iOiAicm91bmQiLAogICJvcGFjaXR5IjogMS4wLAogICJyYWRpdXMiOiA1LAogICJzdHJva2UiOiB0cnVlLAogICJ3ZWlnaHQiOiAzCn0KICAgICAgICAgICAgICAgICkuYWRkVG8oZmVhdHVyZV9ncm91cF9jOGZiMDFjOWNmNDk0ZjgyODQ3NDY5NmEwNTVkMzY4OSk7CiAgICAgICAgICAgIAogICAgCiAgICAgICAgICAgIHZhciBjaXJjbGVfbWFya2VyX2U0MmYxZGM1NDFiZDQ5ZGNiZjIyMTZhNGU3NTRhOTMwID0gTC5jaXJjbGVNYXJrZXIoCiAgICAgICAgICAgICAgICBbNDAuNTgyMjM2MjAwMDAwMDA0LC03My44Mzg1MTI1OTk5OTk5OV0sCiAgICAgICAgICAgICAgICB7CiAgImJ1YmJsaW5nTW91c2VFdmVudHMiOiB0cnVlLAogICJjb2xvciI6ICJibHVlIiwKICAiZGFzaEFycmF5IjogbnVsbCwKICAiZGFzaE9mZnNldCI6IG51bGwsCiAgImZpbGwiOiB0cnVlLAogICJmaWxsQ29sb3IiOiAieWVsbG93IiwKICAiZmlsbE9wYWNpdHkiOiAwLjEsCiAgImZpbGxSdWxlIjogImV2ZW5vZGQiLAogICJsaW5lQ2FwIjogInJvdW5kIiwKICAibGluZUpvaW4iOiAicm91bmQiLAogICJvcGFjaXR5IjogMS4wLAogICJyYWRpdXMiOiA1LAogICJzdHJva2UiOiB0cnVlLAogICJ3ZWlnaHQiOiAzCn0KICAgICAgICAgICAgICAgICkuYWRkVG8oZmVhdHVyZV9ncm91cF9jOGZiMDFjOWNmNDk0ZjgyODQ3NDY5NmEwNTVkMzY4OSk7CiAgICAgICAgICAgIAogICAgCiAgICAgICAgICAgIHZhciBjaXJjbGVfbWFya2VyX2RjMGU2Njk5ZGFhNDQ1YzJiZTFiOTA1M2EyMDFmODdmID0gTC5jaXJjbGVNYXJrZXIoCiAgICAgICAgICAgICAgICBbNDAuNTgyMjM2MjAwMDAwMDA0LC03My44Mzg1MTI1OTk5OTk5OV0sCiAgICAgICAgICAgICAgICB7CiAgImJ1YmJsaW5nTW91c2VFdmVudHMiOiB0cnVlLAogICJjb2xvciI6ICJibHVlIiwKICAiZGFzaEFycmF5IjogbnVsbCwKICAiZGFzaE9mZnNldCI6IG51bGwsCiAgImZpbGwiOiB0cnVlLAogICJmaWxsQ29sb3IiOiAieWVsbG93IiwKICAiZmlsbE9wYWNpdHkiOiAwLjEsCiAgImZpbGxSdWxlIjogImV2ZW5vZGQiLAogICJsaW5lQ2FwIjogInJvdW5kIiwKICAibGluZUpvaW4iOiAicm91bmQiLAogICJvcGFjaXR5IjogMS4wLAogICJyYWRpdXMiOiA1LAogICJzdHJva2UiOiB0cnVlLAogICJ3ZWlnaHQiOiAzCn0KICAgICAgICAgICAgICAgICkuYWRkVG8oZmVhdHVyZV9ncm91cF9jOGZiMDFjOWNmNDk0ZjgyODQ3NDY5NmEwNTVkMzY4OSk7CiAgICAgICAgICAgIAogICAgCiAgICAgICAgICAgIHZhciBjaXJjbGVfbWFya2VyX2MyYTM2MzIyZDk2OTRhMWZhZDk1MTQ4ODRmOWRhMTE3ID0gTC5jaXJjbGVNYXJrZXIoCiAgICAgICAgICAgICAgICBbNDAuNjQ0NzU3LC03NC4wNzQ0NTIwMDAwMDAwMV0sCiAgICAgICAgICAgICAgICB7CiAgImJ1YmJsaW5nTW91c2VFdmVudHMiOiB0cnVlLAogICJjb2xvciI6ICJibHVlIiwKICAiZGFzaEFycmF5IjogbnVsbCwKICAiZGFzaE9mZnNldCI6IG51bGwsCiAgImZpbGwiOiB0cnVlLAogICJmaWxsQ29sb3IiOiAieWVsbG93IiwKICAiZmlsbE9wYWNpdHkiOiAwLjEsCiAgImZpbGxSdWxlIjogImV2ZW5vZGQiLAogICJsaW5lQ2FwIjogInJvdW5kIiwKICAibGluZUpvaW4iOiAicm91bmQiLAogICJvcGFjaXR5IjogMS4wLAogICJyYWRpdXMiOiA1LAogICJzdHJva2UiOiB0cnVlLAogICJ3ZWlnaHQiOiAzCn0KICAgICAgICAgICAgICAgICkuYWRkVG8oZmVhdHVyZV9ncm91cF9jOGZiMDFjOWNmNDk0ZjgyODQ3NDY5NmEwNTVkMzY4OSk7CiAgICAgICAgICAgIAogICAgCiAgICAgICAgICAgIHZhciBjaXJjbGVfbWFya2VyXzgwYjUwZDRkZmU3ZTRjNzc5MmFiNDk3MjMyMGU4OTkwID0gTC5jaXJjbGVNYXJrZXIoCiAgICAgICAgICAgICAgICBbNDAuNjE1NTY5MjUyMjkyMjA0LC03NC4wNjY5ODk1NDY0ODY2NV0sCiAgICAgICAgICAgICAgICB7CiAgImJ1YmJsaW5nTW91c2VFdmVudHMiOiB0cnVlLAogICJjb2xvciI6ICJibHVlIiwKICAiZGFzaEFycmF5IjogbnVsbCwKICAiZGFzaE9mZnNldCI6IG51bGwsCiAgImZpbGwiOiB0cnVlLAogICJmaWxsQ29sb3IiOiAieWVsbG93IiwKICAiZmlsbE9wYWNpdHkiOiAwLjEsCiAgImZpbGxSdWxlIjogImV2ZW5vZGQiLAogICJsaW5lQ2FwIjogInJvdW5kIiwKICAibGluZUpvaW4iOiAicm91bmQiLAogICJvcGFjaXR5IjogMS4wLAogICJyYWRpdXMiOiA1LAogICJzdHJva2UiOiB0cnVlLAogICJ3ZWlnaHQiOiAzCn0KICAgICAgICAgICAgICAgICkuYWRkVG8oZmVhdHVyZV9ncm91cF9jOGZiMDFjOWNmNDk0ZjgyODQ3NDY5NmEwNTVkMzY4OSk7CiAgICAgICAgICAgIAogICAgCiAgICAgICAgICAgIHZhciBjaXJjbGVfbWFya2VyX2VlNDIwMDI3MmRjYTQ3Yzk5MWMxY2ZhNjFjNzkyNmNiID0gTC5jaXJjbGVNYXJrZXIoCiAgICAgICAgICAgICAgICBbNDAuNjE1NTY5MjUyMjkyMjA0LC03NC4wNjY5ODk1NDY0ODY2NV0sCiAgICAgICAgICAgICAgICB7CiAgImJ1YmJsaW5nTW91c2VFdmVudHMiOiB0cnVlLAogICJjb2xvciI6ICJibHVlIiwKICAiZGFzaEFycmF5IjogbnVsbCwKICAiZGFzaE9mZnNldCI6IG51bGwsCiAgImZpbGwiOiB0cnVlLAogICJmaWxsQ29sb3IiOiAieWVsbG93IiwKICAiZmlsbE9wYWNpdHkiOiAwLjEsCiAgImZpbGxSdWxlIjogImV2ZW5vZGQiLAogICJsaW5lQ2FwIjogInJvdW5kIiwKICAibGluZUpvaW4iOiAicm91bmQiLAogICJvcGFjaXR5IjogMS4wLAogICJyYWRpdXMiOiA1LAogICJzdHJva2UiOiB0cnVlLAogICJ3ZWlnaHQiOiAzCn0KICAgICAgICAgICAgICAgICkuYWRkVG8oZmVhdHVyZV9ncm91cF9jOGZiMDFjOWNmNDk0ZjgyODQ3NDY5NmEwNTVkMzY4OSk7CiAgICAgICAgICAgIAogICAgCiAgICAgICAgICAgIHZhciBjaXJjbGVfbWFya2VyXzdjOTk5YTA5Yzc3OTRhMTRhOTQ1YTJiN2I4YTk5OTY4ID0gTC5jaXJjbGVNYXJrZXIoCiAgICAgICAgICAgICAgICBbNDAuNjE1NTY5MjUyMjkyMjA0LC03NC4wNjY5ODk1NDY0ODY2NV0sCiAgICAgICAgICAgICAgICB7CiAgImJ1YmJsaW5nTW91c2VFdmVudHMiOiB0cnVlLAogICJjb2xvciI6ICJibHVlIiwKICAiZGFzaEFycmF5IjogbnVsbCwKICAiZGFzaE9mZnNldCI6IG51bGwsCiAgImZpbGwiOiB0cnVlLAogICJmaWxsQ29sb3IiOiAieWVsbG93IiwKICAiZmlsbE9wYWNpdHkiOiAwLjEsCiAgImZpbGxSdWxlIjogImV2ZW5vZGQiLAogICJsaW5lQ2FwIjogInJvdW5kIiwKICAibGluZUpvaW4iOiAicm91bmQiLAogICJvcGFjaXR5IjogMS4wLAogICJyYWRpdXMiOiA1LAogICJzdHJva2UiOiB0cnVlLAogICJ3ZWlnaHQiOiAzCn0KICAgICAgICAgICAgICAgICkuYWRkVG8oZmVhdHVyZV9ncm91cF9jOGZiMDFjOWNmNDk0ZjgyODQ3NDY5NmEwNTVkMzY4OSk7CiAgICAgICAgICAgIAogICAgCiAgICAgICAgICAgIHZhciBjaXJjbGVfbWFya2VyXzI4MTVkY2VlY2IyYzQxN2Q5ZDdlMDA1MjkwMzI4ZWQzID0gTC5jaXJjbGVNYXJrZXIoCiAgICAgICAgICAgICAgICBbNDAuNjE1NTY5MjUyMjkyMjA0LC03NC4wNjY5ODk1NDY0ODY2NV0sCiAgICAgICAgICAgICAgICB7CiAgImJ1YmJsaW5nTW91c2VFdmVudHMiOiB0cnVlLAogICJjb2xvciI6ICJibHVlIiwKICAiZGFzaEFycmF5IjogbnVsbCwKICAiZGFzaE9mZnNldCI6IG51bGwsCiAgImZpbGwiOiB0cnVlLAogICJmaWxsQ29sb3IiOiAieWVsbG93IiwKICAiZmlsbE9wYWNpdHkiOiAwLjEsCiAgImZpbGxSdWxlIjogImV2ZW5vZGQiLAogICJsaW5lQ2FwIjogInJvdW5kIiwKICAibGluZUpvaW4iOiAicm91bmQiLAogICJvcGFjaXR5IjogMS4wLAogICJyYWRpdXMiOiA1LAogICJzdHJva2UiOiB0cnVlLAogICJ3ZWlnaHQiOiAzCn0KICAgICAgICAgICAgICAgICkuYWRkVG8oZmVhdHVyZV9ncm91cF9jOGZiMDFjOWNmNDk0ZjgyODQ3NDY5NmEwNTVkMzY4OSk7CiAgICAgICAgICAgIAogICAgCiAgICAgICAgICAgIHZhciBjaXJjbGVfbWFya2VyXzk3NDg5Yzg2MGE5NjQ4MTQ5ZmY0NzRiNGE1NDVjYWM5ID0gTC5jaXJjbGVNYXJrZXIoCiAgICAgICAgICAgICAgICBbNDAuNTkxNTgxNTAwMDAwMDA0LC03NC4xNjM0MjMwOTk5OTk5OV0sCiAgICAgICAgICAgICAgICB7CiAgImJ1YmJsaW5nTW91c2VFdmVudHMiOiB0cnVlLAogICJjb2xvciI6ICJibHVlIiwKICAiZGFzaEFycmF5IjogbnVsbCwKICAiZGFzaE9mZnNldCI6IG51bGwsCiAgImZpbGwiOiB0cnVlLAogICJmaWxsQ29sb3IiOiAieWVsbG93IiwKICAiZmlsbE9wYWNpdHkiOiAwLjEsCiAgImZpbGxSdWxlIjogImV2ZW5vZGQiLAogICJsaW5lQ2FwIjogInJvdW5kIiwKICAibGluZUpvaW4iOiAicm91bmQiLAogICJvcGFjaXR5IjogMS4wLAogICJyYWRpdXMiOiA1LAogICJzdHJva2UiOiB0cnVlLAogICJ3ZWlnaHQiOiAzCn0KICAgICAgICAgICAgICAgICkuYWRkVG8oZmVhdHVyZV9ncm91cF9jOGZiMDFjOWNmNDk0ZjgyODQ3NDY5NmEwNTVkMzY4OSk7CiAgICAgICAgICAgIAogICAgCiAgICAgICAgICAgIHZhciBjaXJjbGVfbWFya2VyX2NkYzRmNWZlNGY3MDRlMGM5M2IyNDA5YTY0MWFmM2VhID0gTC5jaXJjbGVNYXJrZXIoCiAgICAgICAgICAgICAgICBbNDAuNTkxNTgxNTAwMDAwMDA0LC03NC4xNjM0MjMwOTk5OTk5OV0sCiAgICAgICAgICAgICAgICB7CiAgImJ1YmJsaW5nTW91c2VFdmVudHMiOiB0cnVlLAogICJjb2xvciI6ICJibHVlIiwKICAiZGFzaEFycmF5IjogbnVsbCwKICAiZGFzaE9mZnNldCI6IG51bGwsCiAgImZpbGwiOiB0cnVlLAogICJmaWxsQ29sb3IiOiAieWVsbG93IiwKICAiZmlsbE9wYWNpdHkiOiAwLjEsCiAgImZpbGxSdWxlIjogImV2ZW5vZGQiLAogICJsaW5lQ2FwIjogInJvdW5kIiwKICAibGluZUpvaW4iOiAicm91bmQiLAogICJvcGFjaXR5IjogMS4wLAogICJyYWRpdXMiOiA1LAogICJzdHJva2UiOiB0cnVlLAogICJ3ZWlnaHQiOiAzCn0KICAgICAgICAgICAgICAgICkuYWRkVG8oZmVhdHVyZV9ncm91cF9jOGZiMDFjOWNmNDk0ZjgyODQ3NDY5NmEwNTVkMzY4OSk7CiAgICAgICAgICAgIAogICAgCiAgICAgICAgICAgIHZhciBjaXJjbGVfbWFya2VyX2E2ZWVjMGNmYTc0YzRhOTc4NDg3MWIzNTE1ODI5Yzk5ID0gTC5jaXJjbGVNYXJrZXIoCiAgICAgICAgICAgICAgICBbNDAuNTkxNTgxNTAwMDAwMDA0LC03NC4xNjM0MjMwOTk5OTk5OV0sCiAgICAgICAgICAgICAgICB7CiAgImJ1YmJsaW5nTW91c2VFdmVudHMiOiB0cnVlLAogICJjb2xvciI6ICJibHVlIiwKICAiZGFzaEFycmF5IjogbnVsbCwKICAiZGFzaE9mZnNldCI6IG51bGwsCiAgImZpbGwiOiB0cnVlLAogICJmaWxsQ29sb3IiOiAieWVsbG93IiwKICAiZmlsbE9wYWNpdHkiOiAwLjEsCiAgImZpbGxSdWxlIjogImV2ZW5vZGQiLAogICJsaW5lQ2FwIjogInJvdW5kIiwKICAibGluZUpvaW4iOiAicm91bmQiLAogICJvcGFjaXR5IjogMS4wLAogICJyYWRpdXMiOiA1LAogICJzdHJva2UiOiB0cnVlLAogICJ3ZWlnaHQiOiAzCn0KICAgICAgICAgICAgICAgICkuYWRkVG8oZmVhdHVyZV9ncm91cF9jOGZiMDFjOWNmNDk0ZjgyODQ3NDY5NmEwNTVkMzY4OSk7CiAgICAgICAgICAgIAogICAgCiAgICAgICAgICAgIHZhciBjaXJjbGVfbWFya2VyXzkyMjlkMDBhNjJkNjQ0Njc5NWI5NGJhNTBkMzkzMGMwID0gTC5jaXJjbGVNYXJrZXIoCiAgICAgICAgICAgICAgICBbNDAuNTkxNTgxNTAwMDAwMDA0LC03NC4xNjM0MjMwOTk5OTk5OV0sCiAgICAgICAgICAgICAgICB7CiAgImJ1YmJsaW5nTW91c2VFdmVudHMiOiB0cnVlLAogICJjb2xvciI6ICJibHVlIiwKICAiZGFzaEFycmF5IjogbnVsbCwKICAiZGFzaE9mZnNldCI6IG51bGwsCiAgImZpbGwiOiB0cnVlLAogICJmaWxsQ29sb3IiOiAieWVsbG93IiwKICAiZmlsbE9wYWNpdHkiOiAwLjEsCiAgImZpbGxSdWxlIjogImV2ZW5vZGQiLAogICJsaW5lQ2FwIjogInJvdW5kIiwKICAibGluZUpvaW4iOiAicm91bmQiLAogICJvcGFjaXR5IjogMS4wLAogICJyYWRpdXMiOiA1LAogICJzdHJva2UiOiB0cnVlLAogICJ3ZWlnaHQiOiAzCn0KICAgICAgICAgICAgICAgICkuYWRkVG8oZmVhdHVyZV9ncm91cF9jOGZiMDFjOWNmNDk0ZjgyODQ3NDY5NmEwNTVkMzY4OSk7CiAgICAgICAgICAgIAogICAgCiAgICAgICAgICAgIHZhciBjaXJjbGVfbWFya2VyX2ViZmQ3NWE0MGI4NTRmZDU4OTQ0ZTNhNzAwZDI4N2MwID0gTC5jaXJjbGVNYXJrZXIoCiAgICAgICAgICAgICAgICBbNDAuNTkxNTgxNTAwMDAwMDA0LC03NC4xNjM0MjMwOTk5OTk5OV0sCiAgICAgICAgICAgICAgICB7CiAgImJ1YmJsaW5nTW91c2VFdmVudHMiOiB0cnVlLAogICJjb2xvciI6ICJibHVlIiwKICAiZGFzaEFycmF5IjogbnVsbCwKICAiZGFzaE9mZnNldCI6IG51bGwsCiAgImZpbGwiOiB0cnVlLAogICJmaWxsQ29sb3IiOiAieWVsbG93IiwKICAiZmlsbE9wYWNpdHkiOiAwLjEsCiAgImZpbGxSdWxlIjogImV2ZW5vZGQiLAogICJsaW5lQ2FwIjogInJvdW5kIiwKICAibGluZUpvaW4iOiAicm91bmQiLAogICJvcGFjaXR5IjogMS4wLAogICJyYWRpdXMiOiA1LAogICJzdHJva2UiOiB0cnVlLAogICJ3ZWlnaHQiOiAzCn0KICAgICAgICAgICAgICAgICkuYWRkVG8oZmVhdHVyZV9ncm91cF9jOGZiMDFjOWNmNDk0ZjgyODQ3NDY5NmEwNTVkMzY4OSk7CiAgICAgICAgICAgIAogICAgCiAgICAgICAgICAgIHZhciBjaXJjbGVfbWFya2VyXzg4MDAyOWJmZDBhYTQ2MDdhOGFmMjA4NTNlMWEzYTEyID0gTC5jaXJjbGVNYXJrZXIoCiAgICAgICAgICAgICAgICBbNDAuNTQ5NjQwMzA3MTM3NzgsLTc0LjE1MjE4MDIzNDkzOTE1XSwKICAgICAgICAgICAgICAgIHsKICAiYnViYmxpbmdNb3VzZUV2ZW50cyI6IHRydWUsCiAgImNvbG9yIjogImJsdWUiLAogICJkYXNoQXJyYXkiOiBudWxsLAogICJkYXNoT2Zmc2V0IjogbnVsbCwKICAiZmlsbCI6IHRydWUsCiAgImZpbGxDb2xvciI6ICJ5ZWxsb3ciLAogICJmaWxsT3BhY2l0eSI6IDAuMSwKICAiZmlsbFJ1bGUiOiAiZXZlbm9kZCIsCiAgImxpbmVDYXAiOiAicm91bmQiLAogICJsaW5lSm9pbiI6ICJyb3VuZCIsCiAgIm9wYWNpdHkiOiAxLjAsCiAgInJhZGl1cyI6IDUsCiAgInN0cm9rZSI6IHRydWUsCiAgIndlaWdodCI6IDMKfQogICAgICAgICAgICAgICAgKS5hZGRUbyhmZWF0dXJlX2dyb3VwX2M4ZmIwMWM5Y2Y0OTRmODI4NDc0Njk2YTA1NWQzNjg5KTsKICAgICAgICAgICAgCiAgICAKICAgICAgICAgICAgdmFyIGNpcmNsZV9tYXJrZXJfODU5ODExYTE1YjI4NGFkZjk2MjRiOWEwZTNmYTBkYjEgPSBMLmNpcmNsZU1hcmtlcigKICAgICAgICAgICAgICAgIFs0MC41NDk2NDAzMDcxMzc3OCwtNzQuMTUyMTgwMjM0OTM5MTVdLAogICAgICAgICAgICAgICAgewogICJidWJibGluZ01vdXNlRXZlbnRzIjogdHJ1ZSwKICAiY29sb3IiOiAiYmx1ZSIsCiAgImRhc2hBcnJheSI6IG51bGwsCiAgImRhc2hPZmZzZXQiOiBudWxsLAogICJmaWxsIjogdHJ1ZSwKICAiZmlsbENvbG9yIjogInllbGxvdyIsCiAgImZpbGxPcGFjaXR5IjogMC4xLAogICJmaWxsUnVsZSI6ICJldmVub2RkIiwKICAibGluZUNhcCI6ICJyb3VuZCIsCiAgImxpbmVKb2luIjogInJvdW5kIiwKICAib3BhY2l0eSI6IDEuMCwKICAicmFkaXVzIjogNSwKICAic3Ryb2tlIjogdHJ1ZSwKICAid2VpZ2h0IjogMwp9CiAgICAgICAgICAgICAgICApLmFkZFRvKGZlYXR1cmVfZ3JvdXBfYzhmYjAxYzljZjQ5NGY4Mjg0NzQ2OTZhMDU1ZDM2ODkpOwogICAgICAgICAgICAKICAgIAogICAgICAgICAgICB2YXIgY2lyY2xlX21hcmtlcl9mYzBkYTQzNDMyYzg0MWU3YThkNTkwOTg0MDdhODBlNiA9IEwuY2lyY2xlTWFya2VyKAogICAgICAgICAgICAgICAgWzQwLjU0NDYxOSwtNzQuMTYwNjI1XSwKICAgICAgICAgICAgICAgIHsKICAiYnViYmxpbmdNb3VzZUV2ZW50cyI6IHRydWUsCiAgImNvbG9yIjogImJsdWUiLAogICJkYXNoQXJyYXkiOiBudWxsLAogICJkYXNoT2Zmc2V0IjogbnVsbCwKICAiZmlsbCI6IHRydWUsCiAgImZpbGxDb2xvciI6ICJ5ZWxsb3ciLAogICJmaWxsT3BhY2l0eSI6IDAuMSwKICAiZmlsbFJ1bGUiOiAiZXZlbm9kZCIsCiAgImxpbmVDYXAiOiAicm91bmQiLAogICJsaW5lSm9pbiI6ICJyb3VuZCIsCiAgIm9wYWNpdHkiOiAxLjAsCiAgInJhZGl1cyI6IDUsCiAgInN0cm9rZSI6IHRydWUsCiAgIndlaWdodCI6IDMKfQogICAgICAgICAgICAgICAgKS5hZGRUbyhmZWF0dXJlX2dyb3VwX2M4ZmIwMWM5Y2Y0OTRmODI4NDc0Njk2YTA1NWQzNjg5KTsKICAgICAgICAgICAgCiAgICAKICAgICAgICAgICAgdmFyIGNpcmNsZV9tYXJrZXJfYzdlNWZhMDM3MTdmNDJlZTlmYzI2MzBkM2RlNmRmMTYgPSBMLmNpcmNsZU1hcmtlcigKICAgICAgICAgICAgICAgIFs0MC41NDI4MTE5OTI0MTMxNiwtNzQuMjA2MzA4NDI0NDcyODFdLAogICAgICAgICAgICAgICAgewogICJidWJibGluZ01vdXNlRXZlbnRzIjogdHJ1ZSwKICAiY29sb3IiOiAiYmx1ZSIsCiAgImRhc2hBcnJheSI6IG51bGwsCiAgImRhc2hPZmZzZXQiOiBudWxsLAogICJmaWxsIjogdHJ1ZSwKICAiZmlsbENvbG9yIjogInllbGxvdyIsCiAgImZpbGxPcGFjaXR5IjogMC4xLAogICJmaWxsUnVsZSI6ICJldmVub2RkIiwKICAibGluZUNhcCI6ICJyb3VuZCIsCiAgImxpbmVKb2luIjogInJvdW5kIiwKICAib3BhY2l0eSI6IDEuMCwKICAicmFkaXVzIjogNSwKICAic3Ryb2tlIjogdHJ1ZSwKICAid2VpZ2h0IjogMwp9CiAgICAgICAgICAgICAgICApLmFkZFRvKGZlYXR1cmVfZ3JvdXBfYzhmYjAxYzljZjQ5NGY4Mjg0NzQ2OTZhMDU1ZDM2ODkpOwogICAgICAgICAgICAKICAgIAogICAgICAgICAgICB2YXIgY2lyY2xlX21hcmtlcl9iZTUyMmY5NWQ5YmU0YzIxYjZhYmU4ZWQ4ODIwYjg4MyA9IEwuY2lyY2xlTWFya2VyKAogICAgICAgICAgICAgICAgWzQwLjU0MjgxMTk5MjQxMzE2LC03NC4yMDYzMDg0MjQ0NzI4MV0sCiAgICAgICAgICAgICAgICB7CiAgImJ1YmJsaW5nTW91c2VFdmVudHMiOiB0cnVlLAogICJjb2xvciI6ICJibHVlIiwKICAiZGFzaEFycmF5IjogbnVsbCwKICAiZGFzaE9mZnNldCI6IG51bGwsCiAgImZpbGwiOiB0cnVlLAogICJmaWxsQ29sb3IiOiAieWVsbG93IiwKICAiZmlsbE9wYWNpdHkiOiAwLjEsCiAgImZpbGxSdWxlIjogImV2ZW5vZGQiLAogICJsaW5lQ2FwIjogInJvdW5kIiwKICAibGluZUpvaW4iOiAicm91bmQiLAogICJvcGFjaXR5IjogMS4wLAogICJyYWRpdXMiOiA1LAogICJzdHJva2UiOiB0cnVlLAogICJ3ZWlnaHQiOiAzCn0KICAgICAgICAgICAgICAgICkuYWRkVG8oZmVhdHVyZV9ncm91cF9jOGZiMDFjOWNmNDk0ZjgyODQ3NDY5NmEwNTVkMzY4OSk7CiAgICAgICAgICAgIAogICAgCiAgICAgICAgICAgIHZhciBjaXJjbGVfbWFya2VyXzA3YzQ5YTBjY2Y1YTRjNmI4Yjg1NmUxNjYzOTBhZTc1ID0gTC5jaXJjbGVNYXJrZXIoCiAgICAgICAgICAgICAgICBbNDAuNTk5MTU0Mzk5OTk5OTk2LC03NC4wODE2ODMwOTk5OTk5OV0sCiAgICAgICAgICAgICAgICB7CiAgImJ1YmJsaW5nTW91c2VFdmVudHMiOiB0cnVlLAogICJjb2xvciI6ICJibHVlIiwKICAiZGFzaEFycmF5IjogbnVsbCwKICAiZGFzaE9mZnNldCI6IG51bGwsCiAgImZpbGwiOiB0cnVlLAogICJmaWxsQ29sb3IiOiAieWVsbG93IiwKICAiZmlsbE9wYWNpdHkiOiAwLjEsCiAgImZpbGxSdWxlIjogImV2ZW5vZGQiLAogICJsaW5lQ2FwIjogInJvdW5kIiwKICAibGluZUpvaW4iOiAicm91bmQiLAogICJvcGFjaXR5IjogMS4wLAogICJyYWRpdXMiOiA1LAogICJzdHJva2UiOiB0cnVlLAogICJ3ZWlnaHQiOiAzCn0KICAgICAgICAgICAgICAgICkuYWRkVG8oZmVhdHVyZV9ncm91cF9jOGZiMDFjOWNmNDk0ZjgyODQ3NDY5NmEwNTVkMzY4OSk7CiAgICAgICAgICAgIAogICAgCiAgICAgICAgICAgIHZhciBjaXJjbGVfbWFya2VyXzdmNjI0NzhlNmIzMDQ1MTk4NWRjYWYxNDc0MDdmOTU0ID0gTC5jaXJjbGVNYXJrZXIoCiAgICAgICAgICAgICAgICBbNDAuNTk5MTU0Mzk5OTk5OTk2LC03NC4wODE2ODMwOTk5OTk5OV0sCiAgICAgICAgICAgICAgICB7CiAgImJ1YmJsaW5nTW91c2VFdmVudHMiOiB0cnVlLAogICJjb2xvciI6ICJibHVlIiwKICAiZGFzaEFycmF5IjogbnVsbCwKICAiZGFzaE9mZnNldCI6IG51bGwsCiAgImZpbGwiOiB0cnVlLAogICJmaWxsQ29sb3IiOiAieWVsbG93IiwKICAiZmlsbE9wYWNpdHkiOiAwLjEsCiAgImZpbGxSdWxlIjogImV2ZW5vZGQiLAogICJsaW5lQ2FwIjogInJvdW5kIiwKICAibGluZUpvaW4iOiAicm91bmQiLAogICJvcGFjaXR5IjogMS4wLAogICJyYWRpdXMiOiA1LAogICJzdHJva2UiOiB0cnVlLAogICJ3ZWlnaHQiOiAzCn0KICAgICAgICAgICAgICAgICkuYWRkVG8oZmVhdHVyZV9ncm91cF9jOGZiMDFjOWNmNDk0ZjgyODQ3NDY5NmEwNTVkMzY4OSk7CiAgICAgICAgICAgIAogICAgCiAgICAgICAgICAgIHZhciBjaXJjbGVfbWFya2VyX2U0NjUzMWY2NDc1NzRiYTg5ZGEwZWQwMjA4NzI1MjkzID0gTC5jaXJjbGVNYXJrZXIoCiAgICAgICAgICAgICAgICBbNDAuNTk5MTU0Mzk5OTk5OTk2LC03NC4wODE2ODMwOTk5OTk5OV0sCiAgICAgICAgICAgICAgICB7CiAgImJ1YmJsaW5nTW91c2VFdmVudHMiOiB0cnVlLAogICJjb2xvciI6ICJibHVlIiwKICAiZGFzaEFycmF5IjogbnVsbCwKICAiZGFzaE9mZnNldCI6IG51bGwsCiAgImZpbGwiOiB0cnVlLAogICJmaWxsQ29sb3IiOiAieWVsbG93IiwKICAiZmlsbE9wYWNpdHkiOiAwLjEsCiAgImZpbGxSdWxlIjogImV2ZW5vZGQiLAogICJsaW5lQ2FwIjogInJvdW5kIiwKICAibGluZUpvaW4iOiAicm91bmQiLAogICJvcGFjaXR5IjogMS4wLAogICJyYWRpdXMiOiA1LAogICJzdHJva2UiOiB0cnVlLAogICJ3ZWlnaHQiOiAzCn0KICAgICAgICAgICAgICAgICkuYWRkVG8oZmVhdHVyZV9ncm91cF9jOGZiMDFjOWNmNDk0ZjgyODQ3NDY5NmEwNTVkMzY4OSk7CiAgICAgICAgICAgIAogICAgCiAgICAgICAgICAgIHZhciBjaXJjbGVfbWFya2VyXzBkMDZlNjBlYmE2ZjRhNjdhZTljNDFjNjU5Yzg2ZGU4ID0gTC5jaXJjbGVNYXJrZXIoCiAgICAgICAgICAgICAgICBbNDAuNTk5MTU0Mzk5OTk5OTk2LC03NC4wODE2ODMwOTk5OTk5OV0sCiAgICAgICAgICAgICAgICB7CiAgImJ1YmJsaW5nTW91c2VFdmVudHMiOiB0cnVlLAogICJjb2xvciI6ICJibHVlIiwKICAiZGFzaEFycmF5IjogbnVsbCwKICAiZGFzaE9mZnNldCI6IG51bGwsCiAgImZpbGwiOiB0cnVlLAogICJmaWxsQ29sb3IiOiAieWVsbG93IiwKICAiZmlsbE9wYWNpdHkiOiAwLjEsCiAgImZpbGxSdWxlIjogImV2ZW5vZGQiLAogICJsaW5lQ2FwIjogInJvdW5kIiwKICAibGluZUpvaW4iOiAicm91bmQiLAogICJvcGFjaXR5IjogMS4wLAogICJyYWRpdXMiOiA1LAogICJzdHJva2UiOiB0cnVlLAogICJ3ZWlnaHQiOiAzCn0KICAgICAgICAgICAgICAgICkuYWRkVG8oZmVhdHVyZV9ncm91cF9jOGZiMDFjOWNmNDk0ZjgyODQ3NDY5NmEwNTVkMzY4OSk7CiAgICAgICAgICAgIAogICAgCiAgICAgICAgICAgIHZhciBjaXJjbGVfbWFya2VyX2I1OThkMjJkNjc5YjRiNTk5N2QxNmI5NTRmNjEwYmUwID0gTC5jaXJjbGVNYXJrZXIoCiAgICAgICAgICAgICAgICBbNDAuNTk1NDk3MDk2NzMzMDIsLTc0LjA4NjQ0NTIyOTYzMjA2XSwKICAgICAgICAgICAgICAgIHsKICAiYnViYmxpbmdNb3VzZUV2ZW50cyI6IHRydWUsCiAgImNvbG9yIjogImJsdWUiLAogICJkYXNoQXJyYXkiOiBudWxsLAogICJkYXNoT2Zmc2V0IjogbnVsbCwKICAiZmlsbCI6IHRydWUsCiAgImZpbGxDb2xvciI6ICJ5ZWxsb3ciLAogICJmaWxsT3BhY2l0eSI6IDAuMSwKICAiZmlsbFJ1bGUiOiAiZXZlbm9kZCIsCiAgImxpbmVDYXAiOiAicm91bmQiLAogICJsaW5lSm9pbiI6ICJyb3VuZCIsCiAgIm9wYWNpdHkiOiAxLjAsCiAgInJhZGl1cyI6IDUsCiAgInN0cm9rZSI6IHRydWUsCiAgIndlaWdodCI6IDMKfQogICAgICAgICAgICAgICAgKS5hZGRUbyhmZWF0dXJlX2dyb3VwX2M4ZmIwMWM5Y2Y0OTRmODI4NDc0Njk2YTA1NWQzNjg5KTsKICAgICAgICAgICAgCiAgICAKICAgICAgICAgICAgdmFyIGNpcmNsZV9tYXJrZXJfNWNjY2NiZmI0N2I3NGZmYzgxYTQ4ZTBiNTJlNDZlM2QgPSBMLmNpcmNsZU1hcmtlcigKICAgICAgICAgICAgICAgIFs0MC41ODY0MTc2MDAwMDAwMDQsLTc0LjA5MjY5NTU5OTk5OTk4XSwKICAgICAgICAgICAgICAgIHsKICAiYnViYmxpbmdNb3VzZUV2ZW50cyI6IHRydWUsCiAgImNvbG9yIjogImJsdWUiLAogICJkYXNoQXJyYXkiOiBudWxsLAogICJkYXNoT2Zmc2V0IjogbnVsbCwKICAiZmlsbCI6IHRydWUsCiAgImZpbGxDb2xvciI6ICJ5ZWxsb3ciLAogICJmaWxsT3BhY2l0eSI6IDAuMSwKICAiZmlsbFJ1bGUiOiAiZXZlbm9kZCIsCiAgImxpbmVDYXAiOiAicm91bmQiLAogICJsaW5lSm9pbiI6ICJyb3VuZCIsCiAgIm9wYWNpdHkiOiAxLjAsCiAgInJhZGl1cyI6IDUsCiAgInN0cm9rZSI6IHRydWUsCiAgIndlaWdodCI6IDMKfQogICAgICAgICAgICAgICAgKS5hZGRUbyhmZWF0dXJlX2dyb3VwX2M4ZmIwMWM5Y2Y0OTRmODI4NDc0Njk2YTA1NWQzNjg5KTsKICAgICAgICAgICAgCiAgICAKICAgICAgICAgICAgdmFyIGNpcmNsZV9tYXJrZXJfNjZhZDdiYWM1YzBiNDRmMDg2YzlkZjQzODQ1MmJhNGQgPSBMLmNpcmNsZU1hcmtlcigKICAgICAgICAgICAgICAgIFs0MC41OTE1ODE1MDAwMDAwMDQsLTc0LjE2MzQyMzA5OTk5OTk5XSwKICAgICAgICAgICAgICAgIHsKICAiYnViYmxpbmdNb3VzZUV2ZW50cyI6IHRydWUsCiAgImNvbG9yIjogImJsdWUiLAogICJkYXNoQXJyYXkiOiBudWxsLAogICJkYXNoT2Zmc2V0IjogbnVsbCwKICAiZmlsbCI6IHRydWUsCiAgImZpbGxDb2xvciI6ICJ5ZWxsb3ciLAogICJmaWxsT3BhY2l0eSI6IDAuMSwKICAiZmlsbFJ1bGUiOiAiZXZlbm9kZCIsCiAgImxpbmVDYXAiOiAicm91bmQiLAogICJsaW5lSm9pbiI6ICJyb3VuZCIsCiAgIm9wYWNpdHkiOiAxLjAsCiAgInJhZGl1cyI6IDUsCiAgInN0cm9rZSI6IHRydWUsCiAgIndlaWdodCI6IDMKfQogICAgICAgICAgICAgICAgKS5hZGRUbyhmZWF0dXJlX2dyb3VwX2M4ZmIwMWM5Y2Y0OTRmODI4NDc0Njk2YTA1NWQzNjg5KTsKICAgICAgICAgICAgCiAgICAKICAgICAgICAgICAgdmFyIGNpcmNsZV9tYXJrZXJfMWNiZjdjZWU4Y2QzNDJmNThhODlmMzIyNDhkMjU2MjMgPSBMLmNpcmNsZU1hcmtlcigKICAgICAgICAgICAgICAgIFs0MC42MTAxMDI2MDAwMDAwMDUsLTc0LjE1OTc3MTNdLAogICAgICAgICAgICAgICAgewogICJidWJibGluZ01vdXNlRXZlbnRzIjogdHJ1ZSwKICAiY29sb3IiOiAiYmx1ZSIsCiAgImRhc2hBcnJheSI6IG51bGwsCiAgImRhc2hPZmZzZXQiOiBudWxsLAogICJmaWxsIjogdHJ1ZSwKICAiZmlsbENvbG9yIjogInllbGxvdyIsCiAgImZpbGxPcGFjaXR5IjogMC4xLAogICJmaWxsUnVsZSI6ICJldmVub2RkIiwKICAibGluZUNhcCI6ICJyb3VuZCIsCiAgImxpbmVKb2luIjogInJvdW5kIiwKICAib3BhY2l0eSI6IDEuMCwKICAicmFkaXVzIjogNSwKICAic3Ryb2tlIjogdHJ1ZSwKICAid2VpZ2h0IjogMwp9CiAgICAgICAgICAgICAgICApLmFkZFRvKGZlYXR1cmVfZ3JvdXBfYzhmYjAxYzljZjQ5NGY4Mjg0NzQ2OTZhMDU1ZDM2ODkpOwogICAgICAgICAgICAKICAgIAogICAgICAgICAgICB2YXIgY2lyY2xlX21hcmtlcl9jODQ1N2Y1YTE5ZmU0ZTliYjM1NTJmYjk2NmJjZmYxYyA9IEwuY2lyY2xlTWFya2VyKAogICAgICAgICAgICAgICAgWzQwLjY1MzgzMDE4MzIzNjI0LC03My45MTE1ODE5NTUyNTg4NV0sCiAgICAgICAgICAgICAgICB7CiAgImJ1YmJsaW5nTW91c2VFdmVudHMiOiB0cnVlLAogICJjb2xvciI6ICJibHVlIiwKICAiZGFzaEFycmF5IjogbnVsbCwKICAiZGFzaE9mZnNldCI6IG51bGwsCiAgImZpbGwiOiB0cnVlLAogICJmaWxsQ29sb3IiOiAieWVsbG93IiwKICAiZmlsbE9wYWNpdHkiOiAwLjEsCiAgImZpbGxSdWxlIjogImV2ZW5vZGQiLAogICJsaW5lQ2FwIjogInJvdW5kIiwKICAibGluZUpvaW4iOiAicm91bmQiLAogICJvcGFjaXR5IjogMS4wLAogICJyYWRpdXMiOiA1LAogICJzdHJva2UiOiB0cnVlLAogICJ3ZWlnaHQiOiAzCn0KICAgICAgICAgICAgICAgICkuYWRkVG8oZmVhdHVyZV9ncm91cF9jOGZiMDFjOWNmNDk0ZjgyODQ3NDY5NmEwNTVkMzY4OSk7CiAgICAgICAgICAgIAogICAgCiAgICAgICAgICAgIHZhciBjaXJjbGVfbWFya2VyXzdhNDc4ZGQyM2QyNjQ2M2RiYTVmNTg3NWZjODI5ZGIxID0gTC5jaXJjbGVNYXJrZXIoCiAgICAgICAgICAgICAgICBbNDAuNzQ0MDU2Nzk5OTk5OTk2LC03My45MTQ0NjVdLAogICAgICAgICAgICAgICAgewogICJidWJibGluZ01vdXNlRXZlbnRzIjogdHJ1ZSwKICAiY29sb3IiOiAiYmx1ZSIsCiAgImRhc2hBcnJheSI6IG51bGwsCiAgImRhc2hPZmZzZXQiOiBudWxsLAogICJmaWxsIjogdHJ1ZSwKICAiZmlsbENvbG9yIjogInllbGxvdyIsCiAgImZpbGxPcGFjaXR5IjogMC4xLAogICJmaWxsUnVsZSI6ICJldmVub2RkIiwKICAibGluZUNhcCI6ICJyb3VuZCIsCiAgImxpbmVKb2luIjogInJvdW5kIiwKICAib3BhY2l0eSI6IDEuMCwKICAicmFkaXVzIjogNSwKICAic3Ryb2tlIjogdHJ1ZSwKICAid2VpZ2h0IjogMwp9CiAgICAgICAgICAgICAgICApLmFkZFRvKGZlYXR1cmVfZ3JvdXBfYzhmYjAxYzljZjQ5NGY4Mjg0NzQ2OTZhMDU1ZDM2ODkpOwogICAgICAgICAgICAKICAgIAogICAgICAgICAgICB2YXIgY2lyY2xlX21hcmtlcl9hMmFlMDBkNGYwMzM0Mzc3YTUyNTgyMGRhZWZhNmM2NSA9IEwuY2lyY2xlTWFya2VyKAogICAgICAgICAgICAgICAgWzQwLjYwMzU1OTAwMDAwMDAwNCwtNzQuMTIwMjQyNDAwMDAwMDFdLAogICAgICAgICAgICAgICAgewogICJidWJibGluZ01vdXNlRXZlbnRzIjogdHJ1ZSwKICAiY29sb3IiOiAiYmx1ZSIsCiAgImRhc2hBcnJheSI6IG51bGwsCiAgImRhc2hPZmZzZXQiOiBudWxsLAogICJmaWxsIjogdHJ1ZSwKICAiZmlsbENvbG9yIjogInllbGxvdyIsCiAgImZpbGxPcGFjaXR5IjogMC4xLAogICJmaWxsUnVsZSI6ICJldmVub2RkIiwKICAibGluZUNhcCI6ICJyb3VuZCIsCiAgImxpbmVKb2luIjogInJvdW5kIiwKICAib3BhY2l0eSI6IDEuMCwKICAicmFkaXVzIjogNSwKICAic3Ryb2tlIjogdHJ1ZSwKICAid2VpZ2h0IjogMwp9CiAgICAgICAgICAgICAgICApLmFkZFRvKGZlYXR1cmVfZ3JvdXBfYzhmYjAxYzljZjQ5NGY4Mjg0NzQ2OTZhMDU1ZDM2ODkpOwogICAgICAgICAgICAKICAgIAogICAgICAgICAgICB2YXIgY2lyY2xlX21hcmtlcl85NTQyM2JmOGVmZWY0ZDBjOGU2NzU4NDlkNmU2NDk1OSA9IEwuY2lyY2xlTWFya2VyKAogICAgICAgICAgICAgICAgWzQwLjYwMzU1OTAwMDAwMDAwNCwtNzQuMTIwMjQyNDAwMDAwMDFdLAogICAgICAgICAgICAgICAgewogICJidWJibGluZ01vdXNlRXZlbnRzIjogdHJ1ZSwKICAiY29sb3IiOiAiYmx1ZSIsCiAgImRhc2hBcnJheSI6IG51bGwsCiAgImRhc2hPZmZzZXQiOiBudWxsLAogICJmaWxsIjogdHJ1ZSwKICAiZmlsbENvbG9yIjogInllbGxvdyIsCiAgImZpbGxPcGFjaXR5IjogMC4xLAogICJmaWxsUnVsZSI6ICJldmVub2RkIiwKICAibGluZUNhcCI6ICJyb3VuZCIsCiAgImxpbmVKb2luIjogInJvdW5kIiwKICAib3BhY2l0eSI6IDEuMCwKICAicmFkaXVzIjogNSwKICAic3Ryb2tlIjogdHJ1ZSwKICAid2VpZ2h0IjogMwp9CiAgICAgICAgICAgICAgICApLmFkZFRvKGZlYXR1cmVfZ3JvdXBfYzhmYjAxYzljZjQ5NGY4Mjg0NzQ2OTZhMDU1ZDM2ODkpOwogICAgICAgICAgICAKICAgIAogICAgICAgICAgICB2YXIgY2lyY2xlX21hcmtlcl9kNzBiYTRmOGEwZWI0MmU5YWE5MDJiNDI0NWI1ZDBjYyA9IEwuY2lyY2xlTWFya2VyKAogICAgICAgICAgICAgICAgWzQwLjYwMzU1OTAwMDAwMDAwNCwtNzQuMTIwMjQyNDAwMDAwMDFdLAogICAgICAgICAgICAgICAgewogICJidWJibGluZ01vdXNlRXZlbnRzIjogdHJ1ZSwKICAiY29sb3IiOiAiYmx1ZSIsCiAgImRhc2hBcnJheSI6IG51bGwsCiAgImRhc2hPZmZzZXQiOiBudWxsLAogICJmaWxsIjogdHJ1ZSwKICAiZmlsbENvbG9yIjogInllbGxvdyIsCiAgImZpbGxPcGFjaXR5IjogMC4xLAogICJmaWxsUnVsZSI6ICJldmVub2RkIiwKICAibGluZUNhcCI6ICJyb3VuZCIsCiAgImxpbmVKb2luIjogInJvdW5kIiwKICAib3BhY2l0eSI6IDEuMCwKICAicmFkaXVzIjogNSwKICAic3Ryb2tlIjogdHJ1ZSwKICAid2VpZ2h0IjogMwp9CiAgICAgICAgICAgICAgICApLmFkZFRvKGZlYXR1cmVfZ3JvdXBfYzhmYjAxYzljZjQ5NGY4Mjg0NzQ2OTZhMDU1ZDM2ODkpOwogICAgICAgICAgICAKICAgIAogICAgICAgICAgICB2YXIgY2lyY2xlX21hcmtlcl9iMzk4NmE2MGU0Mzc0NGVlYjlkZGRiOTljOGYxZGEzYSA9IEwuY2lyY2xlTWFya2VyKAogICAgICAgICAgICAgICAgWzQwLjU5OTAwMTA0OTUzNTM5NiwtNzMuOTU2NzQwOTQ1NTc3NjJdLAogICAgICAgICAgICAgICAgewogICJidWJibGluZ01vdXNlRXZlbnRzIjogdHJ1ZSwKICAiY29sb3IiOiAiYmx1ZSIsCiAgImRhc2hBcnJheSI6IG51bGwsCiAgImRhc2hPZmZzZXQiOiBudWxsLAogICJmaWxsIjogdHJ1ZSwKICAiZmlsbENvbG9yIjogInllbGxvdyIsCiAgImZpbGxPcGFjaXR5IjogMC4xLAogICJmaWxsUnVsZSI6ICJldmVub2RkIiwKICAibGluZUNhcCI6ICJyb3VuZCIsCiAgImxpbmVKb2luIjogInJvdW5kIiwKICAib3BhY2l0eSI6IDEuMCwKICAicmFkaXVzIjogNSwKICAic3Ryb2tlIjogdHJ1ZSwKICAid2VpZ2h0IjogMwp9CiAgICAgICAgICAgICAgICApLmFkZFRvKGZlYXR1cmVfZ3JvdXBfYzhmYjAxYzljZjQ5NGY4Mjg0NzQ2OTZhMDU1ZDM2ODkpOwogICAgICAgICAgICAKICAgIAogICAgICAgICAgICB2YXIgY2lyY2xlX21hcmtlcl9lNGVlY2I5ZTBlNGY0MTljOWRhZWEyZTYwZTdjNDFmMyA9IEwuY2lyY2xlTWFya2VyKAogICAgICAgICAgICAgICAgWzQwLjU5OTAwMTA0OTUzNTM5NiwtNzMuOTU2NzQwOTQ1NTc3NjJdLAogICAgICAgICAgICAgICAgewogICJidWJibGluZ01vdXNlRXZlbnRzIjogdHJ1ZSwKICAiY29sb3IiOiAiYmx1ZSIsCiAgImRhc2hBcnJheSI6IG51bGwsCiAgImRhc2hPZmZzZXQiOiBudWxsLAogICJmaWxsIjogdHJ1ZSwKICAiZmlsbENvbG9yIjogInllbGxvdyIsCiAgImZpbGxPcGFjaXR5IjogMC4xLAogICJmaWxsUnVsZSI6ICJldmVub2RkIiwKICAibGluZUNhcCI6ICJyb3VuZCIsCiAgImxpbmVKb2luIjogInJvdW5kIiwKICAib3BhY2l0eSI6IDEuMCwKICAicmFkaXVzIjogNSwKICAic3Ryb2tlIjogdHJ1ZSwKICAid2VpZ2h0IjogMwp9CiAgICAgICAgICAgICAgICApLmFkZFRvKGZlYXR1cmVfZ3JvdXBfYzhmYjAxYzljZjQ5NGY4Mjg0NzQ2OTZhMDU1ZDM2ODkpOwogICAgICAgICAgICAKICAgIAogICAgICAgICAgICB2YXIgY2lyY2xlX21hcmtlcl9iNDY5OGIyODAxMWE0MzI2OTcyODBkZGY0YmU5N2M4MiA9IEwuY2lyY2xlTWFya2VyKAogICAgICAgICAgICAgICAgWzQwLjcxMjkwNDYwMjQzNDI2LC03My44NzgwMjI2ODM5NDg4NF0sCiAgICAgICAgICAgICAgICB7CiAgImJ1YmJsaW5nTW91c2VFdmVudHMiOiB0cnVlLAogICJjb2xvciI6ICJibHVlIiwKICAiZGFzaEFycmF5IjogbnVsbCwKICAiZGFzaE9mZnNldCI6IG51bGwsCiAgImZpbGwiOiB0cnVlLAogICJmaWxsQ29sb3IiOiAieWVsbG93IiwKICAiZmlsbE9wYWNpdHkiOiAwLjEsCiAgImZpbGxSdWxlIjogImV2ZW5vZGQiLAogICJsaW5lQ2FwIjogInJvdW5kIiwKICAibGluZUpvaW4iOiAicm91bmQiLAogICJvcGFjaXR5IjogMS4wLAogICJyYWRpdXMiOiA1LAogICJzdHJva2UiOiB0cnVlLAogICJ3ZWlnaHQiOiAzCn0KICAgICAgICAgICAgICAgICkuYWRkVG8oZmVhdHVyZV9ncm91cF9jOGZiMDFjOWNmNDk0ZjgyODQ3NDY5NmEwNTVkMzY4OSk7CiAgICAgICAgICAgIAogICAgCiAgICAgICAgICAgIHZhciBjaXJjbGVfbWFya2VyXzMyNDRlNmE1NjE1NzRjMWFhOGEzOGE0MzU1ZDIzMDA5ID0gTC5jaXJjbGVNYXJrZXIoCiAgICAgICAgICAgICAgICBbNDAuODY1OTQ5LC03My44NjA5MjJdLAogICAgICAgICAgICAgICAgewogICJidWJibGluZ01vdXNlRXZlbnRzIjogdHJ1ZSwKICAiY29sb3IiOiAiYmx1ZSIsCiAgImRhc2hBcnJheSI6IG51bGwsCiAgImRhc2hPZmZzZXQiOiBudWxsLAogICJmaWxsIjogdHJ1ZSwKICAiZmlsbENvbG9yIjogInllbGxvdyIsCiAgImZpbGxPcGFjaXR5IjogMC4xLAogICJmaWxsUnVsZSI6ICJldmVub2RkIiwKICAibGluZUNhcCI6ICJyb3VuZCIsCiAgImxpbmVKb2luIjogInJvdW5kIiwKICAib3BhY2l0eSI6IDEuMCwKICAicmFkaXVzIjogNSwKICAic3Ryb2tlIjogdHJ1ZSwKICAid2VpZ2h0IjogMwp9CiAgICAgICAgICAgICAgICApLmFkZFRvKGZlYXR1cmVfZ3JvdXBfYzhmYjAxYzljZjQ5NGY4Mjg0NzQ2OTZhMDU1ZDM2ODkpOwogICAgICAgICAgICAKPC9zY3JpcHQ+ onload=\"this.contentDocument.open();this.contentDocument.write(atob(this.getAttribute('data-html')));this.contentDocument.close();\" allowfullscreen webkitallowfullscreen mozallowfullscreen></iframe></div></div>"
      ],
      "text/plain": [
       "<folium.folium.Map at 0x7f3981865e48>"
      ]
     },
     "execution_count": 112,
     "metadata": {},
     "output_type": "execute_result"
    }
   ],
   "source": [
    "# adding pop-up text to each marker on the map\n",
    "for lat, lng, PharmacyID in FactoryData[['Pharmacy Latitude','Pharmacy Longitude','PharmacyID']].values:\n",
    "    folium.Marker([lat, lng], popup=PharmacyID).add_to(ny_map2)        \n",
    "# add incidents to map\n",
    "ny_map2.add_child(Pharmacies2)"
   ]
  },
  {
   "cell_type": "markdown",
   "metadata": {},
   "source": [
    "## The locations Plotted on the Map Were Obtained from K-means Clustering Algorithm\n",
    "Factory location 1 (Blue) = Seaview Ave, Brooklyn\\\n",
    "Factory location 2 (Red) = Wetchester Ave, Bronx\\\n",
    "Factory location 3 (Green) = Yellow trail, Staten Island\n",
    "\n",
    "# The results of this clustering method are compared with all of the exploratory analysis to choose the best location to build a pharmaceutical factory, the second and third best locations are also given with business motivation. See the discussion and conclusion in the report section attached to this repository."
   ]
  },
  {
   "cell_type": "markdown",
   "metadata": {},
   "source": [
    "# --------------------------------------------------------Thank You!----------------------------------------"
   ]
  }
 ],
 "metadata": {
  "kernelspec": {
   "display_name": "Python",
   "language": "python",
   "name": "conda-env-python-py"
  },
  "language_info": {
   "codemirror_mode": {
    "name": "ipython",
    "version": 3
   },
   "file_extension": ".py",
   "mimetype": "text/x-python",
   "name": "python",
   "nbconvert_exporter": "python",
   "pygments_lexer": "ipython3",
   "version": "3.6.10"
  }
 },
 "nbformat": 4,
 "nbformat_minor": 4
}
